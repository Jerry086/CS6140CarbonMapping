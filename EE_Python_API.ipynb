{
  "cells": [
    {
      "cell_type": "markdown",
      "metadata": {
        "id": "view-in-github",
        "colab_type": "text"
      },
      "source": [
        "<a href=\"https://colab.research.google.com/github/Jerry086/CS6140CarbonMapping/blob/main/EE_Python_API.ipynb\" target=\"_parent\"><img src=\"https://colab.research.google.com/assets/colab-badge.svg\" alt=\"Open In Colab\"/></a>"
      ]
    },
    {
      "cell_type": "markdown",
      "metadata": {
        "id": "EUpzfef3quYi"
      },
      "source": [
        "# Forest Carbon Mapping"
      ]
    },
    {
      "cell_type": "markdown",
      "metadata": {
        "id": "Z-hK3sO_XwcR"
      },
      "source": [
        "## Setting Up Enviornment"
      ]
    },
    {
      "cell_type": "markdown",
      "source": [
        "Mount Google Drive to the Colab VM"
      ],
      "metadata": {
        "id": "5S4XfKAzbBEA"
      }
    },
    {
      "cell_type": "code",
      "source": [
        "# mount google drive if dataset is saved in it\n",
        "# skip the code if dataset is uploaded or downloaded from google cloud\n",
        "from google.colab import drive\n",
        "drive.mount('/content/drive')"
      ],
      "metadata": {
        "colab": {
          "base_uri": "https://localhost:8080/"
        },
        "id": "3EcsqT7R8JNP",
        "outputId": "fa3f4659-0367-4602-b9f4-cc46122cad04"
      },
      "execution_count": 5,
      "outputs": [
        {
          "output_type": "stream",
          "name": "stdout",
          "text": [
            "Drive already mounted at /content/drive; to attempt to forcibly remount, call drive.mount(\"/content/drive\", force_remount=True).\n"
          ]
        }
      ]
    },
    {
      "cell_type": "markdown",
      "source": [
        "Authenticate google cloud account"
      ],
      "metadata": {
        "id": "oECLbVFhcGuE"
      }
    },
    {
      "cell_type": "code",
      "source": [
        "# authenticate google cloud if dataset is saved in it\n",
        "# TODO: deploy T4 GPU on google cloud\n",
        "from google.colab import auth\n",
        "auth.authenticate_user()"
      ],
      "metadata": {
        "id": "KacxsOvxcMMF"
      },
      "execution_count": 34,
      "outputs": []
    },
    {
      "cell_type": "markdown",
      "metadata": {
        "id": "TDunjJcBZGFB"
      },
      "source": [
        "Authenticate and authorize access to Earth Engine."
      ]
    },
    {
      "cell_type": "code",
      "source": [
        "# Import, authenticate and initialize the Earth Engine library.\n",
        "import ee\n",
        "ee.Authenticate()\n",
        "ee.Initialize()"
      ],
      "metadata": {
        "colab": {
          "base_uri": "https://localhost:8080/"
        },
        "id": "EWK3h38Mcnn7",
        "outputId": "1149267e-d3f4-4516-f5f2-20317328cf17"
      },
      "execution_count": 6,
      "outputs": [
        {
          "output_type": "stream",
          "name": "stdout",
          "text": [
            "To authorize access needed by Earth Engine, open the following URL in a web browser and follow the instructions. If the web browser does not start automatically, please manually browse the URL below.\n",
            "\n",
            "    https://code.earthengine.google.com/client-auth?scopes=https%3A//www.googleapis.com/auth/earthengine%20https%3A//www.googleapis.com/auth/devstorage.full_control&request_id=46Gd_hSg2_Kkp-4uFC_fhmtyx961mJRJzqlDlewsaKo&tc=B_mYTzOeav-HSqtm958FPsa86_eTxaranDB0c8c9tzQ&cc=pjaNmgqiuuTR-SBhLu_6cw_sg2gyEhyabrh6RdSNXts\n",
            "\n",
            "The authorization workflow will generate a code, which you should paste in the box below.\n",
            "Enter verification code: 4/1Adeu5BUiLVu5q3T-cU2tk3iYRUnGbmhstzF54WME1wiGmVCzJ-czHOgNk2s\n",
            "\n",
            "Successfully saved authorization token.\n"
          ]
        }
      ]
    },
    {
      "cell_type": "markdown",
      "metadata": {
        "id": "OFMJrbt8rZ9z"
      },
      "source": [
        "## Install & import Python packages\n",
        "\n"
      ]
    },
    {
      "cell_type": "markdown",
      "metadata": {
        "id": "MoUgp_unsCfZ"
      },
      "source": [
        "Import Python packages used throughout this notebook."
      ]
    },
    {
      "cell_type": "code",
      "source": [
        "# Folium setup.\n",
        "import folium\n",
        "print(folium.__version__)"
      ],
      "metadata": {
        "colab": {
          "base_uri": "https://localhost:8080/"
        },
        "id": "YYZur_13fU6N",
        "outputId": "a525582b-b61c-4846-f22d-08ad76bf89c9"
      },
      "execution_count": 13,
      "outputs": [
        {
          "output_type": "stream",
          "name": "stdout",
          "text": [
            "0.14.0\n"
          ]
        }
      ]
    },
    {
      "cell_type": "code",
      "source": [
        "# Tensorflow setup.\n",
        "import tensorflow as tf\n",
        "print(tf.__version__)"
      ],
      "metadata": {
        "colab": {
          "base_uri": "https://localhost:8080/"
        },
        "id": "OLPIT3XaqhkY",
        "outputId": "d6f97925-073e-4934-d487-c64cca7997ae"
      },
      "execution_count": 8,
      "outputs": [
        {
          "output_type": "stream",
          "name": "stdout",
          "text": [
            "2.12.0\n"
          ]
        }
      ]
    },
    {
      "cell_type": "markdown",
      "source": [
        "## Set global variables"
      ],
      "metadata": {
        "id": "qEqG89idJjVe"
      }
    },
    {
      "cell_type": "code",
      "source": [
        "# Specify names locations for outputs in Google Drive.\n",
        "# Uncomment the code for Google Drive storage.\n",
        "# FOLDER = 'carbon_mapping'\n",
        "\n",
        "# Specify names locations for outputs in Google Cloud.\n",
        "BUCKET = 'cs6140'\n",
        "FOLDER = 'dataset'\n",
        "TRAINING_BASE = 'training_patches'\n",
        "EVAL_BASE = 'eval_patches'\n",
        "\n",
        "# Specify feature bands to the model and the response variable.\n",
        "# TODO: explore more bands\n",
        "MODIS_BANDS = ['EVI']\n",
        "COPERNICUS_BANDS = ['discrete_classification', 'forest_type']\n",
        "TERRA_BANDS = ['Percent_Tree_Cover', 'Percent_NonTree_Vegetation']\n",
        "BANDS = MODIS_BANDS + COPERNICUS_BANDS + TERRA_BANDS\n",
        "RESPONSE = 'annualNPP'\n",
        "FEATURES = BANDS + [RESPONSE]\n",
        "\n",
        "# Specify the size and shape of patches (256x256 pixels images) expected by the model.\n",
        "KERNEL_SIZE = 256\n",
        "KERNEL_SHAPE = [KERNEL_SIZE, KERNEL_SIZE]\n",
        "\n",
        "# Columns for input features and response\n",
        "COLUMNS = [\n",
        "  # Configuration for parsing a fixed-length input feature.\n",
        "  tf.io.FixedLenFeature(shape=KERNEL_SHAPE, dtype=tf.float32) for k in FEATURES\n",
        "]\n",
        "# Label each column with feature name by dictionary\n",
        "FEATURES_DICT = dict(zip(FEATURES, COLUMNS))\n",
        "\n",
        "# Sizes of the training and evaluation datasets.\n",
        "# TODO: modify as needed\n",
        "TRAIN_SIZE = 10000\n",
        "EVAL_SIZE = 5000\n",
        "\n",
        "# Specify model training parameters.\n",
        "# TODO: modify as needed\n",
        "BATCH_SIZE = 16\n",
        "EPOCHS = 2\n",
        "BUFFER_SIZE = 500\n",
        "OPTIMIZER = 'Adam'\n",
        "LOSS = 'MeanSquaredError'\n",
        "METRICS = ['RootMeanSquaredError']"
      ],
      "metadata": {
        "id": "u-lC2KAKJk6h"
      },
      "execution_count": 35,
      "outputs": []
    },
    {
      "cell_type": "markdown",
      "metadata": {
        "id": "afVIId1ysLYe"
      },
      "source": [
        "# Visualizing Images and Image Bands"
      ]
    },
    {
      "cell_type": "markdown",
      "source": [
        "This research focuses on Forest Carbon Mapping in North America area"
      ],
      "metadata": {
        "id": "CTK7p43wnNQ6"
      }
    },
    {
      "cell_type": "code",
      "source": [
        "# Define the region of interest (ROI)\n",
        "north_america_polygon = ee.Geometry.Polygon([\n",
        "    [-168, 65],  # Northwest corner (top-left)\n",
        "    [-168, 10],  # Southwest corner (bottom-left)\n",
        "    [-52, 10],   # Southeast corner (bottom-right)\n",
        "    [-52, 65],   # Northeast corner (top-right)\n",
        "])"
      ],
      "metadata": {
        "id": "OgBgHP0mnJkD"
      },
      "execution_count": 36,
      "outputs": []
    },
    {
      "cell_type": "code",
      "source": [
        "def reduce_collection(filename):\n",
        "  \"\"\"The filter function.\n",
        "  Filter an image collection to the the year of 2018, region of North America\n",
        "  Reduce temporal data by mean\n",
        "  Args:\n",
        "    filename: dataset filename of the collection.\n",
        "  Returns:\n",
        "    A representative image.\n",
        "  \"\"\"\n",
        "  collection = ee.ImageCollection(filename)\n",
        "  filtered = collection.filterDate('2018-01-01', '2018-12-31')\n",
        "  reduced = filtered.mean().clip(north_america_polygon)\n",
        "  return reduced\n",
        "\n",
        "def normalize_band(image, band):\n",
        "  # normalize image to [0, 1]\n",
        "  image = image.select(band)\n",
        "  stats = image.reduceRegion(\n",
        "      reducer=ee.Reducer.minMax(),\n",
        "      geometry=north_america_polygon,\n",
        "      scale=250,\n",
        "      bestEffort=True\n",
        "  ).getInfo()\n",
        "  print(stats)\n",
        "  min, max = stats[band + '_min'], stats[band + '_max']\n",
        "  normalized = image.unitScale(min, max)\n",
        "  return normalized"
      ],
      "metadata": {
        "id": "SIh7AhUn6oU1"
      },
      "execution_count": 37,
      "outputs": []
    },
    {
      "cell_type": "markdown",
      "source": [
        "NDVI and EVI bands from [MOD13Q1.061 Terra Vegetation Indices 16-Day Global 250m](https://developers.google.com/earth-engine/datasets/catalog/MODIS_061_MOD13Q1#bands)."
      ],
      "metadata": {
        "id": "X0D4ebnIm5JZ"
      }
    },
    {
      "cell_type": "code",
      "source": [
        "modis_image = reduce_collection(\"MODIS/061/MOD13Q1\")\n",
        "EVI = normalize_band(modis_image, 'EVI')\n",
        "\n",
        "# Use folium to visualize the image\n",
        "mapid = EVI.getMapId({'bands': ['EVI'], 'min': 0, 'max': 1, 'palette': [\n",
        "    'ffffff', 'ce7e45', 'df923d', 'f1b555', 'fcd163', '99b718', '74a901',\n",
        "    '66a000', '529400', '3e8601', '207401', '056201', '004c00', '023b01',\n",
        "    '012e01', '011d01', '011301'\n",
        "  ]})\n",
        "# Center in Vancouver\n",
        "map = folium.Map(location=[49.2827, -123.1207])\n",
        "folium.TileLayer(\n",
        "    tiles=mapid['tile_fetcher'].url_format,\n",
        "    attr='Map Data &copy; <a href=\"https://earthengine.google.com/\">Google Earth Engine</a>',\n",
        "    overlay=True,\n",
        "    name='EVI',\n",
        "  ).add_to(map)\n",
        "map.add_child(folium.LayerControl())\n",
        "map"
      ],
      "metadata": {
        "colab": {
          "base_uri": "https://localhost:8080/",
          "height": 875
        },
        "id": "yXH0v0pHfX5q",
        "outputId": "7bc398c6-d2b9-41fc-d4f5-6f13e579ef76"
      },
      "execution_count": 14,
      "outputs": [
        {
          "output_type": "stream",
          "name": "stdout",
          "text": [
            "{'EVI_max': 6730.608695652174, 'EVI_min': -1869}\n"
          ]
        },
        {
          "output_type": "execute_result",
          "data": {
            "text/plain": [
              "<folium.folium.Map at 0x7c328d704280>"
            ],
            "text/html": [
              "<div style=\"width:100%;\"><div style=\"position:relative;width:100%;height:0;padding-bottom:60%;\"><span style=\"color:#565656\">Make this Notebook Trusted to load map: File -> Trust Notebook</span><iframe srcdoc=\"&lt;!DOCTYPE html&gt;\n",
              "&lt;html&gt;\n",
              "&lt;head&gt;\n",
              "    \n",
              "    &lt;meta http-equiv=&quot;content-type&quot; content=&quot;text/html; charset=UTF-8&quot; /&gt;\n",
              "    \n",
              "        &lt;script&gt;\n",
              "            L_NO_TOUCH = false;\n",
              "            L_DISABLE_3D = false;\n",
              "        &lt;/script&gt;\n",
              "    \n",
              "    &lt;style&gt;html, body {width: 100%;height: 100%;margin: 0;padding: 0;}&lt;/style&gt;\n",
              "    &lt;style&gt;#map {position:absolute;top:0;bottom:0;right:0;left:0;}&lt;/style&gt;\n",
              "    &lt;script src=&quot;https://cdn.jsdelivr.net/npm/leaflet@1.9.3/dist/leaflet.js&quot;&gt;&lt;/script&gt;\n",
              "    &lt;script src=&quot;https://code.jquery.com/jquery-1.12.4.min.js&quot;&gt;&lt;/script&gt;\n",
              "    &lt;script src=&quot;https://cdn.jsdelivr.net/npm/bootstrap@5.2.2/dist/js/bootstrap.bundle.min.js&quot;&gt;&lt;/script&gt;\n",
              "    &lt;script src=&quot;https://cdnjs.cloudflare.com/ajax/libs/Leaflet.awesome-markers/2.0.2/leaflet.awesome-markers.js&quot;&gt;&lt;/script&gt;\n",
              "    &lt;link rel=&quot;stylesheet&quot; href=&quot;https://cdn.jsdelivr.net/npm/leaflet@1.9.3/dist/leaflet.css&quot;/&gt;\n",
              "    &lt;link rel=&quot;stylesheet&quot; href=&quot;https://cdn.jsdelivr.net/npm/bootstrap@5.2.2/dist/css/bootstrap.min.css&quot;/&gt;\n",
              "    &lt;link rel=&quot;stylesheet&quot; href=&quot;https://netdna.bootstrapcdn.com/bootstrap/3.0.0/css/bootstrap.min.css&quot;/&gt;\n",
              "    &lt;link rel=&quot;stylesheet&quot; href=&quot;https://cdn.jsdelivr.net/npm/@fortawesome/fontawesome-free@6.2.0/css/all.min.css&quot;/&gt;\n",
              "    &lt;link rel=&quot;stylesheet&quot; href=&quot;https://cdnjs.cloudflare.com/ajax/libs/Leaflet.awesome-markers/2.0.2/leaflet.awesome-markers.css&quot;/&gt;\n",
              "    &lt;link rel=&quot;stylesheet&quot; href=&quot;https://cdn.jsdelivr.net/gh/python-visualization/folium/folium/templates/leaflet.awesome.rotate.min.css&quot;/&gt;\n",
              "    \n",
              "            &lt;meta name=&quot;viewport&quot; content=&quot;width=device-width,\n",
              "                initial-scale=1.0, maximum-scale=1.0, user-scalable=no&quot; /&gt;\n",
              "            &lt;style&gt;\n",
              "                #map_d2791d47cbff435c387d77910220bb82 {\n",
              "                    position: relative;\n",
              "                    width: 100.0%;\n",
              "                    height: 100.0%;\n",
              "                    left: 0.0%;\n",
              "                    top: 0.0%;\n",
              "                }\n",
              "                .leaflet-container { font-size: 1rem; }\n",
              "            &lt;/style&gt;\n",
              "        \n",
              "&lt;/head&gt;\n",
              "&lt;body&gt;\n",
              "    \n",
              "    \n",
              "            &lt;div class=&quot;folium-map&quot; id=&quot;map_d2791d47cbff435c387d77910220bb82&quot; &gt;&lt;/div&gt;\n",
              "        \n",
              "&lt;/body&gt;\n",
              "&lt;script&gt;\n",
              "    \n",
              "    \n",
              "            var map_d2791d47cbff435c387d77910220bb82 = L.map(\n",
              "                &quot;map_d2791d47cbff435c387d77910220bb82&quot;,\n",
              "                {\n",
              "                    center: [49.2827, -123.1207],\n",
              "                    crs: L.CRS.EPSG3857,\n",
              "                    zoom: 10,\n",
              "                    zoomControl: true,\n",
              "                    preferCanvas: false,\n",
              "                }\n",
              "            );\n",
              "\n",
              "            \n",
              "\n",
              "        \n",
              "    \n",
              "            var tile_layer_971de106275c9a2fb2191a3899515bb4 = L.tileLayer(\n",
              "                &quot;https://{s}.tile.openstreetmap.org/{z}/{x}/{y}.png&quot;,\n",
              "                {&quot;attribution&quot;: &quot;Data by \\u0026copy; \\u003ca target=\\&quot;_blank\\&quot; href=\\&quot;http://openstreetmap.org\\&quot;\\u003eOpenStreetMap\\u003c/a\\u003e, under \\u003ca target=\\&quot;_blank\\&quot; href=\\&quot;http://www.openstreetmap.org/copyright\\&quot;\\u003eODbL\\u003c/a\\u003e.&quot;, &quot;detectRetina&quot;: false, &quot;maxNativeZoom&quot;: 18, &quot;maxZoom&quot;: 18, &quot;minZoom&quot;: 0, &quot;noWrap&quot;: false, &quot;opacity&quot;: 1, &quot;subdomains&quot;: &quot;abc&quot;, &quot;tms&quot;: false}\n",
              "            ).addTo(map_d2791d47cbff435c387d77910220bb82);\n",
              "        \n",
              "    \n",
              "            var tile_layer_c4b2f0bd1b219fd7bf46583aa3861148 = L.tileLayer(\n",
              "                &quot;https://earthengine.googleapis.com/v1/projects/earthengine-legacy/maps/256ce66ee492a5d711135ffb0047a6d4-7593186111bb305f6504a889d2375790/tiles/{z}/{x}/{y}&quot;,\n",
              "                {&quot;attribution&quot;: &quot;Map Data \\u0026copy; \\u003ca href=\\&quot;https://earthengine.google.com/\\&quot;\\u003eGoogle Earth Engine\\u003c/a\\u003e&quot;, &quot;detectRetina&quot;: false, &quot;maxNativeZoom&quot;: 18, &quot;maxZoom&quot;: 18, &quot;minZoom&quot;: 0, &quot;noWrap&quot;: false, &quot;opacity&quot;: 1, &quot;subdomains&quot;: &quot;abc&quot;, &quot;tms&quot;: false}\n",
              "            ).addTo(map_d2791d47cbff435c387d77910220bb82);\n",
              "        \n",
              "    \n",
              "            var layer_control_4e62588a38baf73ee0e881e5dae68890 = {\n",
              "                base_layers : {\n",
              "                    &quot;openstreetmap&quot; : tile_layer_971de106275c9a2fb2191a3899515bb4,\n",
              "                },\n",
              "                overlays :  {\n",
              "                    &quot;EVI&quot; : tile_layer_c4b2f0bd1b219fd7bf46583aa3861148,\n",
              "                },\n",
              "            };\n",
              "            L.control.layers(\n",
              "                layer_control_4e62588a38baf73ee0e881e5dae68890.base_layers,\n",
              "                layer_control_4e62588a38baf73ee0e881e5dae68890.overlays,\n",
              "                {&quot;autoZIndex&quot;: true, &quot;collapsed&quot;: true, &quot;position&quot;: &quot;topright&quot;}\n",
              "            ).addTo(map_d2791d47cbff435c387d77910220bb82);\n",
              "        \n",
              "&lt;/script&gt;\n",
              "&lt;/html&gt;\" style=\"position:absolute;width:100%;height:100%;left:0;top:0;border:none !important;\" allowfullscreen webkitallowfullscreen mozallowfullscreen></iframe></div></div>"
            ]
          },
          "metadata": {},
          "execution_count": 14
        }
      ]
    },
    {
      "cell_type": "markdown",
      "source": [
        "Discrete_classification, discrete_classification-proba and forest_type bands from [Copernicus Global Land Cover Layers: CGLS-LC100 Collection 3](https://developers.google.com/earth-engine/datasets/catalog/COPERNICUS_Landcover_100m_Proba-V-C3_Global#bands)."
      ],
      "metadata": {
        "id": "qU2mGAA_8n2C"
      }
    },
    {
      "cell_type": "code",
      "source": [
        "copernicus_image = reduce_collection(\"COPERNICUS/Landcover/100m/Proba-V-C3/Global\")\n",
        "discrete_classification = normalize_band(copernicus_image, 'discrete_classification')\n",
        "forest_type = normalize_band(copernicus_image, 'forest_type')\n",
        "\n",
        "# Use folium to visualize the image\n",
        "mapid = discrete_classification.getMapId({'bands': ['discrete_classification'], 'min': 0, 'max': 1})\n",
        "map = folium.Map(location=[49.2827, -123.1207])\n",
        "folium.TileLayer(\n",
        "    tiles=mapid['tile_fetcher'].url_format,\n",
        "    attr='Map Data &copy; <a href=\"https://earthengine.google.com/\">Google Earth Engine</a>',\n",
        "    overlay=True,\n",
        "    name='discrete_classification',\n",
        "  ).add_to(map)\n",
        "\n",
        "mapid = forest_type.getMapId({'bands': ['forest_type'], 'min': 0, 'max': 1, 'palette': [\n",
        "    '282828', '666000', '009900', '70663e', 'a0dc00', '929900'\n",
        "  ]})\n",
        "folium.TileLayer(\n",
        "    tiles=mapid['tile_fetcher'].url_format,\n",
        "    attr='Map Data &copy; <a href=\"https://earthengine.google.com/\">Google Earth Engine</a>',\n",
        "    overlay=True,\n",
        "    name='forest_type',\n",
        "  ).add_to(map)\n",
        "map.add_child(folium.LayerControl())\n",
        "map"
      ],
      "metadata": {
        "colab": {
          "base_uri": "https://localhost:8080/",
          "height": 892
        },
        "outputId": "40c3fa3f-fd21-4c99-f2cd-29561d034474",
        "id": "ZSIDi6En9J2r"
      },
      "execution_count": 15,
      "outputs": [
        {
          "output_type": "stream",
          "name": "stdout",
          "text": [
            "{'discrete_classification_max': 200, 'discrete_classification_min': 0}\n",
            "{'forest_type_max': 5, 'forest_type_min': 0}\n"
          ]
        },
        {
          "output_type": "execute_result",
          "data": {
            "text/plain": [
              "<folium.folium.Map at 0x7c3284fec280>"
            ],
            "text/html": [
              "<div style=\"width:100%;\"><div style=\"position:relative;width:100%;height:0;padding-bottom:60%;\"><span style=\"color:#565656\">Make this Notebook Trusted to load map: File -> Trust Notebook</span><iframe srcdoc=\"&lt;!DOCTYPE html&gt;\n",
              "&lt;html&gt;\n",
              "&lt;head&gt;\n",
              "    \n",
              "    &lt;meta http-equiv=&quot;content-type&quot; content=&quot;text/html; charset=UTF-8&quot; /&gt;\n",
              "    \n",
              "        &lt;script&gt;\n",
              "            L_NO_TOUCH = false;\n",
              "            L_DISABLE_3D = false;\n",
              "        &lt;/script&gt;\n",
              "    \n",
              "    &lt;style&gt;html, body {width: 100%;height: 100%;margin: 0;padding: 0;}&lt;/style&gt;\n",
              "    &lt;style&gt;#map {position:absolute;top:0;bottom:0;right:0;left:0;}&lt;/style&gt;\n",
              "    &lt;script src=&quot;https://cdn.jsdelivr.net/npm/leaflet@1.9.3/dist/leaflet.js&quot;&gt;&lt;/script&gt;\n",
              "    &lt;script src=&quot;https://code.jquery.com/jquery-1.12.4.min.js&quot;&gt;&lt;/script&gt;\n",
              "    &lt;script src=&quot;https://cdn.jsdelivr.net/npm/bootstrap@5.2.2/dist/js/bootstrap.bundle.min.js&quot;&gt;&lt;/script&gt;\n",
              "    &lt;script src=&quot;https://cdnjs.cloudflare.com/ajax/libs/Leaflet.awesome-markers/2.0.2/leaflet.awesome-markers.js&quot;&gt;&lt;/script&gt;\n",
              "    &lt;link rel=&quot;stylesheet&quot; href=&quot;https://cdn.jsdelivr.net/npm/leaflet@1.9.3/dist/leaflet.css&quot;/&gt;\n",
              "    &lt;link rel=&quot;stylesheet&quot; href=&quot;https://cdn.jsdelivr.net/npm/bootstrap@5.2.2/dist/css/bootstrap.min.css&quot;/&gt;\n",
              "    &lt;link rel=&quot;stylesheet&quot; href=&quot;https://netdna.bootstrapcdn.com/bootstrap/3.0.0/css/bootstrap.min.css&quot;/&gt;\n",
              "    &lt;link rel=&quot;stylesheet&quot; href=&quot;https://cdn.jsdelivr.net/npm/@fortawesome/fontawesome-free@6.2.0/css/all.min.css&quot;/&gt;\n",
              "    &lt;link rel=&quot;stylesheet&quot; href=&quot;https://cdnjs.cloudflare.com/ajax/libs/Leaflet.awesome-markers/2.0.2/leaflet.awesome-markers.css&quot;/&gt;\n",
              "    &lt;link rel=&quot;stylesheet&quot; href=&quot;https://cdn.jsdelivr.net/gh/python-visualization/folium/folium/templates/leaflet.awesome.rotate.min.css&quot;/&gt;\n",
              "    \n",
              "            &lt;meta name=&quot;viewport&quot; content=&quot;width=device-width,\n",
              "                initial-scale=1.0, maximum-scale=1.0, user-scalable=no&quot; /&gt;\n",
              "            &lt;style&gt;\n",
              "                #map_3b8546fbdd7447c7af7c6e792c1fdb2a {\n",
              "                    position: relative;\n",
              "                    width: 100.0%;\n",
              "                    height: 100.0%;\n",
              "                    left: 0.0%;\n",
              "                    top: 0.0%;\n",
              "                }\n",
              "                .leaflet-container { font-size: 1rem; }\n",
              "            &lt;/style&gt;\n",
              "        \n",
              "&lt;/head&gt;\n",
              "&lt;body&gt;\n",
              "    \n",
              "    \n",
              "            &lt;div class=&quot;folium-map&quot; id=&quot;map_3b8546fbdd7447c7af7c6e792c1fdb2a&quot; &gt;&lt;/div&gt;\n",
              "        \n",
              "&lt;/body&gt;\n",
              "&lt;script&gt;\n",
              "    \n",
              "    \n",
              "            var map_3b8546fbdd7447c7af7c6e792c1fdb2a = L.map(\n",
              "                &quot;map_3b8546fbdd7447c7af7c6e792c1fdb2a&quot;,\n",
              "                {\n",
              "                    center: [49.2827, -123.1207],\n",
              "                    crs: L.CRS.EPSG3857,\n",
              "                    zoom: 10,\n",
              "                    zoomControl: true,\n",
              "                    preferCanvas: false,\n",
              "                }\n",
              "            );\n",
              "\n",
              "            \n",
              "\n",
              "        \n",
              "    \n",
              "            var tile_layer_f8412042e09d68e04b1df45dcaa64c08 = L.tileLayer(\n",
              "                &quot;https://{s}.tile.openstreetmap.org/{z}/{x}/{y}.png&quot;,\n",
              "                {&quot;attribution&quot;: &quot;Data by \\u0026copy; \\u003ca target=\\&quot;_blank\\&quot; href=\\&quot;http://openstreetmap.org\\&quot;\\u003eOpenStreetMap\\u003c/a\\u003e, under \\u003ca target=\\&quot;_blank\\&quot; href=\\&quot;http://www.openstreetmap.org/copyright\\&quot;\\u003eODbL\\u003c/a\\u003e.&quot;, &quot;detectRetina&quot;: false, &quot;maxNativeZoom&quot;: 18, &quot;maxZoom&quot;: 18, &quot;minZoom&quot;: 0, &quot;noWrap&quot;: false, &quot;opacity&quot;: 1, &quot;subdomains&quot;: &quot;abc&quot;, &quot;tms&quot;: false}\n",
              "            ).addTo(map_3b8546fbdd7447c7af7c6e792c1fdb2a);\n",
              "        \n",
              "    \n",
              "            var tile_layer_5563ae0fd7ee473f07eda568f75af621 = L.tileLayer(\n",
              "                &quot;https://earthengine.googleapis.com/v1/projects/earthengine-legacy/maps/ca5be4e7fad66953a0bc7edc2c7594d5-33c50229f55a6e5f864c6b1dcec08415/tiles/{z}/{x}/{y}&quot;,\n",
              "                {&quot;attribution&quot;: &quot;Map Data \\u0026copy; \\u003ca href=\\&quot;https://earthengine.google.com/\\&quot;\\u003eGoogle Earth Engine\\u003c/a\\u003e&quot;, &quot;detectRetina&quot;: false, &quot;maxNativeZoom&quot;: 18, &quot;maxZoom&quot;: 18, &quot;minZoom&quot;: 0, &quot;noWrap&quot;: false, &quot;opacity&quot;: 1, &quot;subdomains&quot;: &quot;abc&quot;, &quot;tms&quot;: false}\n",
              "            ).addTo(map_3b8546fbdd7447c7af7c6e792c1fdb2a);\n",
              "        \n",
              "    \n",
              "            var tile_layer_98124a43b6588e48682a501f18659e29 = L.tileLayer(\n",
              "                &quot;https://earthengine.googleapis.com/v1/projects/earthengine-legacy/maps/91b79d015e8a2febad9aee5fab1a57c4-6603b01a690f11d24488bcbb568f9da9/tiles/{z}/{x}/{y}&quot;,\n",
              "                {&quot;attribution&quot;: &quot;Map Data \\u0026copy; \\u003ca href=\\&quot;https://earthengine.google.com/\\&quot;\\u003eGoogle Earth Engine\\u003c/a\\u003e&quot;, &quot;detectRetina&quot;: false, &quot;maxNativeZoom&quot;: 18, &quot;maxZoom&quot;: 18, &quot;minZoom&quot;: 0, &quot;noWrap&quot;: false, &quot;opacity&quot;: 1, &quot;subdomains&quot;: &quot;abc&quot;, &quot;tms&quot;: false}\n",
              "            ).addTo(map_3b8546fbdd7447c7af7c6e792c1fdb2a);\n",
              "        \n",
              "    \n",
              "            var layer_control_7a8dc5e420482e8f68ba800e9ec47437 = {\n",
              "                base_layers : {\n",
              "                    &quot;openstreetmap&quot; : tile_layer_f8412042e09d68e04b1df45dcaa64c08,\n",
              "                },\n",
              "                overlays :  {\n",
              "                    &quot;discrete_classification&quot; : tile_layer_5563ae0fd7ee473f07eda568f75af621,\n",
              "                    &quot;forest_type&quot; : tile_layer_98124a43b6588e48682a501f18659e29,\n",
              "                },\n",
              "            };\n",
              "            L.control.layers(\n",
              "                layer_control_7a8dc5e420482e8f68ba800e9ec47437.base_layers,\n",
              "                layer_control_7a8dc5e420482e8f68ba800e9ec47437.overlays,\n",
              "                {&quot;autoZIndex&quot;: true, &quot;collapsed&quot;: true, &quot;position&quot;: &quot;topright&quot;}\n",
              "            ).addTo(map_3b8546fbdd7447c7af7c6e792c1fdb2a);\n",
              "        \n",
              "&lt;/script&gt;\n",
              "&lt;/html&gt;\" style=\"position:absolute;width:100%;height:100%;left:0;top:0;border:none !important;\" allowfullscreen webkitallowfullscreen mozallowfullscreen></iframe></div></div>"
            ]
          },
          "metadata": {},
          "execution_count": 15
        }
      ]
    },
    {
      "cell_type": "markdown",
      "source": [
        "Percent_Tree_Cover and Percent_NonTree_Vegetation from [MOD44B.006 Terra Vegetation Continuous Fields Yearly Global 250m](https://developers.google.com/earth-engine/datasets/catalog/MODIS_006_MOD44B#bands)."
      ],
      "metadata": {
        "id": "iUm3tTev-BTU"
      }
    },
    {
      "cell_type": "code",
      "source": [
        "terra_image = reduce_collection(\"MODIS/006/MOD44B\")\n",
        "Percent_Tree_Cover = normalize_band(terra_image, 'Percent_Tree_Cover')\n",
        "Percent_NonTree_Vegetation = normalize_band(terra_image, 'Percent_NonTree_Vegetation')\n",
        "\n",
        "# Use folium to visualize the image\n",
        "mapid = Percent_Tree_Cover.getMapId({'bands': ['Percent_Tree_Cover'], 'min': 0, 'max': 1, 'palette': ['bbe029', '0a9501', '074b03']})\n",
        "map = folium.Map(location=[49.2827, -123.1207])\n",
        "folium.TileLayer(\n",
        "    tiles=mapid['tile_fetcher'].url_format,\n",
        "    attr='Map Data &copy; <a href=\"https://earthengine.google.com/\">Google Earth Engine</a>',\n",
        "    overlay=True,\n",
        "    name='Percent_Tree_Cover',\n",
        "  ).add_to(map)\n",
        "\n",
        "mapid = Percent_NonTree_Vegetation.getMapId({'bands': ['Percent_NonTree_Vegetation'], 'min': 0, 'max': 1, 'palette': ['bbe029', '0a9501', '074b03']})\n",
        "folium.TileLayer(\n",
        "    tiles=mapid['tile_fetcher'].url_format,\n",
        "    attr='Map Data &copy; <a href=\"https://earthengine.google.com/\">Google Earth Engine</a>',\n",
        "    overlay=True,\n",
        "    name='Percent_NonTree_Vegetation',\n",
        "  ).add_to(map)\n",
        "map.add_child(folium.LayerControl())\n",
        "map"
      ],
      "metadata": {
        "colab": {
          "base_uri": "https://localhost:8080/",
          "height": 892
        },
        "outputId": "8afc204c-6016-4b6c-f9cb-8a937759bdd3",
        "id": "aVvC2aTf-Q56"
      },
      "execution_count": 16,
      "outputs": [
        {
          "output_type": "stream",
          "name": "stdout",
          "text": [
            "{'Percent_Tree_Cover_max': 84, 'Percent_Tree_Cover_min': 0}\n",
            "{'Percent_NonTree_Vegetation_max': 98, 'Percent_NonTree_Vegetation_min': 0}\n"
          ]
        },
        {
          "output_type": "execute_result",
          "data": {
            "text/plain": [
              "<folium.folium.Map at 0x7c3284fee080>"
            ],
            "text/html": [
              "<div style=\"width:100%;\"><div style=\"position:relative;width:100%;height:0;padding-bottom:60%;\"><span style=\"color:#565656\">Make this Notebook Trusted to load map: File -> Trust Notebook</span><iframe srcdoc=\"&lt;!DOCTYPE html&gt;\n",
              "&lt;html&gt;\n",
              "&lt;head&gt;\n",
              "    \n",
              "    &lt;meta http-equiv=&quot;content-type&quot; content=&quot;text/html; charset=UTF-8&quot; /&gt;\n",
              "    \n",
              "        &lt;script&gt;\n",
              "            L_NO_TOUCH = false;\n",
              "            L_DISABLE_3D = false;\n",
              "        &lt;/script&gt;\n",
              "    \n",
              "    &lt;style&gt;html, body {width: 100%;height: 100%;margin: 0;padding: 0;}&lt;/style&gt;\n",
              "    &lt;style&gt;#map {position:absolute;top:0;bottom:0;right:0;left:0;}&lt;/style&gt;\n",
              "    &lt;script src=&quot;https://cdn.jsdelivr.net/npm/leaflet@1.9.3/dist/leaflet.js&quot;&gt;&lt;/script&gt;\n",
              "    &lt;script src=&quot;https://code.jquery.com/jquery-1.12.4.min.js&quot;&gt;&lt;/script&gt;\n",
              "    &lt;script src=&quot;https://cdn.jsdelivr.net/npm/bootstrap@5.2.2/dist/js/bootstrap.bundle.min.js&quot;&gt;&lt;/script&gt;\n",
              "    &lt;script src=&quot;https://cdnjs.cloudflare.com/ajax/libs/Leaflet.awesome-markers/2.0.2/leaflet.awesome-markers.js&quot;&gt;&lt;/script&gt;\n",
              "    &lt;link rel=&quot;stylesheet&quot; href=&quot;https://cdn.jsdelivr.net/npm/leaflet@1.9.3/dist/leaflet.css&quot;/&gt;\n",
              "    &lt;link rel=&quot;stylesheet&quot; href=&quot;https://cdn.jsdelivr.net/npm/bootstrap@5.2.2/dist/css/bootstrap.min.css&quot;/&gt;\n",
              "    &lt;link rel=&quot;stylesheet&quot; href=&quot;https://netdna.bootstrapcdn.com/bootstrap/3.0.0/css/bootstrap.min.css&quot;/&gt;\n",
              "    &lt;link rel=&quot;stylesheet&quot; href=&quot;https://cdn.jsdelivr.net/npm/@fortawesome/fontawesome-free@6.2.0/css/all.min.css&quot;/&gt;\n",
              "    &lt;link rel=&quot;stylesheet&quot; href=&quot;https://cdnjs.cloudflare.com/ajax/libs/Leaflet.awesome-markers/2.0.2/leaflet.awesome-markers.css&quot;/&gt;\n",
              "    &lt;link rel=&quot;stylesheet&quot; href=&quot;https://cdn.jsdelivr.net/gh/python-visualization/folium/folium/templates/leaflet.awesome.rotate.min.css&quot;/&gt;\n",
              "    \n",
              "            &lt;meta name=&quot;viewport&quot; content=&quot;width=device-width,\n",
              "                initial-scale=1.0, maximum-scale=1.0, user-scalable=no&quot; /&gt;\n",
              "            &lt;style&gt;\n",
              "                #map_dd5f71f941c2f085bb28fa500afa9b2b {\n",
              "                    position: relative;\n",
              "                    width: 100.0%;\n",
              "                    height: 100.0%;\n",
              "                    left: 0.0%;\n",
              "                    top: 0.0%;\n",
              "                }\n",
              "                .leaflet-container { font-size: 1rem; }\n",
              "            &lt;/style&gt;\n",
              "        \n",
              "&lt;/head&gt;\n",
              "&lt;body&gt;\n",
              "    \n",
              "    \n",
              "            &lt;div class=&quot;folium-map&quot; id=&quot;map_dd5f71f941c2f085bb28fa500afa9b2b&quot; &gt;&lt;/div&gt;\n",
              "        \n",
              "&lt;/body&gt;\n",
              "&lt;script&gt;\n",
              "    \n",
              "    \n",
              "            var map_dd5f71f941c2f085bb28fa500afa9b2b = L.map(\n",
              "                &quot;map_dd5f71f941c2f085bb28fa500afa9b2b&quot;,\n",
              "                {\n",
              "                    center: [49.2827, -123.1207],\n",
              "                    crs: L.CRS.EPSG3857,\n",
              "                    zoom: 10,\n",
              "                    zoomControl: true,\n",
              "                    preferCanvas: false,\n",
              "                }\n",
              "            );\n",
              "\n",
              "            \n",
              "\n",
              "        \n",
              "    \n",
              "            var tile_layer_52b2c8bc1e16c8a84f79423bfbb16589 = L.tileLayer(\n",
              "                &quot;https://{s}.tile.openstreetmap.org/{z}/{x}/{y}.png&quot;,\n",
              "                {&quot;attribution&quot;: &quot;Data by \\u0026copy; \\u003ca target=\\&quot;_blank\\&quot; href=\\&quot;http://openstreetmap.org\\&quot;\\u003eOpenStreetMap\\u003c/a\\u003e, under \\u003ca target=\\&quot;_blank\\&quot; href=\\&quot;http://www.openstreetmap.org/copyright\\&quot;\\u003eODbL\\u003c/a\\u003e.&quot;, &quot;detectRetina&quot;: false, &quot;maxNativeZoom&quot;: 18, &quot;maxZoom&quot;: 18, &quot;minZoom&quot;: 0, &quot;noWrap&quot;: false, &quot;opacity&quot;: 1, &quot;subdomains&quot;: &quot;abc&quot;, &quot;tms&quot;: false}\n",
              "            ).addTo(map_dd5f71f941c2f085bb28fa500afa9b2b);\n",
              "        \n",
              "    \n",
              "            var tile_layer_8529c52eab46390972a9accda3a1d889 = L.tileLayer(\n",
              "                &quot;https://earthengine.googleapis.com/v1/projects/earthengine-legacy/maps/c937653500ca2a8827ce1cdb26ac97d9-8b29efd0e6966336da4f3778063cd341/tiles/{z}/{x}/{y}&quot;,\n",
              "                {&quot;attribution&quot;: &quot;Map Data \\u0026copy; \\u003ca href=\\&quot;https://earthengine.google.com/\\&quot;\\u003eGoogle Earth Engine\\u003c/a\\u003e&quot;, &quot;detectRetina&quot;: false, &quot;maxNativeZoom&quot;: 18, &quot;maxZoom&quot;: 18, &quot;minZoom&quot;: 0, &quot;noWrap&quot;: false, &quot;opacity&quot;: 1, &quot;subdomains&quot;: &quot;abc&quot;, &quot;tms&quot;: false}\n",
              "            ).addTo(map_dd5f71f941c2f085bb28fa500afa9b2b);\n",
              "        \n",
              "    \n",
              "            var tile_layer_b976f1e291c4d2308ff1b7f840477eb1 = L.tileLayer(\n",
              "                &quot;https://earthengine.googleapis.com/v1/projects/earthengine-legacy/maps/fc768e50191fad43d2b8b20153a25c3a-bdadd7955ce1be087cb29a288e025f4a/tiles/{z}/{x}/{y}&quot;,\n",
              "                {&quot;attribution&quot;: &quot;Map Data \\u0026copy; \\u003ca href=\\&quot;https://earthengine.google.com/\\&quot;\\u003eGoogle Earth Engine\\u003c/a\\u003e&quot;, &quot;detectRetina&quot;: false, &quot;maxNativeZoom&quot;: 18, &quot;maxZoom&quot;: 18, &quot;minZoom&quot;: 0, &quot;noWrap&quot;: false, &quot;opacity&quot;: 1, &quot;subdomains&quot;: &quot;abc&quot;, &quot;tms&quot;: false}\n",
              "            ).addTo(map_dd5f71f941c2f085bb28fa500afa9b2b);\n",
              "        \n",
              "    \n",
              "            var layer_control_e63a3dee6a1e64b20588f9a88e1fb117 = {\n",
              "                base_layers : {\n",
              "                    &quot;openstreetmap&quot; : tile_layer_52b2c8bc1e16c8a84f79423bfbb16589,\n",
              "                },\n",
              "                overlays :  {\n",
              "                    &quot;Percent_Tree_Cover&quot; : tile_layer_8529c52eab46390972a9accda3a1d889,\n",
              "                    &quot;Percent_NonTree_Vegetation&quot; : tile_layer_b976f1e291c4d2308ff1b7f840477eb1,\n",
              "                },\n",
              "            };\n",
              "            L.control.layers(\n",
              "                layer_control_e63a3dee6a1e64b20588f9a88e1fb117.base_layers,\n",
              "                layer_control_e63a3dee6a1e64b20588f9a88e1fb117.overlays,\n",
              "                {&quot;autoZIndex&quot;: true, &quot;collapsed&quot;: true, &quot;position&quot;: &quot;topright&quot;}\n",
              "            ).addTo(map_dd5f71f941c2f085bb28fa500afa9b2b);\n",
              "        \n",
              "&lt;/script&gt;\n",
              "&lt;/html&gt;\" style=\"position:absolute;width:100%;height:100%;left:0;top:0;border:none !important;\" allowfullscreen webkitallowfullscreen mozallowfullscreen></iframe></div></div>"
            ]
          },
          "metadata": {},
          "execution_count": 16
        }
      ]
    },
    {
      "cell_type": "markdown",
      "source": [
        "Response: the amount of carbon captured by plants in an ecosystem, after accounting for losses due to respiration, from [MODIS Net Primary Production CONUS](https://developers.google.com/earth-engine/datasets/catalog/UMT_NTSG_v2_MODIS_NPP#bands)."
      ],
      "metadata": {
        "id": "d0n3qOnpgu7d"
      }
    },
    {
      "cell_type": "code",
      "source": [
        "# # inspect some points for validation\n",
        "# points = [\n",
        "#     ee.Geometry.Point(-115.16, 35.49),\n",
        "#     ee.Geometry.Point(-90.54, 38.7)\n",
        "# ]\n",
        "\n",
        "# # Function to extract pixel values at specified points\n",
        "# def get_pixel_values(point):\n",
        "#     value_dict = npp_normalized.reduceRegion(reducer=ee.Reducer.first(), geometry=point, scale=250,bestEffort=True)\n",
        "#     return value_dict\n",
        "\n",
        "# # Loop through the points and get the pixel values\n",
        "# for point in points:\n",
        "#     pixel_values = get_pixel_values(point)\n",
        "#     print(pixel_values.getInfo())"
      ],
      "metadata": {
        "colab": {
          "base_uri": "https://localhost:8080/"
        },
        "id": "HijqI9JX8kOx",
        "outputId": "8224a99c-f918-40c6-e2a5-1e3b916ec090"
      },
      "execution_count": null,
      "outputs": [
        {
          "output_type": "stream",
          "name": "stdout",
          "text": [
            "{'annualNPP': 0.030910581323860917}\n",
            "{'annualNPP': 0.44173099255413617}\n"
          ]
        }
      ]
    },
    {
      "cell_type": "code",
      "source": [
        "npp_image = reduce_collection('UMT/NTSG/v2/MODIS/NPP')\n",
        "annualNPP = normalize_band(npp_image, 'annualNPP')\n",
        "\n",
        "mapid = annualNPP.getMapId({'bands': ['annualNPP'], 'min': 0, 'max': 1, 'palette': ['bbe029', '0a9501', '074b03']})\n",
        "map = folium.Map(location=[38., -122.5])\n",
        "folium.TileLayer(\n",
        "    tiles=mapid['tile_fetcher'].url_format,\n",
        "    attr='Map Data &copy; <a href=\"https://earthengine.google.com/\">Google Earth Engine</a>',\n",
        "    overlay=True,\n",
        "    name='npp',\n",
        "  ).add_to(map)\n",
        "map.add_child(folium.LayerControl())\n",
        "map"
      ],
      "metadata": {
        "colab": {
          "base_uri": "https://localhost:8080/",
          "height": 875
        },
        "id": "DcQ2WCJC8s3H",
        "outputId": "8024f091-fd14-4ea9-f5b9-f81838d4324b"
      },
      "execution_count": 17,
      "outputs": [
        {
          "output_type": "stream",
          "name": "stdout",
          "text": [
            "{'annualNPP_max': 29278, 'annualNPP_min': 0}\n"
          ]
        },
        {
          "output_type": "execute_result",
          "data": {
            "text/plain": [
              "<folium.folium.Map at 0x7c3284fd7640>"
            ],
            "text/html": [
              "<div style=\"width:100%;\"><div style=\"position:relative;width:100%;height:0;padding-bottom:60%;\"><span style=\"color:#565656\">Make this Notebook Trusted to load map: File -> Trust Notebook</span><iframe srcdoc=\"&lt;!DOCTYPE html&gt;\n",
              "&lt;html&gt;\n",
              "&lt;head&gt;\n",
              "    \n",
              "    &lt;meta http-equiv=&quot;content-type&quot; content=&quot;text/html; charset=UTF-8&quot; /&gt;\n",
              "    \n",
              "        &lt;script&gt;\n",
              "            L_NO_TOUCH = false;\n",
              "            L_DISABLE_3D = false;\n",
              "        &lt;/script&gt;\n",
              "    \n",
              "    &lt;style&gt;html, body {width: 100%;height: 100%;margin: 0;padding: 0;}&lt;/style&gt;\n",
              "    &lt;style&gt;#map {position:absolute;top:0;bottom:0;right:0;left:0;}&lt;/style&gt;\n",
              "    &lt;script src=&quot;https://cdn.jsdelivr.net/npm/leaflet@1.9.3/dist/leaflet.js&quot;&gt;&lt;/script&gt;\n",
              "    &lt;script src=&quot;https://code.jquery.com/jquery-1.12.4.min.js&quot;&gt;&lt;/script&gt;\n",
              "    &lt;script src=&quot;https://cdn.jsdelivr.net/npm/bootstrap@5.2.2/dist/js/bootstrap.bundle.min.js&quot;&gt;&lt;/script&gt;\n",
              "    &lt;script src=&quot;https://cdnjs.cloudflare.com/ajax/libs/Leaflet.awesome-markers/2.0.2/leaflet.awesome-markers.js&quot;&gt;&lt;/script&gt;\n",
              "    &lt;link rel=&quot;stylesheet&quot; href=&quot;https://cdn.jsdelivr.net/npm/leaflet@1.9.3/dist/leaflet.css&quot;/&gt;\n",
              "    &lt;link rel=&quot;stylesheet&quot; href=&quot;https://cdn.jsdelivr.net/npm/bootstrap@5.2.2/dist/css/bootstrap.min.css&quot;/&gt;\n",
              "    &lt;link rel=&quot;stylesheet&quot; href=&quot;https://netdna.bootstrapcdn.com/bootstrap/3.0.0/css/bootstrap.min.css&quot;/&gt;\n",
              "    &lt;link rel=&quot;stylesheet&quot; href=&quot;https://cdn.jsdelivr.net/npm/@fortawesome/fontawesome-free@6.2.0/css/all.min.css&quot;/&gt;\n",
              "    &lt;link rel=&quot;stylesheet&quot; href=&quot;https://cdnjs.cloudflare.com/ajax/libs/Leaflet.awesome-markers/2.0.2/leaflet.awesome-markers.css&quot;/&gt;\n",
              "    &lt;link rel=&quot;stylesheet&quot; href=&quot;https://cdn.jsdelivr.net/gh/python-visualization/folium/folium/templates/leaflet.awesome.rotate.min.css&quot;/&gt;\n",
              "    \n",
              "            &lt;meta name=&quot;viewport&quot; content=&quot;width=device-width,\n",
              "                initial-scale=1.0, maximum-scale=1.0, user-scalable=no&quot; /&gt;\n",
              "            &lt;style&gt;\n",
              "                #map_919aa97b1df84ad5d5d402ad4e6b7ef4 {\n",
              "                    position: relative;\n",
              "                    width: 100.0%;\n",
              "                    height: 100.0%;\n",
              "                    left: 0.0%;\n",
              "                    top: 0.0%;\n",
              "                }\n",
              "                .leaflet-container { font-size: 1rem; }\n",
              "            &lt;/style&gt;\n",
              "        \n",
              "&lt;/head&gt;\n",
              "&lt;body&gt;\n",
              "    \n",
              "    \n",
              "            &lt;div class=&quot;folium-map&quot; id=&quot;map_919aa97b1df84ad5d5d402ad4e6b7ef4&quot; &gt;&lt;/div&gt;\n",
              "        \n",
              "&lt;/body&gt;\n",
              "&lt;script&gt;\n",
              "    \n",
              "    \n",
              "            var map_919aa97b1df84ad5d5d402ad4e6b7ef4 = L.map(\n",
              "                &quot;map_919aa97b1df84ad5d5d402ad4e6b7ef4&quot;,\n",
              "                {\n",
              "                    center: [38.0, -122.5],\n",
              "                    crs: L.CRS.EPSG3857,\n",
              "                    zoom: 10,\n",
              "                    zoomControl: true,\n",
              "                    preferCanvas: false,\n",
              "                }\n",
              "            );\n",
              "\n",
              "            \n",
              "\n",
              "        \n",
              "    \n",
              "            var tile_layer_1a422eb576733080475ce84d06dc7591 = L.tileLayer(\n",
              "                &quot;https://{s}.tile.openstreetmap.org/{z}/{x}/{y}.png&quot;,\n",
              "                {&quot;attribution&quot;: &quot;Data by \\u0026copy; \\u003ca target=\\&quot;_blank\\&quot; href=\\&quot;http://openstreetmap.org\\&quot;\\u003eOpenStreetMap\\u003c/a\\u003e, under \\u003ca target=\\&quot;_blank\\&quot; href=\\&quot;http://www.openstreetmap.org/copyright\\&quot;\\u003eODbL\\u003c/a\\u003e.&quot;, &quot;detectRetina&quot;: false, &quot;maxNativeZoom&quot;: 18, &quot;maxZoom&quot;: 18, &quot;minZoom&quot;: 0, &quot;noWrap&quot;: false, &quot;opacity&quot;: 1, &quot;subdomains&quot;: &quot;abc&quot;, &quot;tms&quot;: false}\n",
              "            ).addTo(map_919aa97b1df84ad5d5d402ad4e6b7ef4);\n",
              "        \n",
              "    \n",
              "            var tile_layer_59ee4196c5b1eac58f8c30c4dd2e30d3 = L.tileLayer(\n",
              "                &quot;https://earthengine.googleapis.com/v1/projects/earthengine-legacy/maps/4e0f7deb591c2c848d49b50e4b4f48a1-17055ba52724f22c6c84726d54b1e5ce/tiles/{z}/{x}/{y}&quot;,\n",
              "                {&quot;attribution&quot;: &quot;Map Data \\u0026copy; \\u003ca href=\\&quot;https://earthengine.google.com/\\&quot;\\u003eGoogle Earth Engine\\u003c/a\\u003e&quot;, &quot;detectRetina&quot;: false, &quot;maxNativeZoom&quot;: 18, &quot;maxZoom&quot;: 18, &quot;minZoom&quot;: 0, &quot;noWrap&quot;: false, &quot;opacity&quot;: 1, &quot;subdomains&quot;: &quot;abc&quot;, &quot;tms&quot;: false}\n",
              "            ).addTo(map_919aa97b1df84ad5d5d402ad4e6b7ef4);\n",
              "        \n",
              "    \n",
              "            var layer_control_69078c7bbff4d3e0e982e91e050c4e2c = {\n",
              "                base_layers : {\n",
              "                    &quot;openstreetmap&quot; : tile_layer_1a422eb576733080475ce84d06dc7591,\n",
              "                },\n",
              "                overlays :  {\n",
              "                    &quot;npp&quot; : tile_layer_59ee4196c5b1eac58f8c30c4dd2e30d3,\n",
              "                },\n",
              "            };\n",
              "            L.control.layers(\n",
              "                layer_control_69078c7bbff4d3e0e982e91e050c4e2c.base_layers,\n",
              "                layer_control_69078c7bbff4d3e0e982e91e050c4e2c.overlays,\n",
              "                {&quot;autoZIndex&quot;: true, &quot;collapsed&quot;: true, &quot;position&quot;: &quot;topright&quot;}\n",
              "            ).addTo(map_919aa97b1df84ad5d5d402ad4e6b7ef4);\n",
              "        \n",
              "&lt;/script&gt;\n",
              "&lt;/html&gt;\" style=\"position:absolute;width:100%;height:100%;left:0;top:0;border:none !important;\" allowfullscreen webkitallowfullscreen mozallowfullscreen></iframe></div></div>"
            ]
          },
          "metadata": {},
          "execution_count": 17
        }
      ]
    },
    {
      "cell_type": "markdown",
      "source": [
        "Stack the 2D images (Terra Vegetation Indices and MODIS Net Primary Production) to create a single image from which samples can be taken. Convert the image into an array image in which each pixel stores 256x256 patches of pixels for each band. To export training patches, convert a multi-band image to an array image using neighborhoodToArray(), then sample the image at points.\n"
      ],
      "metadata": {
        "id": "QOOIb0hjphjN"
      }
    },
    {
      "cell_type": "code",
      "source": [
        "featureStack = ee.Image.cat([\n",
        "  EVI.select('EVI'),\n",
        "  discrete_classification.select('discrete_classification'),\n",
        "  forest_type.select('forest_type'),\n",
        "  Percent_Tree_Cover.select('Percent_Tree_Cover'),\n",
        "  Percent_NonTree_Vegetation.select('Percent_NonTree_Vegetation'),\n",
        "  annualNPP.select('annualNPP')\n",
        "]).float()\n",
        "\n",
        "list = ee.List.repeat(1, KERNEL_SIZE)\n",
        "lists = ee.List.repeat(list, KERNEL_SIZE)\n",
        "kernel = ee.Kernel.fixed(KERNEL_SIZE, KERNEL_SIZE, lists)\n",
        "\n",
        "arrays = featureStack.neighborhoodToArray(kernel)"
      ],
      "metadata": {
        "id": "g36a-LDIpwgP"
      },
      "execution_count": 18,
      "outputs": []
    },
    {
      "cell_type": "markdown",
      "source": [
        "Use some pre-made geometries to sample the stack in strategic locations. Specifically, these are hand-made polygons in which to take the 256x256 samples. Display the sampling polygons on a map, red for training polygons, blue for evaluation."
      ],
      "metadata": {
        "id": "Imo_xf43sfzT"
      }
    },
    {
      "cell_type": "code",
      "source": [
        "# TODO: personalize polygons\n",
        "usa = ee.FeatureCollection('projects/ee-jariwaladh0/assets/usa')\n",
        "trainingPolys = usa.filter(ee.Filter.inList('shapeName', ['Maine', 'Alabama', 'South Carolina', 'New Hampshire','West Virginia','Vermont']));\n",
        "evalPolys = usa.filter(ee.Filter.inList('shapeName', ['Georgia', 'Virginia']));\n",
        "# trainingPolys = ee.FeatureCollection('projects/google/DemoTrainingGeometries')\n",
        "# evalPolys = ee.FeatureCollection('projects/google/DemoEvalGeometries')\n",
        "\n",
        "polyImage = ee.Image(0).byte().paint(trainingPolys, 1).paint(evalPolys, 2)\n",
        "polyImage = polyImage.updateMask(polyImage)\n",
        "\n",
        "mapid = polyImage.getMapId({'min': 1, 'max': 2, 'palette': ['red', 'blue']})\n",
        "map = folium.Map(location=[38., -100.], zoom_start=5)\n",
        "folium.TileLayer(\n",
        "    tiles=mapid['tile_fetcher'].url_format,\n",
        "    attr='Map Data &copy; <a href=\"https://earthengine.google.com/\">Google Earth Engine</a>',\n",
        "    overlay=True,\n",
        "    name='training polygons',\n",
        "  ).add_to(map)\n",
        "map.add_child(folium.LayerControl())\n",
        "map"
      ],
      "metadata": {
        "colab": {
          "base_uri": "https://localhost:8080/",
          "height": 501
        },
        "id": "z7FA6g2aseu0",
        "outputId": "4ab6bbc8-8fa7-4179-e419-b288d032389a"
      },
      "execution_count": null,
      "outputs": [
        {
          "output_type": "execute_result",
          "data": {
            "text/plain": [
              "<folium.folium.Map at 0x7c6521f1d600>"
            ],
            "text/html": [
              "<div style=\"width:100%;\"><div style=\"position:relative;width:100%;height:0;padding-bottom:60%;\"><span style=\"color:#565656\">Make this Notebook Trusted to load map: File -> Trust Notebook</span><iframe srcdoc=\"&lt;!DOCTYPE html&gt;\n",
              "&lt;html&gt;\n",
              "&lt;head&gt;\n",
              "    \n",
              "    &lt;meta http-equiv=&quot;content-type&quot; content=&quot;text/html; charset=UTF-8&quot; /&gt;\n",
              "    \n",
              "        &lt;script&gt;\n",
              "            L_NO_TOUCH = false;\n",
              "            L_DISABLE_3D = false;\n",
              "        &lt;/script&gt;\n",
              "    \n",
              "    &lt;style&gt;html, body {width: 100%;height: 100%;margin: 0;padding: 0;}&lt;/style&gt;\n",
              "    &lt;style&gt;#map {position:absolute;top:0;bottom:0;right:0;left:0;}&lt;/style&gt;\n",
              "    &lt;script src=&quot;https://cdn.jsdelivr.net/npm/leaflet@1.9.3/dist/leaflet.js&quot;&gt;&lt;/script&gt;\n",
              "    &lt;script src=&quot;https://code.jquery.com/jquery-1.12.4.min.js&quot;&gt;&lt;/script&gt;\n",
              "    &lt;script src=&quot;https://cdn.jsdelivr.net/npm/bootstrap@5.2.2/dist/js/bootstrap.bundle.min.js&quot;&gt;&lt;/script&gt;\n",
              "    &lt;script src=&quot;https://cdnjs.cloudflare.com/ajax/libs/Leaflet.awesome-markers/2.0.2/leaflet.awesome-markers.js&quot;&gt;&lt;/script&gt;\n",
              "    &lt;link rel=&quot;stylesheet&quot; href=&quot;https://cdn.jsdelivr.net/npm/leaflet@1.9.3/dist/leaflet.css&quot;/&gt;\n",
              "    &lt;link rel=&quot;stylesheet&quot; href=&quot;https://cdn.jsdelivr.net/npm/bootstrap@5.2.2/dist/css/bootstrap.min.css&quot;/&gt;\n",
              "    &lt;link rel=&quot;stylesheet&quot; href=&quot;https://netdna.bootstrapcdn.com/bootstrap/3.0.0/css/bootstrap.min.css&quot;/&gt;\n",
              "    &lt;link rel=&quot;stylesheet&quot; href=&quot;https://cdn.jsdelivr.net/npm/@fortawesome/fontawesome-free@6.2.0/css/all.min.css&quot;/&gt;\n",
              "    &lt;link rel=&quot;stylesheet&quot; href=&quot;https://cdnjs.cloudflare.com/ajax/libs/Leaflet.awesome-markers/2.0.2/leaflet.awesome-markers.css&quot;/&gt;\n",
              "    &lt;link rel=&quot;stylesheet&quot; href=&quot;https://cdn.jsdelivr.net/gh/python-visualization/folium/folium/templates/leaflet.awesome.rotate.min.css&quot;/&gt;\n",
              "    \n",
              "            &lt;meta name=&quot;viewport&quot; content=&quot;width=device-width,\n",
              "                initial-scale=1.0, maximum-scale=1.0, user-scalable=no&quot; /&gt;\n",
              "            &lt;style&gt;\n",
              "                #map_ac204e306d8feefda24e8a601b170849 {\n",
              "                    position: relative;\n",
              "                    width: 100.0%;\n",
              "                    height: 100.0%;\n",
              "                    left: 0.0%;\n",
              "                    top: 0.0%;\n",
              "                }\n",
              "                .leaflet-container { font-size: 1rem; }\n",
              "            &lt;/style&gt;\n",
              "        \n",
              "&lt;/head&gt;\n",
              "&lt;body&gt;\n",
              "    \n",
              "    \n",
              "            &lt;div class=&quot;folium-map&quot; id=&quot;map_ac204e306d8feefda24e8a601b170849&quot; &gt;&lt;/div&gt;\n",
              "        \n",
              "&lt;/body&gt;\n",
              "&lt;script&gt;\n",
              "    \n",
              "    \n",
              "            var map_ac204e306d8feefda24e8a601b170849 = L.map(\n",
              "                &quot;map_ac204e306d8feefda24e8a601b170849&quot;,\n",
              "                {\n",
              "                    center: [38.0, -100.0],\n",
              "                    crs: L.CRS.EPSG3857,\n",
              "                    zoom: 5,\n",
              "                    zoomControl: true,\n",
              "                    preferCanvas: false,\n",
              "                }\n",
              "            );\n",
              "\n",
              "            \n",
              "\n",
              "        \n",
              "    \n",
              "            var tile_layer_791e32ccd053afced55aea70ffc08fa7 = L.tileLayer(\n",
              "                &quot;https://{s}.tile.openstreetmap.org/{z}/{x}/{y}.png&quot;,\n",
              "                {&quot;attribution&quot;: &quot;Data by \\u0026copy; \\u003ca target=\\&quot;_blank\\&quot; href=\\&quot;http://openstreetmap.org\\&quot;\\u003eOpenStreetMap\\u003c/a\\u003e, under \\u003ca target=\\&quot;_blank\\&quot; href=\\&quot;http://www.openstreetmap.org/copyright\\&quot;\\u003eODbL\\u003c/a\\u003e.&quot;, &quot;detectRetina&quot;: false, &quot;maxNativeZoom&quot;: 18, &quot;maxZoom&quot;: 18, &quot;minZoom&quot;: 0, &quot;noWrap&quot;: false, &quot;opacity&quot;: 1, &quot;subdomains&quot;: &quot;abc&quot;, &quot;tms&quot;: false}\n",
              "            ).addTo(map_ac204e306d8feefda24e8a601b170849);\n",
              "        \n",
              "    \n",
              "            var tile_layer_4b19f6854e2a612d0259a0ca2368f890 = L.tileLayer(\n",
              "                &quot;https://earthengine.googleapis.com/v1/projects/earthengine-legacy/maps/d4992ecc5e2bd25f3a4c10f6a6b85bce-8a2ce60b1f8fa0118af02c6dc2de3a3d/tiles/{z}/{x}/{y}&quot;,\n",
              "                {&quot;attribution&quot;: &quot;Map Data \\u0026copy; \\u003ca href=\\&quot;https://earthengine.google.com/\\&quot;\\u003eGoogle Earth Engine\\u003c/a\\u003e&quot;, &quot;detectRetina&quot;: false, &quot;maxNativeZoom&quot;: 18, &quot;maxZoom&quot;: 18, &quot;minZoom&quot;: 0, &quot;noWrap&quot;: false, &quot;opacity&quot;: 1, &quot;subdomains&quot;: &quot;abc&quot;, &quot;tms&quot;: false}\n",
              "            ).addTo(map_ac204e306d8feefda24e8a601b170849);\n",
              "        \n",
              "    \n",
              "            var layer_control_8d47b8921d9c9e0a7f9fa8a5b58f7fcb = {\n",
              "                base_layers : {\n",
              "                    &quot;openstreetmap&quot; : tile_layer_791e32ccd053afced55aea70ffc08fa7,\n",
              "                },\n",
              "                overlays :  {\n",
              "                    &quot;training polygons&quot; : tile_layer_4b19f6854e2a612d0259a0ca2368f890,\n",
              "                },\n",
              "            };\n",
              "            L.control.layers(\n",
              "                layer_control_8d47b8921d9c9e0a7f9fa8a5b58f7fcb.base_layers,\n",
              "                layer_control_8d47b8921d9c9e0a7f9fa8a5b58f7fcb.overlays,\n",
              "                {&quot;autoZIndex&quot;: true, &quot;collapsed&quot;: true, &quot;position&quot;: &quot;topright&quot;}\n",
              "            ).addTo(map_ac204e306d8feefda24e8a601b170849);\n",
              "        \n",
              "&lt;/script&gt;\n",
              "&lt;/html&gt;\" style=\"position:absolute;width:100%;height:100%;left:0;top:0;border:none !important;\" allowfullscreen webkitallowfullscreen mozallowfullscreen></iframe></div></div>"
            ]
          },
          "metadata": {},
          "execution_count": 27
        }
      ]
    },
    {
      "cell_type": "markdown",
      "metadata": {
        "id": "ZV890gPHeZqz"
      },
      "source": [
        "# Sampling\n",
        "\n",
        "Take a sample from each polygon and merge the results into a single export.  The key step is sampling the array image at points, to get all the pixels in a 256x256 neighborhood at each point. Export a single TFRecord file that contains patches of pixel values in each record to build the training and testing data for the FCNN. Since each record potentially contains a lot of data (especially with big patches or many input bands), some manual sharding of the computation is necessary to avoid the `computed value too large` error.  Specifically, the following code takes multiple (smaller) samples within each geometry, merging the results to get a single export."
      ]
    },
    {
      "cell_type": "code",
      "metadata": {
        "id": "FyRpvwENxE-A",
        "cellView": "both"
      },
      "source": [
        "# Convert the feature collections to lists for iteration.\n",
        "trainingPolysList = trainingPolys.toList(trainingPolys.size())\n",
        "evalPolysList = evalPolys.toList(evalPolys.size())\n",
        "\n",
        "# These numbers determined experimentally.\n",
        "n = 200 # Number of shards in each polygon, reduced to 200 samples\n",
        "N = 2000 # Total sample size in each polygon.\n",
        "\n",
        "# Export all the training data (in many pieces), with one task\n",
        "# per geometry.\n",
        "for g in range(trainingPolys.size().getInfo()):\n",
        "  geomSample = ee.FeatureCollection([])\n",
        "  # randomly choose one sample in each iteration\n",
        "  for i in range(n):\n",
        "    sample = arrays.sample(\n",
        "      region = ee.Feature(trainingPolysList.get(g)).geometry(),\n",
        "      scale = 250,\n",
        "      numPixels = N / n, # Size of the shard.\n",
        "      seed = i,\n",
        "      tileScale = 8\n",
        "    )\n",
        "    geomSample = geomSample.merge(sample)\n",
        "\n",
        "  desc = TRAINING_BASE + '_g' + str(g)\n",
        "  task = ee.batch.Export.table.toCloudStorage(\n",
        "    collection = geomSample,\n",
        "    description = desc,\n",
        "    # for Google Cloud Export\n",
        "    bucket = BUCKET,\n",
        "    fileNamePrefix = FOLDER + '/' + desc,\n",
        "    # for Google Drive Export\n",
        "    # folder = FOLDER,\n",
        "    fileNamePrefix = desc,\n",
        "    fileFormat = 'TFRecord',\n",
        "    selectors = BANDS + [RESPONSE]\n",
        "  )\n",
        "  task.start()\n",
        "\n",
        "# Export all the evaluation data.\n",
        "for g in range(evalPolys.size().getInfo()):\n",
        "  geomSample = ee.FeatureCollection([])\n",
        "  for i in range(n):\n",
        "    sample = arrays.sample(\n",
        "      region = ee.Feature(evalPolysList.get(g)).geometry(),\n",
        "      scale = 250,\n",
        "      numPixels = N / n,\n",
        "      seed = i,\n",
        "      tileScale = 8\n",
        "    )\n",
        "    geomSample = geomSample.merge(sample)\n",
        "\n",
        "  desc = EVAL_BASE + '_g' + str(g)\n",
        "  task = ee.batch.Export.table.toDrive(\n",
        "    collection = geomSample,\n",
        "    description = desc,\n",
        "    # for Google Cloud Export\n",
        "    bucket = BUCKET,\n",
        "    fileNamePrefix = FOLDER + '/' + desc,\n",
        "    # for Google Drive Export\n",
        "    # folder = FOLDER,\n",
        "    fileNamePrefix = desc,\n",
        "    fileFormat = 'TFRecord',\n",
        "    selectors = BANDS + [RESPONSE]\n",
        "  )\n",
        "  task.start()"
      ],
      "execution_count": null,
      "outputs": []
    },
    {
      "cell_type": "markdown",
      "source": [
        "# Training data\n",
        "\n",
        "Load the data exported from Earth Engine into a `tf.data.Dataset`."
      ],
      "metadata": {
        "id": "maGODNK_0Lxp"
      }
    },
    {
      "cell_type": "code",
      "source": [
        "def parse_tfrecord(example_proto):\n",
        "  \"\"\"The parsing function.\n",
        "  Read a serialized example into the structure defined by FEATURES_DICT.\n",
        "  Args:\n",
        "    example_proto: a serialized Example.\n",
        "  Returns:\n",
        "    A dictionary of tensors, keyed by feature name.\n",
        "  \"\"\"\n",
        "  return tf.io.parse_single_example(example_proto, FEATURES_DICT)\n",
        "\n",
        "\n",
        "def to_tuple(inputs):\n",
        "  \"\"\"Function to convert a dictionary of tensors to a tuple of (inputs, outputs).\n",
        "  Turn the tensors returned by parse_tfrecord into a stack in HWC shape.\n",
        "  Args:\n",
        "    inputs: A dictionary of tensors, keyed by feature name.\n",
        "  Returns:\n",
        "    A tuple of (inputs, outputs).\n",
        "  \"\"\"\n",
        "  inputsList = [inputs.get(key) for key in FEATURES]\n",
        "  stacked = tf.stack(inputsList, axis=0)\n",
        "  # Convert from CHW to HWC\n",
        "  stacked = tf.transpose(stacked, [1, 2, 0])\n",
        "  return stacked[:,:,:len(BANDS)], stacked[:,:,len(BANDS):]\n",
        "\n",
        "\n",
        "def get_dataset(pattern):\n",
        "  \"\"\"Function to read, parse and format to tuple a set of input tfrecord files.\n",
        "  Get all the files matching the pattern, parse and convert to tuple.\n",
        "  Args:\n",
        "    pattern: A file pattern to match in a Cloud Storage bucket.\n",
        "  Returns:\n",
        "    A tf.data.Dataset\n",
        "  \"\"\"\n",
        "  glob = tf.io.gfile.glob(pattern)\n",
        "  dataset = tf.data.TFRecordDataset(glob, compression_type='GZIP')\n",
        "  dataset = dataset.map(parse_tfrecord, num_parallel_calls=5)\n",
        "  dataset = dataset.map(to_tuple, num_parallel_calls=5)\n",
        "  return dataset"
      ],
      "metadata": {
        "id": "42rjNI3h0VUh"
      },
      "execution_count": 21,
      "outputs": []
    },
    {
      "cell_type": "markdown",
      "source": [
        "Use the helpers to read in the training dataset.  Print the first record to check."
      ],
      "metadata": {
        "id": "P0w9Oc6o1BWw"
      }
    },
    {
      "cell_type": "code",
      "source": [
        "def get_training_dataset():\n",
        "\t\"\"\"Get the preprocessed training dataset\n",
        "  Returns:\n",
        "    A tf.data.Dataset of training data.\n",
        "  \"\"\"\n",
        "\t# directory for Google Drive\n",
        "\t# root_dir = 'drive/My Drive/'\n",
        "\t# glob = root_dir + FOLDER + '/' + 'training_patches' + '*'\n",
        "\tglob = 'gs://' + BUCKET + '/' + FOLDER + '/' + TRAINING_BASE + '*'\n",
        "\tdataset = get_dataset(glob)\n",
        "\t# shuffle in n iterations, random pick one element from buffer in each iteration\n",
        "\t# batch in size BATCH_SIZE\n",
        "\t# repeat when all element are comsumed\n",
        "\tdataset = dataset.shuffle(BUFFER_SIZE).batch(BATCH_SIZE).repeat()\n",
        "\treturn dataset\n",
        "\n",
        "training = get_training_dataset()\n",
        "training\n",
        "# print(iter(training.take(1)).next())"
      ],
      "metadata": {
        "colab": {
          "base_uri": "https://localhost:8080/"
        },
        "id": "0FtJDBGn1BER",
        "outputId": "4d1422ee-73e6-463f-bbc7-fc4d34b97772"
      },
      "execution_count": 11,
      "outputs": [
        {
          "output_type": "execute_result",
          "data": {
            "text/plain": [
              "<_RepeatDataset element_spec=(TensorSpec(shape=(None, 256, 256, 5), dtype=tf.float32, name=None), TensorSpec(shape=(None, 256, 256, 1), dtype=tf.float32, name=None))>"
            ]
          },
          "metadata": {},
          "execution_count": 11
        }
      ]
    },
    {
      "cell_type": "markdown",
      "source": [
        "# Evaluation data\n",
        "\n",
        "Now do the same thing to get an evaluation dataset.  Note that unlike the training dataset, the evaluation dataset has a batch size of 1, is not repeated and is not shuffled."
      ],
      "metadata": {
        "id": "beFseGNEWUpm"
      }
    },
    {
      "cell_type": "code",
      "source": [
        "def get_eval_dataset():\n",
        "\t\"\"\"Get the preprocessed evaluation dataset\n",
        "  Returns:\n",
        "    A tf.data.Dataset of evaluation data.\n",
        "  \"\"\"\n",
        "\t# root_dir = 'drive/My Drive/'\n",
        "\t# glob = root_dir + FOLDER + '/' + 'eval_patches' + '*'\n",
        "\tglob = 'gs://' + BUCKET + '/' + FOLDER + '/' + EVAL_BASE + '*'\n",
        "\tdataset = get_dataset(glob)\n",
        "\tdataset = dataset.batch(1).repeat()\n",
        "\treturn dataset\n",
        "\n",
        "evaluation = get_eval_dataset()\n",
        "evaluation"
      ],
      "metadata": {
        "colab": {
          "base_uri": "https://localhost:8080/"
        },
        "id": "rbSPM_a8WX6Z",
        "outputId": "03218835-03f7-4758-ff25-ad4e005c52e5"
      },
      "execution_count": 22,
      "outputs": [
        {
          "output_type": "execute_result",
          "data": {
            "text/plain": [
              "<_RepeatDataset element_spec=(TensorSpec(shape=(None, 256, 256, 5), dtype=tf.float32, name=None), TensorSpec(shape=(None, 256, 256, 1), dtype=tf.float32, name=None))>"
            ]
          },
          "metadata": {},
          "execution_count": 22
        }
      ]
    },
    {
      "cell_type": "markdown",
      "source": [
        "# Model\n",
        "\n",
        "Keras implementation of the U-Net model.  The U-Net model takes 256x256 pixel patches as input and outputs per-pixel class probability, label or a continuous output.  We can implement the model essentially unmodified, but will use mean squared error loss on the sigmoidal output since we are treating this as a regression problem, rather than a classification problem."
      ],
      "metadata": {
        "id": "s7Mtrx_YXE28"
      }
    },
    {
      "cell_type": "code",
      "source": [
        "from keras.models import *\n",
        "from keras.layers import *\n",
        "from keras import metrics\n",
        "from keras import optimizers\n",
        "from keras import losses\n",
        "\n",
        "# TODO: test other activation functions\n",
        "\n",
        "def conv_block(input_tensor, num_filters):\n",
        "\tencoder = Conv2D(num_filters, (3, 3), padding='same')(input_tensor)\n",
        "\tencoder = BatchNormalization()(encoder)\n",
        "\tencoder = Activation('relu')(encoder)\n",
        "\tencoder = Conv2D(num_filters, (3, 3), padding='same')(encoder)\n",
        "\tencoder = BatchNormalization()(encoder)\n",
        "\tencoder = Activation('relu')(encoder)\n",
        "\treturn encoder\n",
        "\n",
        "def encoder_block(input_tensor, num_filters):\n",
        "\tencoder = conv_block(input_tensor, num_filters)\n",
        "\tencoder_pool = MaxPooling2D((2, 2), strides=(2, 2))(encoder)\n",
        "\treturn encoder_pool, encoder\n",
        "\n",
        "def decoder_block(input_tensor, concat_tensor, num_filters):\n",
        "\tdecoder = Conv2DTranspose(num_filters, (2, 2), strides=(2, 2), padding='same')(input_tensor)\n",
        "\tdecoder = concatenate([concat_tensor, decoder], axis=-1)\n",
        "\tdecoder = BatchNormalization()(decoder)\n",
        "\tdecoder = Activation('relu')(decoder)\n",
        "\tdecoder = Conv2D(num_filters, (3, 3), padding='same')(decoder)\n",
        "\tdecoder = BatchNormalization()(decoder)\n",
        "\tdecoder = Activation('relu')(decoder)\n",
        "\tdecoder = Conv2D(num_filters, (3, 3), padding='same')(decoder)\n",
        "\tdecoder = BatchNormalization()(decoder)\n",
        "\tdecoder = Activation('relu')(decoder)\n",
        "\treturn decoder\n",
        "\n",
        "def get_model():\n",
        "\tinputs = Input(shape=[None, None, len(BANDS)]) # 256\n",
        "\tencoder0_pool, encoder0 = encoder_block(inputs, 32) # 128\n",
        "\tencoder1_pool, encoder1 = encoder_block(encoder0_pool, 64) # 64\n",
        "\tencoder2_pool, encoder2 = encoder_block(encoder1_pool, 128) # 32\n",
        "\tencoder3_pool, encoder3 = encoder_block(encoder2_pool, 256) # 16\n",
        "\tencoder4_pool, encoder4 = encoder_block(encoder3_pool, 512) # 8\n",
        "\tcenter = conv_block(encoder4_pool, 1024) # center\n",
        "\tdecoder4 = decoder_block(center, encoder4, 512) # 16\n",
        "\tdecoder3 = decoder_block(decoder4, encoder3, 256) # 32\n",
        "\tdecoder2 = decoder_block(decoder3, encoder2, 128) # 64\n",
        "\tdecoder1 = decoder_block(decoder2, encoder1, 64) # 128\n",
        "\tdecoder0 = decoder_block(decoder1, encoder0, 32) # 256\n",
        "\toutputs = Conv2D(1, (1, 1), activation='sigmoid')(decoder0)\n",
        "\n",
        "\tmodel = Model(inputs=[inputs], outputs=[outputs])\n",
        "\n",
        "\tmodel.compile(\n",
        "\t\toptimizer=optimizers.get(OPTIMIZER),\n",
        "\t\tloss=losses.get(LOSS),\n",
        "\t\tmetrics=[metrics.get(metric) for metric in METRICS])\n",
        "\n",
        "\treturn model"
      ],
      "metadata": {
        "id": "NJr-VUE7XF08"
      },
      "execution_count": 19,
      "outputs": []
    },
    {
      "cell_type": "markdown",
      "source": [
        "# Training the model\n",
        "\n",
        "Here we're going to train for 10 epochs.  For better accuracy, optimize this parameter, for example through [hyperparamter tuning](https://cloud.google.com/ml-engine/docs/tensorflow/using-hyperparameter-tuning)."
      ],
      "metadata": {
        "id": "YCqxtyDoXtQv"
      }
    },
    {
      "cell_type": "code",
      "source": [
        "m = get_model()\n",
        "\n",
        "m.fit(\n",
        "    x=training,\n",
        "    epochs=EPOCHS,\n",
        "    steps_per_epoch=int(TRAIN_SIZE / BATCH_SIZE),\n",
        "    validation_data=evaluation,\n",
        "    validation_steps=EVAL_SIZE)\n",
        "\n",
        "# Save the weights\n",
        "m.save_weights('drive/My Drive/carbon_mapping/params/normalized')"
      ],
      "metadata": {
        "id": "J2aFnKTZP-av",
        "colab": {
          "base_uri": "https://localhost:8080/"
        },
        "outputId": "60abc6cc-0b20-496b-d78a-10e5d35463e6"
      },
      "execution_count": 14,
      "outputs": [
        {
          "output_type": "stream",
          "name": "stdout",
          "text": [
            "Epoch 1/2\n",
            "625/625 [==============================] - 455s 652ms/step - loss: 0.0130 - root_mean_squared_error: 0.1139 - val_loss: 0.0447 - val_root_mean_squared_error: 0.2115\n",
            "Epoch 2/2\n",
            "625/625 [==============================] - 346s 554ms/step - loss: 0.0118 - root_mean_squared_error: 0.1086 - val_loss: 0.0515 - val_root_mean_squared_error: 0.2269\n"
          ]
        }
      ]
    },
    {
      "cell_type": "code",
      "source": [
        "# Display the model's architecture\n",
        "m.summary()"
      ],
      "metadata": {
        "colab": {
          "base_uri": "https://localhost:8080/"
        },
        "id": "odheK3XKblhh",
        "outputId": "a75ba898-017d-44f5-c5e1-c965fdbfaabe"
      },
      "execution_count": null,
      "outputs": [
        {
          "output_type": "stream",
          "name": "stdout",
          "text": [
            "Model: \"model_3\"\n",
            "__________________________________________________________________________________________________\n",
            " Layer (type)                   Output Shape         Param #     Connected to                     \n",
            "==================================================================================================\n",
            " input_4 (InputLayer)           [(None, None, None,  0           []                               \n",
            "                                 5)]                                                              \n",
            "                                                                                                  \n",
            " conv2d_69 (Conv2D)             (None, None, None,   1472        ['input_4[0][0]']                \n",
            "                                32)                                                               \n",
            "                                                                                                  \n",
            " batch_normalization_81 (BatchN  (None, None, None,   128        ['conv2d_69[0][0]']              \n",
            " ormalization)                  32)                                                               \n",
            "                                                                                                  \n",
            " activation_81 (Activation)     (None, None, None,   0           ['batch_normalization_81[0][0]'] \n",
            "                                32)                                                               \n",
            "                                                                                                  \n",
            " conv2d_70 (Conv2D)             (None, None, None,   9248        ['activation_81[0][0]']          \n",
            "                                32)                                                               \n",
            "                                                                                                  \n",
            " batch_normalization_82 (BatchN  (None, None, None,   128        ['conv2d_70[0][0]']              \n",
            " ormalization)                  32)                                                               \n",
            "                                                                                                  \n",
            " activation_82 (Activation)     (None, None, None,   0           ['batch_normalization_82[0][0]'] \n",
            "                                32)                                                               \n",
            "                                                                                                  \n",
            " max_pooling2d_15 (MaxPooling2D  (None, None, None,   0          ['activation_82[0][0]']          \n",
            " )                              32)                                                               \n",
            "                                                                                                  \n",
            " conv2d_71 (Conv2D)             (None, None, None,   18496       ['max_pooling2d_15[0][0]']       \n",
            "                                64)                                                               \n",
            "                                                                                                  \n",
            " batch_normalization_83 (BatchN  (None, None, None,   256        ['conv2d_71[0][0]']              \n",
            " ormalization)                  64)                                                               \n",
            "                                                                                                  \n",
            " activation_83 (Activation)     (None, None, None,   0           ['batch_normalization_83[0][0]'] \n",
            "                                64)                                                               \n",
            "                                                                                                  \n",
            " conv2d_72 (Conv2D)             (None, None, None,   36928       ['activation_83[0][0]']          \n",
            "                                64)                                                               \n",
            "                                                                                                  \n",
            " batch_normalization_84 (BatchN  (None, None, None,   256        ['conv2d_72[0][0]']              \n",
            " ormalization)                  64)                                                               \n",
            "                                                                                                  \n",
            " activation_84 (Activation)     (None, None, None,   0           ['batch_normalization_84[0][0]'] \n",
            "                                64)                                                               \n",
            "                                                                                                  \n",
            " max_pooling2d_16 (MaxPooling2D  (None, None, None,   0          ['activation_84[0][0]']          \n",
            " )                              64)                                                               \n",
            "                                                                                                  \n",
            " conv2d_73 (Conv2D)             (None, None, None,   73856       ['max_pooling2d_16[0][0]']       \n",
            "                                128)                                                              \n",
            "                                                                                                  \n",
            " batch_normalization_85 (BatchN  (None, None, None,   512        ['conv2d_73[0][0]']              \n",
            " ormalization)                  128)                                                              \n",
            "                                                                                                  \n",
            " activation_85 (Activation)     (None, None, None,   0           ['batch_normalization_85[0][0]'] \n",
            "                                128)                                                              \n",
            "                                                                                                  \n",
            " conv2d_74 (Conv2D)             (None, None, None,   147584      ['activation_85[0][0]']          \n",
            "                                128)                                                              \n",
            "                                                                                                  \n",
            " batch_normalization_86 (BatchN  (None, None, None,   512        ['conv2d_74[0][0]']              \n",
            " ormalization)                  128)                                                              \n",
            "                                                                                                  \n",
            " activation_86 (Activation)     (None, None, None,   0           ['batch_normalization_86[0][0]'] \n",
            "                                128)                                                              \n",
            "                                                                                                  \n",
            " max_pooling2d_17 (MaxPooling2D  (None, None, None,   0          ['activation_86[0][0]']          \n",
            " )                              128)                                                              \n",
            "                                                                                                  \n",
            " conv2d_75 (Conv2D)             (None, None, None,   295168      ['max_pooling2d_17[0][0]']       \n",
            "                                256)                                                              \n",
            "                                                                                                  \n",
            " batch_normalization_87 (BatchN  (None, None, None,   1024       ['conv2d_75[0][0]']              \n",
            " ormalization)                  256)                                                              \n",
            "                                                                                                  \n",
            " activation_87 (Activation)     (None, None, None,   0           ['batch_normalization_87[0][0]'] \n",
            "                                256)                                                              \n",
            "                                                                                                  \n",
            " conv2d_76 (Conv2D)             (None, None, None,   590080      ['activation_87[0][0]']          \n",
            "                                256)                                                              \n",
            "                                                                                                  \n",
            " batch_normalization_88 (BatchN  (None, None, None,   1024       ['conv2d_76[0][0]']              \n",
            " ormalization)                  256)                                                              \n",
            "                                                                                                  \n",
            " activation_88 (Activation)     (None, None, None,   0           ['batch_normalization_88[0][0]'] \n",
            "                                256)                                                              \n",
            "                                                                                                  \n",
            " max_pooling2d_18 (MaxPooling2D  (None, None, None,   0          ['activation_88[0][0]']          \n",
            " )                              256)                                                              \n",
            "                                                                                                  \n",
            " conv2d_77 (Conv2D)             (None, None, None,   1180160     ['max_pooling2d_18[0][0]']       \n",
            "                                512)                                                              \n",
            "                                                                                                  \n",
            " batch_normalization_89 (BatchN  (None, None, None,   2048       ['conv2d_77[0][0]']              \n",
            " ormalization)                  512)                                                              \n",
            "                                                                                                  \n",
            " activation_89 (Activation)     (None, None, None,   0           ['batch_normalization_89[0][0]'] \n",
            "                                512)                                                              \n",
            "                                                                                                  \n",
            " conv2d_78 (Conv2D)             (None, None, None,   2359808     ['activation_89[0][0]']          \n",
            "                                512)                                                              \n",
            "                                                                                                  \n",
            " batch_normalization_90 (BatchN  (None, None, None,   2048       ['conv2d_78[0][0]']              \n",
            " ormalization)                  512)                                                              \n",
            "                                                                                                  \n",
            " activation_90 (Activation)     (None, None, None,   0           ['batch_normalization_90[0][0]'] \n",
            "                                512)                                                              \n",
            "                                                                                                  \n",
            " max_pooling2d_19 (MaxPooling2D  (None, None, None,   0          ['activation_90[0][0]']          \n",
            " )                              512)                                                              \n",
            "                                                                                                  \n",
            " conv2d_79 (Conv2D)             (None, None, None,   4719616     ['max_pooling2d_19[0][0]']       \n",
            "                                1024)                                                             \n",
            "                                                                                                  \n",
            " batch_normalization_91 (BatchN  (None, None, None,   4096       ['conv2d_79[0][0]']              \n",
            " ormalization)                  1024)                                                             \n",
            "                                                                                                  \n",
            " activation_91 (Activation)     (None, None, None,   0           ['batch_normalization_91[0][0]'] \n",
            "                                1024)                                                             \n",
            "                                                                                                  \n",
            " conv2d_80 (Conv2D)             (None, None, None,   9438208     ['activation_91[0][0]']          \n",
            "                                1024)                                                             \n",
            "                                                                                                  \n",
            " batch_normalization_92 (BatchN  (None, None, None,   4096       ['conv2d_80[0][0]']              \n",
            " ormalization)                  1024)                                                             \n",
            "                                                                                                  \n",
            " activation_92 (Activation)     (None, None, None,   0           ['batch_normalization_92[0][0]'] \n",
            "                                1024)                                                             \n",
            "                                                                                                  \n",
            " conv2d_transpose_15 (Conv2DTra  (None, None, None,   2097664    ['activation_92[0][0]']          \n",
            " nspose)                        512)                                                              \n",
            "                                                                                                  \n",
            " concatenate_15 (Concatenate)   (None, None, None,   0           ['activation_90[0][0]',          \n",
            "                                1024)                             'conv2d_transpose_15[0][0]']    \n",
            "                                                                                                  \n",
            " batch_normalization_93 (BatchN  (None, None, None,   4096       ['concatenate_15[0][0]']         \n",
            " ormalization)                  1024)                                                             \n",
            "                                                                                                  \n",
            " activation_93 (Activation)     (None, None, None,   0           ['batch_normalization_93[0][0]'] \n",
            "                                1024)                                                             \n",
            "                                                                                                  \n",
            " conv2d_81 (Conv2D)             (None, None, None,   4719104     ['activation_93[0][0]']          \n",
            "                                512)                                                              \n",
            "                                                                                                  \n",
            " batch_normalization_94 (BatchN  (None, None, None,   2048       ['conv2d_81[0][0]']              \n",
            " ormalization)                  512)                                                              \n",
            "                                                                                                  \n",
            " activation_94 (Activation)     (None, None, None,   0           ['batch_normalization_94[0][0]'] \n",
            "                                512)                                                              \n",
            "                                                                                                  \n",
            " conv2d_82 (Conv2D)             (None, None, None,   2359808     ['activation_94[0][0]']          \n",
            "                                512)                                                              \n",
            "                                                                                                  \n",
            " batch_normalization_95 (BatchN  (None, None, None,   2048       ['conv2d_82[0][0]']              \n",
            " ormalization)                  512)                                                              \n",
            "                                                                                                  \n",
            " activation_95 (Activation)     (None, None, None,   0           ['batch_normalization_95[0][0]'] \n",
            "                                512)                                                              \n",
            "                                                                                                  \n",
            " conv2d_transpose_16 (Conv2DTra  (None, None, None,   524544     ['activation_95[0][0]']          \n",
            " nspose)                        256)                                                              \n",
            "                                                                                                  \n",
            " concatenate_16 (Concatenate)   (None, None, None,   0           ['activation_88[0][0]',          \n",
            "                                512)                              'conv2d_transpose_16[0][0]']    \n",
            "                                                                                                  \n",
            " batch_normalization_96 (BatchN  (None, None, None,   2048       ['concatenate_16[0][0]']         \n",
            " ormalization)                  512)                                                              \n",
            "                                                                                                  \n",
            " activation_96 (Activation)     (None, None, None,   0           ['batch_normalization_96[0][0]'] \n",
            "                                512)                                                              \n",
            "                                                                                                  \n",
            " conv2d_83 (Conv2D)             (None, None, None,   1179904     ['activation_96[0][0]']          \n",
            "                                256)                                                              \n",
            "                                                                                                  \n",
            " batch_normalization_97 (BatchN  (None, None, None,   1024       ['conv2d_83[0][0]']              \n",
            " ormalization)                  256)                                                              \n",
            "                                                                                                  \n",
            " activation_97 (Activation)     (None, None, None,   0           ['batch_normalization_97[0][0]'] \n",
            "                                256)                                                              \n",
            "                                                                                                  \n",
            " conv2d_84 (Conv2D)             (None, None, None,   590080      ['activation_97[0][0]']          \n",
            "                                256)                                                              \n",
            "                                                                                                  \n",
            " batch_normalization_98 (BatchN  (None, None, None,   1024       ['conv2d_84[0][0]']              \n",
            " ormalization)                  256)                                                              \n",
            "                                                                                                  \n",
            " activation_98 (Activation)     (None, None, None,   0           ['batch_normalization_98[0][0]'] \n",
            "                                256)                                                              \n",
            "                                                                                                  \n",
            " conv2d_transpose_17 (Conv2DTra  (None, None, None,   131200     ['activation_98[0][0]']          \n",
            " nspose)                        128)                                                              \n",
            "                                                                                                  \n",
            " concatenate_17 (Concatenate)   (None, None, None,   0           ['activation_86[0][0]',          \n",
            "                                256)                              'conv2d_transpose_17[0][0]']    \n",
            "                                                                                                  \n",
            " batch_normalization_99 (BatchN  (None, None, None,   1024       ['concatenate_17[0][0]']         \n",
            " ormalization)                  256)                                                              \n",
            "                                                                                                  \n",
            " activation_99 (Activation)     (None, None, None,   0           ['batch_normalization_99[0][0]'] \n",
            "                                256)                                                              \n",
            "                                                                                                  \n",
            " conv2d_85 (Conv2D)             (None, None, None,   295040      ['activation_99[0][0]']          \n",
            "                                128)                                                              \n",
            "                                                                                                  \n",
            " batch_normalization_100 (Batch  (None, None, None,   512        ['conv2d_85[0][0]']              \n",
            " Normalization)                 128)                                                              \n",
            "                                                                                                  \n",
            " activation_100 (Activation)    (None, None, None,   0           ['batch_normalization_100[0][0]']\n",
            "                                128)                                                              \n",
            "                                                                                                  \n",
            " conv2d_86 (Conv2D)             (None, None, None,   147584      ['activation_100[0][0]']         \n",
            "                                128)                                                              \n",
            "                                                                                                  \n",
            " batch_normalization_101 (Batch  (None, None, None,   512        ['conv2d_86[0][0]']              \n",
            " Normalization)                 128)                                                              \n",
            "                                                                                                  \n",
            " activation_101 (Activation)    (None, None, None,   0           ['batch_normalization_101[0][0]']\n",
            "                                128)                                                              \n",
            "                                                                                                  \n",
            " conv2d_transpose_18 (Conv2DTra  (None, None, None,   32832      ['activation_101[0][0]']         \n",
            " nspose)                        64)                                                               \n",
            "                                                                                                  \n",
            " concatenate_18 (Concatenate)   (None, None, None,   0           ['activation_84[0][0]',          \n",
            "                                128)                              'conv2d_transpose_18[0][0]']    \n",
            "                                                                                                  \n",
            " batch_normalization_102 (Batch  (None, None, None,   512        ['concatenate_18[0][0]']         \n",
            " Normalization)                 128)                                                              \n",
            "                                                                                                  \n",
            " activation_102 (Activation)    (None, None, None,   0           ['batch_normalization_102[0][0]']\n",
            "                                128)                                                              \n",
            "                                                                                                  \n",
            " conv2d_87 (Conv2D)             (None, None, None,   73792       ['activation_102[0][0]']         \n",
            "                                64)                                                               \n",
            "                                                                                                  \n",
            " batch_normalization_103 (Batch  (None, None, None,   256        ['conv2d_87[0][0]']              \n",
            " Normalization)                 64)                                                               \n",
            "                                                                                                  \n",
            " activation_103 (Activation)    (None, None, None,   0           ['batch_normalization_103[0][0]']\n",
            "                                64)                                                               \n",
            "                                                                                                  \n",
            " conv2d_88 (Conv2D)             (None, None, None,   36928       ['activation_103[0][0]']         \n",
            "                                64)                                                               \n",
            "                                                                                                  \n",
            " batch_normalization_104 (Batch  (None, None, None,   256        ['conv2d_88[0][0]']              \n",
            " Normalization)                 64)                                                               \n",
            "                                                                                                  \n",
            " activation_104 (Activation)    (None, None, None,   0           ['batch_normalization_104[0][0]']\n",
            "                                64)                                                               \n",
            "                                                                                                  \n",
            " conv2d_transpose_19 (Conv2DTra  (None, None, None,   8224       ['activation_104[0][0]']         \n",
            " nspose)                        32)                                                               \n",
            "                                                                                                  \n",
            " concatenate_19 (Concatenate)   (None, None, None,   0           ['activation_82[0][0]',          \n",
            "                                64)                               'conv2d_transpose_19[0][0]']    \n",
            "                                                                                                  \n",
            " batch_normalization_105 (Batch  (None, None, None,   256        ['concatenate_19[0][0]']         \n",
            " Normalization)                 64)                                                               \n",
            "                                                                                                  \n",
            " activation_105 (Activation)    (None, None, None,   0           ['batch_normalization_105[0][0]']\n",
            "                                64)                                                               \n",
            "                                                                                                  \n",
            " conv2d_89 (Conv2D)             (None, None, None,   18464       ['activation_105[0][0]']         \n",
            "                                32)                                                               \n",
            "                                                                                                  \n",
            " batch_normalization_106 (Batch  (None, None, None,   128        ['conv2d_89[0][0]']              \n",
            " Normalization)                 32)                                                               \n",
            "                                                                                                  \n",
            " activation_106 (Activation)    (None, None, None,   0           ['batch_normalization_106[0][0]']\n",
            "                                32)                                                               \n",
            "                                                                                                  \n",
            " conv2d_90 (Conv2D)             (None, None, None,   9248        ['activation_106[0][0]']         \n",
            "                                32)                                                               \n",
            "                                                                                                  \n",
            " batch_normalization_107 (Batch  (None, None, None,   128        ['conv2d_90[0][0]']              \n",
            " Normalization)                 32)                                                               \n",
            "                                                                                                  \n",
            " activation_107 (Activation)    (None, None, None,   0           ['batch_normalization_107[0][0]']\n",
            "                                32)                                                               \n",
            "                                                                                                  \n",
            " conv2d_91 (Conv2D)             (None, None, None,   33          ['activation_107[0][0]']         \n",
            "                                1)                                                                \n",
            "                                                                                                  \n",
            "==================================================================================================\n",
            "Total params: 31,127,073\n",
            "Trainable params: 31,111,073\n",
            "Non-trainable params: 16,000\n",
            "__________________________________________________________________________________________________\n"
          ]
        }
      ]
    },
    {
      "cell_type": "code",
      "source": [
        "m = get_model()\n",
        "# Restore the weights\n",
        "m.load_weights('drive/My Drive/carbon_mapping/params/normalized')\n",
        "\n",
        "# Evaluate the model\n",
        "loss, acc = m.evaluate(x=evaluation, verbose=2, steps=1000)\n",
        "print(\"Restored model, accuracy: {:5.2f}%\".format(100 * acc))\n"
      ],
      "metadata": {
        "colab": {
          "base_uri": "https://localhost:8080/"
        },
        "id": "QlZiqia4dSv4",
        "outputId": "41083d8c-9683-4eeb-f716-2a1005f735cf"
      },
      "execution_count": 23,
      "outputs": [
        {
          "output_type": "stream",
          "name": "stdout",
          "text": [
            "1000/1000 - 27s - loss: 0.0392 - root_mean_squared_error: 0.1980 - 27s/epoch - 27ms/step\n",
            "Restored model, accuracy: 19.80%\n"
          ]
        }
      ]
    },
    {
      "cell_type": "markdown",
      "source": [
        "# Prediction\n",
        "\n",
        "The prediction pipeline is:\n",
        "\n",
        "1.  Export imagery on which to do predictions from Earth Engine in TFRecord format to a Cloud Storage bucket.\n",
        "2.  Use the trained model to make the predictions.\n",
        "3.  Write the predictions to a TFRecord file in a Cloud Storage.\n",
        "4.  Upload the predictions TFRecord file to Earth Engine.\n"
      ],
      "metadata": {
        "id": "Z7NnZU9KXPAC"
      }
    },
    {
      "cell_type": "code",
      "source": [
        "def doExport(inputs, out_image_base, kernel_buffer, region):\n",
        "  \"\"\"Run the image export task.  Block until complete.\n",
        "  \"\"\"\n",
        "  task = ee.batch.Export.image.toCloudStorage(\n",
        "    image = inputs.select(BANDS),\n",
        "    description = out_image_base,\n",
        "    bucket = BUCKET,\n",
        "    fileNamePrefix = FOLDER + '/' + out_image_base,\n",
        "    # Google Drive export\n",
        "    # folder = FOLDER,\n",
        "    # fileNamePrefix = out_image_base,\n",
        "    region = region.getInfo()['coordinates'],\n",
        "    scale = 250,\n",
        "    fileFormat = 'TFRecord',\n",
        "    maxPixels = 1e10,\n",
        "    formatOptions = {\n",
        "      'patchDimensions': KERNEL_SHAPE,\n",
        "      'kernelSize': kernel_buffer,\n",
        "      'compressed': True,\n",
        "      'maxFileSize': 104857600\n",
        "    }\n",
        "  )\n",
        "  task.start()\n",
        "\n",
        "  # Block until the task completes.\n",
        "  print('Running image export to Google Drive...')\n",
        "  import time\n",
        "  while task.active():\n",
        "    time.sleep(30)\n",
        "\n",
        "  # Error condition\n",
        "  if task.status()['state'] != 'COMPLETED':\n",
        "    print('Error with image export.')\n",
        "  else:\n",
        "    print('Image export completed.')"
      ],
      "metadata": {
        "id": "pzCXrKiSXkgU"
      },
      "execution_count": 39,
      "outputs": []
    },
    {
      "cell_type": "markdown",
      "source": [
        "Now there's all the code needed to run the prediction pipeline, all that remains is to specify the output region in which to do the prediction, the names of the output files, where to put them, and the shape of the outputs.  In terms of the shape, the model is trained on 256x256 patches, but can work (in theory) on any patch that's big enough with even dimensions ([reference](https://www.cv-foundation.org/openaccess/content_cvpr_2015/papers/Long_Fully_Convolutional_Networks_2015_CVPR_paper.pdf)).  Because of tile boundary artifacts, give the model slightly larger patches for prediction, then clip out the middle 256x256 patch.  This is controlled with a kernel buffer, half the size of which will extend beyond the kernel buffer.  For example, specifying a 128x128 kernel will append 64 pixels on each side of the patch, to ensure that the pixels in the output are taken from inputs completely covered by the kernel."
      ],
      "metadata": {
        "id": "ImGAjvlBZ8Q0"
      }
    },
    {
      "cell_type": "code",
      "source": [
        "# Output assets folder:\n",
        "user_folder = 'users/weizhon'\n",
        "\n",
        "# Base file name to use for TFRecord files and assets.\n",
        "test_image_base = 'test_'\n",
        "us_image_base = 'prediction_US_'\n",
        "# Half this will extend on the sides of each patch.\n",
        "us_kernel_buffer = [128, 128]\n",
        "\n",
        "# inputs\n",
        "inputs = ee.Image.cat([\n",
        "  EVI.select('EVI'),\n",
        "  discrete_classification.select('discrete_classification'),\n",
        "  forest_type.select('forest_type'),\n",
        "  Percent_Tree_Cover.select('Percent_Tree_Cover'),\n",
        "  Percent_NonTree_Vegetation.select('Percent_NonTree_Vegetation')\n",
        "]).float()\n",
        "\n",
        "# Beijing\n",
        "test_region = ee.Geometry.Polygon(\n",
        "        [[[-75.84420671897553,39.68194836331575],\n",
        "          [-75.70685903883366,38.4664691514055],\n",
        "          [-75.04760134600936,38.449261039643126],\n",
        "          [-75.06408223240061,38.83544909069462],\n",
        "          [-75.34976093243921,39.257849316224835],\n",
        "          [-75.84420671897553,39.68194836331575]]], None, False)"
      ],
      "metadata": {
        "id": "DH2WryDZZ84p"
      },
      "execution_count": 40,
      "outputs": []
    },
    {
      "cell_type": "code",
      "source": [
        "# Run the export.\n",
        "doExport(inputs, test_image_base, us_kernel_buffer, test_region)"
      ],
      "metadata": {
        "id": "At-jt4h0aNCA",
        "colab": {
          "base_uri": "https://localhost:8080/"
        },
        "outputId": "ce336d56-3248-4f9d-ede3-bd81716c57b4"
      },
      "execution_count": 41,
      "outputs": [
        {
          "output_type": "stream",
          "name": "stdout",
          "text": [
            "Running image export to Google Drive...\n",
            "Image export completed.\n"
          ]
        }
      ]
    },
    {
      "cell_type": "code",
      "source": [
        "def doPrediction(out_image_base, user_folder, kernel_buffer, region):\n",
        "  \"\"\"Perform inference on exported imagery, upload to Earth Engine.\n",
        "  \"\"\"\n",
        "\n",
        "  print('Looking for TFRecord files...')\n",
        "\n",
        "  # Get a list of all the files in the output bucket.\n",
        "  # gdrive\n",
        "  # filesList = !ls -1 'drive/My Drive/'{FOLDER}\n",
        "  filesList = !gsutil ls 'gs://'{BUCKET}'/'{FOLDER}\n",
        "  # Get only the files generated by the image export.\n",
        "  exportFilesList = [s for s in filesList if out_image_base in s]\n",
        "\n",
        "  # Get the list of image files and the JSON mixer file.\n",
        "  imageFilesList = []\n",
        "  jsonFile = None\n",
        "  for f in exportFilesList:\n",
        "    if f.endswith('.tfrecord.gz'):\n",
        "      imageFilesList.append(f)\n",
        "    elif f.endswith('.json'):\n",
        "      jsonFile = f\n",
        "\n",
        "  # Make sure the files are in the right order.\n",
        "  imageFilesList.sort()\n",
        "  # gdrive\n",
        "  # for i, file in enumerate(imageFilesList):\n",
        "  #   imageFilesList[i] = 'drive/My Drive/' + FOLDER + '/' + file\n",
        "  from pprint import pprint\n",
        "  pprint(imageFilesList)\n",
        "  print(jsonFile)\n",
        "\n",
        "  import json\n",
        "  # Load the contents of the mixer file to a JSON object.\n",
        "  # gdrive\n",
        "  # jsonText = !cat 'drive/My Drive/'{FOLDER}'/'{jsonFile}\n",
        "  jsonText = !gsutil cat {jsonFile}\n",
        "  # Get a single string w/ newlines from the IPython.utils.text.SList\n",
        "  mixer = json.loads(jsonText.nlstr)\n",
        "  pprint(mixer)\n",
        "  patches = mixer['totalPatches']\n",
        "\n",
        "  # Get set up for prediction.\n",
        "  x_buffer = int(kernel_buffer[0] / 2)\n",
        "  y_buffer = int(kernel_buffer[1] / 2)\n",
        "\n",
        "  buffered_shape = [\n",
        "      KERNEL_SHAPE[0] + kernel_buffer[0],\n",
        "      KERNEL_SHAPE[1] + kernel_buffer[1]]\n",
        "\n",
        "  imageColumns = [\n",
        "    tf.io.FixedLenFeature(shape=buffered_shape, dtype=tf.float32)\n",
        "      for k in BANDS\n",
        "  ]\n",
        "\n",
        "  imageFeaturesDict = dict(zip(BANDS, imageColumns))\n",
        "\n",
        "  def parse_image(example_proto):\n",
        "    return tf.io.parse_single_example(example_proto, imageFeaturesDict)\n",
        "\n",
        "  def toTupleImage(inputs):\n",
        "    inputsList = [inputs.get(key) for key in BANDS]\n",
        "    stacked = tf.stack(inputsList, axis=0)\n",
        "    stacked = tf.transpose(stacked, [1, 2, 0])\n",
        "    return stacked\n",
        "\n",
        "   # Create a dataset from the TFRecord file(s) in Google Drive.\n",
        "  imageDataset = tf.data.TFRecordDataset(imageFilesList, compression_type='GZIP')\n",
        "  imageDataset = imageDataset.map(parse_image, num_parallel_calls=5)\n",
        "  imageDataset = imageDataset.map(toTupleImage).batch(1)\n",
        "\n",
        "  # Perform inference.\n",
        "  print('Running predictions...')\n",
        "  predictions = m.predict(imageDataset, steps=patches, verbose=1)\n",
        "  # print(predictions[0])\n",
        "\n",
        "  print('Writing predictions...')\n",
        "  # gDrive\n",
        "  # out_image_file = 'drive/My Drive/' + FOLDER + '/' + out_image_base + '.TFRecord'\n",
        "  out_image_file = 'gs://' + BUCKET + '/' + FOLDER + '/' + out_image_base + '.TFRecord'\n",
        "  writer = tf.io.TFRecordWriter(out_image_file)\n",
        "  patches = 0\n",
        "  for predictionPatch in predictions:\n",
        "    print('Writing patch ' + str(patches) + '...')\n",
        "    predictionPatch = predictionPatch[\n",
        "        x_buffer:x_buffer+KERNEL_SIZE, y_buffer:y_buffer+KERNEL_SIZE]\n",
        "\n",
        "    # Create an example.\n",
        "    example = tf.train.Example(\n",
        "      features=tf.train.Features(\n",
        "        feature={\n",
        "          'impervious': tf.train.Feature(\n",
        "              float_list=tf.train.FloatList(\n",
        "                  value=predictionPatch.flatten()))\n",
        "        }\n",
        "      )\n",
        "    )\n",
        "    # Write the example.\n",
        "    writer.write(example.SerializeToString())\n",
        "    patches += 1\n",
        "\n",
        "  writer.close()\n",
        "\n",
        "  # Start the upload.\n",
        "  out_image_asset = user_folder + '/' + out_image_base\n",
        "  !earthengine upload image --asset_id={out_image_asset} {out_image_file} {jsonFile}"
      ],
      "metadata": {
        "id": "Yf9hdBLeYTYU"
      },
      "execution_count": 42,
      "outputs": []
    },
    {
      "cell_type": "code",
      "source": [
        "# Run the prediction.\n",
        "doPrediction(test_image_base, user_folder, us_kernel_buffer, test_region)"
      ],
      "metadata": {
        "id": "M6_b6UqGaNq3",
        "colab": {
          "base_uri": "https://localhost:8080/"
        },
        "outputId": "e2167306-b6f5-4f60-ce20-be1eaa272574"
      },
      "execution_count": 43,
      "outputs": [
        {
          "output_type": "stream",
          "name": "stdout",
          "text": [
            "Looking for TFRecord files...\n",
            "['gs://cs6140/dataset/test_.tfrecord.gz']\n",
            "gs://cs6140/dataset/test_.json\n",
            "{'patchDimensions': [256, 256],\n",
            " 'patchesPerRow': 1,\n",
            " 'projection': {'affine': {'doubleMatrix': [0.002245788210298804,\n",
            "                                            0.0,\n",
            "                                            -75.8447594382112,\n",
            "                                            0.0,\n",
            "                                            -0.002245788210298804,\n",
            "                                            39.68307767597987]},\n",
            "                'crs': 'EPSG:4326'},\n",
            " 'totalPatches': 2}\n",
            "Running predictions...\n",
            "2/2 [==============================] - 0s 33ms/step\n",
            "Writing predictions...\n",
            "Writing patch 0...\n",
            "Writing patch 1...\n",
            "Started upload task with ID: I25A273XZNQDWT2MV4H35PR3\n"
          ]
        }
      ]
    },
    {
      "cell_type": "markdown",
      "source": [
        "# Display the output\n",
        "\n",
        "One the data has been exported, the model has made predictions and the predictions have been written to a file, and the image imported to Earth Engine, it's possible to display the resultant Earth Engine asset.  Here, display the impervious area predictions over Beijing, China."
      ],
      "metadata": {
        "id": "NttHsWDVaPu7"
      }
    },
    {
      "cell_type": "code",
      "source": [
        "out_image = ee.Image(user_folder + '/' + test_image_base)\n",
        "mapid = out_image.getMapId({'min': 0, 'max': 1, 'palette': ['bbe029', '0a9501', '074b03']})\n",
        "map = folium.Map(location=[49.2827, -123.1207])\n",
        "folium.TileLayer(\n",
        "    tiles=mapid['tile_fetcher'].url_format,\n",
        "    attr='Map Data &copy; <a href=\"https://earthengine.google.com/\">Google Earth Engine</a>',\n",
        "    overlay=True,\n",
        "    name='predicted impervious',\n",
        "  ).add_to(map)\n",
        "map.add_child(folium.LayerControl())\n",
        "map"
      ],
      "metadata": {
        "id": "4qhDgNuFaSK7",
        "colab": {
          "base_uri": "https://localhost:8080/",
          "height": 858
        },
        "outputId": "f7468cef-a827-4237-b9b7-85aec561c387"
      },
      "execution_count": 45,
      "outputs": [
        {
          "output_type": "execute_result",
          "data": {
            "text/plain": [
              "<folium.folium.Map at 0x7c328069ab00>"
            ],
            "text/html": [
              "<div style=\"width:100%;\"><div style=\"position:relative;width:100%;height:0;padding-bottom:60%;\"><span style=\"color:#565656\">Make this Notebook Trusted to load map: File -> Trust Notebook</span><iframe srcdoc=\"&lt;!DOCTYPE html&gt;\n",
              "&lt;html&gt;\n",
              "&lt;head&gt;\n",
              "    \n",
              "    &lt;meta http-equiv=&quot;content-type&quot; content=&quot;text/html; charset=UTF-8&quot; /&gt;\n",
              "    \n",
              "        &lt;script&gt;\n",
              "            L_NO_TOUCH = false;\n",
              "            L_DISABLE_3D = false;\n",
              "        &lt;/script&gt;\n",
              "    \n",
              "    &lt;style&gt;html, body {width: 100%;height: 100%;margin: 0;padding: 0;}&lt;/style&gt;\n",
              "    &lt;style&gt;#map {position:absolute;top:0;bottom:0;right:0;left:0;}&lt;/style&gt;\n",
              "    &lt;script src=&quot;https://cdn.jsdelivr.net/npm/leaflet@1.9.3/dist/leaflet.js&quot;&gt;&lt;/script&gt;\n",
              "    &lt;script src=&quot;https://code.jquery.com/jquery-1.12.4.min.js&quot;&gt;&lt;/script&gt;\n",
              "    &lt;script src=&quot;https://cdn.jsdelivr.net/npm/bootstrap@5.2.2/dist/js/bootstrap.bundle.min.js&quot;&gt;&lt;/script&gt;\n",
              "    &lt;script src=&quot;https://cdnjs.cloudflare.com/ajax/libs/Leaflet.awesome-markers/2.0.2/leaflet.awesome-markers.js&quot;&gt;&lt;/script&gt;\n",
              "    &lt;link rel=&quot;stylesheet&quot; href=&quot;https://cdn.jsdelivr.net/npm/leaflet@1.9.3/dist/leaflet.css&quot;/&gt;\n",
              "    &lt;link rel=&quot;stylesheet&quot; href=&quot;https://cdn.jsdelivr.net/npm/bootstrap@5.2.2/dist/css/bootstrap.min.css&quot;/&gt;\n",
              "    &lt;link rel=&quot;stylesheet&quot; href=&quot;https://netdna.bootstrapcdn.com/bootstrap/3.0.0/css/bootstrap.min.css&quot;/&gt;\n",
              "    &lt;link rel=&quot;stylesheet&quot; href=&quot;https://cdn.jsdelivr.net/npm/@fortawesome/fontawesome-free@6.2.0/css/all.min.css&quot;/&gt;\n",
              "    &lt;link rel=&quot;stylesheet&quot; href=&quot;https://cdnjs.cloudflare.com/ajax/libs/Leaflet.awesome-markers/2.0.2/leaflet.awesome-markers.css&quot;/&gt;\n",
              "    &lt;link rel=&quot;stylesheet&quot; href=&quot;https://cdn.jsdelivr.net/gh/python-visualization/folium/folium/templates/leaflet.awesome.rotate.min.css&quot;/&gt;\n",
              "    \n",
              "            &lt;meta name=&quot;viewport&quot; content=&quot;width=device-width,\n",
              "                initial-scale=1.0, maximum-scale=1.0, user-scalable=no&quot; /&gt;\n",
              "            &lt;style&gt;\n",
              "                #map_e38ab1f2e5a34d37cd6ac19ad164289d {\n",
              "                    position: relative;\n",
              "                    width: 100.0%;\n",
              "                    height: 100.0%;\n",
              "                    left: 0.0%;\n",
              "                    top: 0.0%;\n",
              "                }\n",
              "                .leaflet-container { font-size: 1rem; }\n",
              "            &lt;/style&gt;\n",
              "        \n",
              "&lt;/head&gt;\n",
              "&lt;body&gt;\n",
              "    \n",
              "    \n",
              "            &lt;div class=&quot;folium-map&quot; id=&quot;map_e38ab1f2e5a34d37cd6ac19ad164289d&quot; &gt;&lt;/div&gt;\n",
              "        \n",
              "&lt;/body&gt;\n",
              "&lt;script&gt;\n",
              "    \n",
              "    \n",
              "            var map_e38ab1f2e5a34d37cd6ac19ad164289d = L.map(\n",
              "                &quot;map_e38ab1f2e5a34d37cd6ac19ad164289d&quot;,\n",
              "                {\n",
              "                    center: [49.2827, -123.1207],\n",
              "                    crs: L.CRS.EPSG3857,\n",
              "                    zoom: 10,\n",
              "                    zoomControl: true,\n",
              "                    preferCanvas: false,\n",
              "                }\n",
              "            );\n",
              "\n",
              "            \n",
              "\n",
              "        \n",
              "    \n",
              "            var tile_layer_0e0a948baf3565480c92e20ec51f09c9 = L.tileLayer(\n",
              "                &quot;https://{s}.tile.openstreetmap.org/{z}/{x}/{y}.png&quot;,\n",
              "                {&quot;attribution&quot;: &quot;Data by \\u0026copy; \\u003ca target=\\&quot;_blank\\&quot; href=\\&quot;http://openstreetmap.org\\&quot;\\u003eOpenStreetMap\\u003c/a\\u003e, under \\u003ca target=\\&quot;_blank\\&quot; href=\\&quot;http://www.openstreetmap.org/copyright\\&quot;\\u003eODbL\\u003c/a\\u003e.&quot;, &quot;detectRetina&quot;: false, &quot;maxNativeZoom&quot;: 18, &quot;maxZoom&quot;: 18, &quot;minZoom&quot;: 0, &quot;noWrap&quot;: false, &quot;opacity&quot;: 1, &quot;subdomains&quot;: &quot;abc&quot;, &quot;tms&quot;: false}\n",
              "            ).addTo(map_e38ab1f2e5a34d37cd6ac19ad164289d);\n",
              "        \n",
              "    \n",
              "            var tile_layer_bc526662aaf2905a884f429f10e1e285 = L.tileLayer(\n",
              "                &quot;https://earthengine.googleapis.com/v1/projects/earthengine-legacy/maps/47ecf2806c4470f992f54da812473d72-eef2371b06392e52f271eb1e6867d744/tiles/{z}/{x}/{y}&quot;,\n",
              "                {&quot;attribution&quot;: &quot;Map Data \\u0026copy; \\u003ca href=\\&quot;https://earthengine.google.com/\\&quot;\\u003eGoogle Earth Engine\\u003c/a\\u003e&quot;, &quot;detectRetina&quot;: false, &quot;maxNativeZoom&quot;: 18, &quot;maxZoom&quot;: 18, &quot;minZoom&quot;: 0, &quot;noWrap&quot;: false, &quot;opacity&quot;: 1, &quot;subdomains&quot;: &quot;abc&quot;, &quot;tms&quot;: false}\n",
              "            ).addTo(map_e38ab1f2e5a34d37cd6ac19ad164289d);\n",
              "        \n",
              "    \n",
              "            var layer_control_91d5a460b669a55296b6fe660d44fcba = {\n",
              "                base_layers : {\n",
              "                    &quot;openstreetmap&quot; : tile_layer_0e0a948baf3565480c92e20ec51f09c9,\n",
              "                },\n",
              "                overlays :  {\n",
              "                    &quot;predicted impervious&quot; : tile_layer_bc526662aaf2905a884f429f10e1e285,\n",
              "                },\n",
              "            };\n",
              "            L.control.layers(\n",
              "                layer_control_91d5a460b669a55296b6fe660d44fcba.base_layers,\n",
              "                layer_control_91d5a460b669a55296b6fe660d44fcba.overlays,\n",
              "                {&quot;autoZIndex&quot;: true, &quot;collapsed&quot;: true, &quot;position&quot;: &quot;topright&quot;}\n",
              "            ).addTo(map_e38ab1f2e5a34d37cd6ac19ad164289d);\n",
              "        \n",
              "&lt;/script&gt;\n",
              "&lt;/html&gt;\" style=\"position:absolute;width:100%;height:100%;left:0;top:0;border:none !important;\" allowfullscreen webkitallowfullscreen mozallowfullscreen></iframe></div></div>"
            ]
          },
          "metadata": {},
          "execution_count": 45
        }
      ]
    },
    {
      "cell_type": "markdown",
      "metadata": {
        "id": "5tWCMVsgGBhV"
      },
      "source": [
        "## Masking"
      ]
    },
    {
      "cell_type": "markdown",
      "metadata": {
        "id": "IQkzZ9A3q2pJ"
      },
      "source": [
        "Masking pixels in an image makes those pixels transparent and excludes them from analysis. Pixels with a mask values of 0 or below will be transparent, mask values between 0 and 1 will be partially rendered, whereas mask values above 1 will be fully rendered.\n",
        "\n",
        "In this example we will use a mask to only look at land data (exclude the water data) of the [Hansen Global Forest Change](https://developers.google.com/earth-engine/datasets/catalog/UMD_hansen_global_forest_change_2021_v1_9) dataset. This dataset is used because in the `datamask` column, water has a value of 2, land has the value 1, and 'no data' has the value 0."
      ]
    },
    {
      "cell_type": "code",
      "execution_count": null,
      "metadata": {
        "id": "2PX-DdczFQT9"
      },
      "outputs": [],
      "source": [
        "# Load or import the Hansen et al. forest change dataset.\n",
        "hansenImage = ee.Image('UMD/hansen/global_forest_change_2021_v1_9')\n",
        "\n",
        "# Select the land/water mask.\n",
        "datamask = hansenImage.select('datamask')\n",
        "\n",
        "# Create a binary mask. This means we are only selecting the land pixels (based\n",
        "# on how the datamask column is defined in the dataset).\n",
        "mask = datamask.eq(1)\n",
        "\n",
        "# Update the composite mask with the water mask.\n",
        "maskedComposite = median.updateMask(mask)\n",
        "\n",
        "map4c = Map(**map_init_params)\n",
        "map4c.addLayer(maskedComposite, landsat_rgb_viz, 'masked')\n",
        "map4c"
      ]
    },
    {
      "cell_type": "markdown",
      "metadata": {
        "id": "EwJdjBjENI8S"
      },
      "source": [
        "# NDVI, Mapping a Function over a Collection, Quality Mosaicking"
      ]
    },
    {
      "cell_type": "markdown",
      "metadata": {
        "id": "QA9Vami5z9xq"
      },
      "source": [
        "In this section we will calculate the Normalized Difference Vegetation Index (NDVI) for Landsat 8 images.\n",
        "\n",
        "The NDVI is used to determine how much green vegetation exists in an area. NDVI relies on green vegetation having a strong reflectance for Near Infrared (NIR) and a weak reflectance for red light.\n",
        "\n",
        "\n",
        "\n"
      ]
    },
    {
      "cell_type": "markdown",
      "metadata": {
        "id": "jE9RYKaHoijm"
      },
      "source": [
        "The formula for NDVI is as follows:\n",
        "\n",
        "\\begin{align}\n",
        "\\text{NDVI} = \\frac{\\text{NIR}-\\text{R}}{\\text{NIR}+\\text{R}}\n",
        "\\end{align}\n",
        "\n",
        "where $\\text{NIR}$ and $\\text{R}$ are the spectral reflectance in the near-infrared and red (visible) regions, respectively (source: [wikipedia](https://en.wikipedia.org/wiki/Normalized_difference_vegetation_index)).\n",
        "\n",
        "For Landsat 8 and 9:\n",
        "\n",
        "\\begin{align}\n",
        "\\text{NDVI} = \\frac{\\text{Band5}-\\text{Band4}}{\\text{Band5}+\\text{Band4}}\n",
        "\\end{align}\n",
        "\n",
        "where $\\text{Band5}$ and $\\text{Band4}$ are the corresponding Landsat bands, respectively (source: [USGS](https://www.usgs.gov/landsat-missions/landsat-normalized-difference-vegetation-index#:~:text=In%20Landsat%204%2D7%2C%20NDVI,Band%205%20%2B%20Band%204)).\n"
      ]
    },
    {
      "cell_type": "markdown",
      "metadata": {
        "id": "xXg2xAvqvifs"
      },
      "source": [
        "Below are examples of NDVI calculated for two pieces of vegetation in different states.\n",
        "\n",
        "![NDVI](https://earthobservatory.nasa.gov/ContentFeature/MeasuringVegetation/Images/ndvi_example.jpg)\n",
        "\n",
        "*Image source: [earthobservatory.nasa.gov](https://earthobservatory.nasa.gov/ContentFeature/MeasuringVegetation/Images/ndvi_example.jpg)*"
      ]
    },
    {
      "cell_type": "markdown",
      "metadata": {
        "id": "5xh7SuTG3oWX"
      },
      "source": [
        "### Calculate NDVI on a Single Image"
      ]
    },
    {
      "cell_type": "markdown",
      "metadata": {
        "id": "Z296JNYp3dpS"
      },
      "source": [
        "First we will calculate the NDVI on a single image:"
      ]
    },
    {
      "cell_type": "code",
      "execution_count": null,
      "metadata": {
        "id": "bBdqGdkrKTiD"
      },
      "outputs": [],
      "source": [
        "# Define a point of interest.\n",
        "point = ee.Geometry.Point(location_lonlat)\n",
        "\n",
        "# Get the least cloudy image in 2016.\n",
        "image = ee.Image(\n",
        "  landsat8.filterBounds(point)\n",
        "          .filterDate('2016-01-01', '2016-12-31')\n",
        "          .sort('CLOUD_COVER')\n",
        "          .first()\n",
        ")"
      ]
    },
    {
      "cell_type": "markdown",
      "metadata": {
        "id": "kofuuV4wuRi-"
      },
      "source": [
        "NDVI can be calculated within Earth Engine as follows:"
      ]
    },
    {
      "cell_type": "code",
      "execution_count": null,
      "metadata": {
        "id": "vvxKEaR9O06C"
      },
      "outputs": [],
      "source": [
        "nir = image.select('B5')\n",
        "red = image.select('B4')\n",
        "ndvi = nir.subtract(red).divide(nir.add(red)).rename('NDVI')"
      ]
    },
    {
      "cell_type": "markdown",
      "metadata": {
        "id": "T73zk-GEuix0"
      },
      "source": [
        "Let's display a map showing the `ndvi` object. We will use simple visualization  where blue is low (negative) NDVI and green is high (positive) NDVI. Water tends to result in a negative NDVI value, while clouds have NDVI values near zero."
      ]
    },
    {
      "cell_type": "code",
      "execution_count": null,
      "metadata": {
        "id": "EAIP7DnyNb3_"
      },
      "outputs": [],
      "source": [
        "ndvi_vis_arams = {\n",
        "    'bands': 'NDVI',\n",
        "    'min': -1,\n",
        "    'max': 1,\n",
        "    'palette': ['blue', 'white', 'green']\n",
        "}\n",
        "\n",
        "map5a = Map(**map_init_params)\n",
        "map5a.addLayer(ndvi, ndvi_vis_arams, 'NDVI image')\n",
        "map5a"
      ]
    },
    {
      "cell_type": "markdown",
      "metadata": {
        "id": "BiF8Kyc97Z39"
      },
      "source": [
        "Because calculating band ratios (such as NDVI) is commonly done as part of a remote sensing analysis workflow, Earth Engine images have a shortcut method to make this easier: `ee.Image.normalizedDifference()`."
      ]
    },
    {
      "cell_type": "code",
      "execution_count": null,
      "metadata": {
        "id": "5iHbLw2nPWyr"
      },
      "outputs": [],
      "source": [
        "# Remove the NDVI layer\n",
        "map5a.remove_layer(map5a.layers[1])"
      ]
    },
    {
      "cell_type": "code",
      "execution_count": null,
      "metadata": {
        "id": "Z3wOypQzOiAW"
      },
      "outputs": [],
      "source": [
        "# Redefine NDVI using ee.Image.normalizedDifference, and add it back again.\n",
        "ndvi = image.normalizedDifference(['B5', 'B4']).rename('NDVI')\n",
        "map5a.addLayer(ndvi, ndvi_vis_arams, 'NDVI image')"
      ]
    },
    {
      "cell_type": "markdown",
      "metadata": {
        "id": "Yk9KTmJJ8D9p"
      },
      "source": [
        "## Applying NDVI to an Image Collection"
      ]
    },
    {
      "cell_type": "markdown",
      "metadata": {
        "id": "B9pIcInFoDg1"
      },
      "source": [
        "In Earth Engine we can apply an algorithm that works on a single image (such as calculating NDVI) to all images in a collection. To do this, we first define a Python function that that operates on a single image. In this specfic example, the function takes an image, calculates NDVI, appends it to the image, and then returns the new image."
      ]
    },
    {
      "cell_type": "code",
      "execution_count": null,
      "metadata": {
        "id": "Izzr47-DP9Ye"
      },
      "outputs": [],
      "source": [
        "def add_ndvi(image):\n",
        "  ndvi = image.normalizedDifference(['B5', 'B4']).rename('NDVI')\n",
        "  return image.addBands(ndvi)"
      ]
    },
    {
      "cell_type": "markdown",
      "metadata": {
        "id": "DIf_2AUu8nHj"
      },
      "source": [
        "To test it out, we can apply the `add_ndvi` function to a single image. *(This is a very useful pattern for testing and debugging functions that you write)*."
      ]
    },
    {
      "cell_type": "code",
      "execution_count": null,
      "metadata": {
        "id": "6HmYx75C8nh6"
      },
      "outputs": [],
      "source": [
        "ndvi = add_ndvi(image)"
      ]
    },
    {
      "cell_type": "markdown",
      "metadata": {
        "id": "K691ZDpCMOFa"
      },
      "source": [
        "We can add this NDVI image to a map/inspector panel, and then use the inspector to confirm that the NDVI band was added."
      ]
    },
    {
      "cell_type": "code",
      "execution_count": null,
      "metadata": {
        "id": "qF1x4w2HDh1x"
      },
      "outputs": [],
      "source": [
        "map_panel_5 = MapWithInspector(**map_init_params)\n",
        "map_panel_5.map.addLayer(ndvi, ndvi_vis_arams, 'NDVI')\n",
        "map_panel_5"
      ]
    },
    {
      "cell_type": "markdown",
      "metadata": {
        "id": "BZuCnQM68b8J"
      },
      "source": [
        "But it is even more useful to \"map\" (i.e. apply) the function over all the images in an image collection:"
      ]
    },
    {
      "cell_type": "code",
      "execution_count": null,
      "metadata": {
        "id": "Q9HaSYH08YxW"
      },
      "outputs": [],
      "source": [
        "with_ndvi = landsat8.map(add_ndvi)"
      ]
    },
    {
      "cell_type": "markdown",
      "metadata": {
        "id": "Udenzq4qNUnk"
      },
      "source": [
        "We can then mosaic the images together, and display it. Note that many images processed by the `add_ndvi` function are visible."
      ]
    },
    {
      "cell_type": "code",
      "execution_count": null,
      "metadata": {
        "id": "Yyx8qq1YMfTk"
      },
      "outputs": [],
      "source": [
        "map5b = Map(**map_init_params)\n",
        "map5b.addLayer(with_ndvi.mosaic(), ndvi_vis_arams, 'NDVI mosaic')\n",
        "map5b.zoom = 8  # zoom out a bit from the default\n",
        "map5b"
      ]
    },
    {
      "cell_type": "markdown",
      "metadata": {
        "id": "MkkJXjewNEez"
      },
      "source": [
        "Note that the result is pretty noisy, because `.mosaic()` preferentialy selects the latest pixels in the collection (which often may have clouds). We will improve upon this in the next section."
      ]
    },
    {
      "cell_type": "markdown",
      "metadata": {
        "id": "QsNJu3QrEzLa"
      },
      "source": [
        "## Make a greenest pixel composite"
      ]
    },
    {
      "cell_type": "markdown",
      "metadata": {
        "id": "aVks7JhW4Td8"
      },
      "source": [
        "In this section we will use [`qualityMosaic`](https://developers.google.com/earth-engine/apidocs/ee-imagecollection-qualitymosaic) to get less noisy NDVI data. `qualityMosaic` works by taking the maximum value composite for the band you provide. In our example, this means choosing the pixel with the largest NDVI value. The maximum is taken to avoid areas with clouds, which have very low NDVI."
      ]
    },
    {
      "cell_type": "code",
      "execution_count": null,
      "metadata": {
        "id": "sadNR0nkD7-o"
      },
      "outputs": [],
      "source": [
        "greenest = with_ndvi.qualityMosaic('NDVI')"
      ]
    },
    {
      "cell_type": "code",
      "execution_count": null,
      "metadata": {
        "id": "FsX9EkhUPfdj"
      },
      "outputs": [],
      "source": [
        "map5c = Map(**map_init_params)\n",
        "map5c.addLayer(greenest, landsat_rgb_viz, 'greenest pixel mosaic')\n",
        "map5c.zoom = 8  # zoom out a bit from the default\n",
        "map5c"
      ]
    },
    {
      "cell_type": "markdown",
      "metadata": {
        "id": "5cthndqoQVjf"
      },
      "source": [
        "# Exporting Charts and Images\n",
        "\n",
        "\n",
        "\n"
      ]
    },
    {
      "cell_type": "markdown",
      "metadata": {
        "id": "OqIu33YGQbwn"
      },
      "source": [
        "## Charting 🐍"
      ]
    },
    {
      "cell_type": "markdown",
      "metadata": {
        "id": "0hC35DwK8DeO"
      },
      "source": [
        "Python has many plotting options, for example: matplotlib, bokeh, altair, plotly, etc. You can refer to [The Python Visualization Landscape](https://www.youtube.com/watch?v=FytuB8nFHPQ) talk from PyCon 2017 for more information on the plotting libraries that Python offers.\n",
        "\n",
        "The goal of this section is to create a timeseries plot using Altair to showcase one Python plotting library.\n",
        "\n",
        "We will create a timeseries plot of NDVI for the Geo for Good venue in Mountain View."
      ]
    },
    {
      "cell_type": "code",
      "execution_count": null,
      "metadata": {
        "id": "FywVeUsNWLrs"
      },
      "outputs": [],
      "source": [
        "stat_region = ee.Geometry.Point(location_lonlat)\n",
        "stat_region.getInfo()"
      ]
    },
    {
      "cell_type": "markdown",
      "metadata": {
        "id": "UoOJzSex-Fxw"
      },
      "source": [
        "Filter the NDVI image collection to only get images that occur in the Geo for Good venue in Mountain View:"
      ]
    },
    {
      "cell_type": "code",
      "execution_count": null,
      "metadata": {
        "id": "MIn6qKSXUS3h"
      },
      "outputs": [],
      "source": [
        "filtered = with_ndvi.filterBounds(stat_region)"
      ]
    },
    {
      "cell_type": "markdown",
      "metadata": {
        "id": "A6Ed3leS-f91"
      },
      "source": [
        "Create a function that takes the image and creates an `ee.Feature` with the mean and the image timestamp (to help enable timeseries plotting):"
      ]
    },
    {
      "cell_type": "code",
      "execution_count": null,
      "metadata": {
        "id": "OV8HbweuRLnB"
      },
      "outputs": [],
      "source": [
        "def reduce_region_function(img):\n",
        "  \"\"\"Return a feature containing the mean value of a region and a timestamp.\"\"\"\n",
        "\n",
        "  stat = img.reduceRegion(\n",
        "      reducer=ee.Reducer.mean(),\n",
        "      geometry=stat_region,\n",
        "      scale=30\n",
        "  )\n",
        "  return ee.Feature(stat_region, stat).set({'millis': img.date().millis()})"
      ]
    },
    {
      "cell_type": "markdown",
      "metadata": {
        "id": "oM-oZ_45_BF2"
      },
      "source": [
        "The next two code blocks are helper functions that are used to get the feature properties into a dictionary and then the dictionary values into a pandas dataframe:"
      ]
    },
    {
      "cell_type": "code",
      "execution_count": null,
      "metadata": {
        "id": "yi7geadA7a9M"
      },
      "outputs": [],
      "source": [
        "# Define a function to transfer feature properties to a dictionary.\n",
        "def fc_to_dict(fc):\n",
        "  prop_names = fc.first().propertyNames()\n",
        "  prop_lists = fc.reduceColumns(\n",
        "      reducer=ee.Reducer.toList().repeat(prop_names.size()),\n",
        "      selectors=prop_names).get('list')\n",
        "\n",
        "  return ee.Dictionary.fromLists(prop_names, prop_lists)\n",
        "\n",
        "def fc_to_dataframe(fc):\n",
        "  \"\"\"Converts a feature collection to a Pandas dataframe.\"\"\"\n",
        "  return pd.DataFrame(fc_to_dict(fc).getInfo())"
      ]
    },
    {
      "cell_type": "markdown",
      "metadata": {
        "id": "Mdxgob7A_M4b"
      },
      "source": [
        ":Here we apply the helper functions defined above to create a Pandas dataframe:"
      ]
    },
    {
      "cell_type": "code",
      "execution_count": null,
      "metadata": {
        "id": "NJ1k9-qHQnM3"
      },
      "outputs": [],
      "source": [
        "stat_fc = (\n",
        "  ee.FeatureCollection(\n",
        "    filtered.map(reduce_region_function)\n",
        "  ).filter(\n",
        "    ee.Filter.notNull(filtered.first().bandNames())\n",
        "  )\n",
        ")\n",
        "df = fc_to_dataframe(stat_fc)\n",
        "df['timestamp'] = pd.to_datetime(df['millis'], unit='ms')\n",
        "#df.head()"
      ]
    },
    {
      "cell_type": "markdown",
      "metadata": {
        "id": "Cvx7blMr_Um2"
      },
      "source": [
        "Next we narrow our scope of the feature collection to only focus on the bands that matter for NDVI, the `B5` (near-infrared), `B4` (red) and `NDVI` bands:"
      ]
    },
    {
      "cell_type": "code",
      "execution_count": null,
      "metadata": {
        "id": "dBlOGpBw3fcb"
      },
      "outputs": [],
      "source": [
        "keys = ['B5', 'B4', 'NDVI']\n",
        "source = pd.melt(\n",
        "    df[['B5', 'B4', 'NDVI', 'timestamp']],\n",
        "    id_vars='timestamp',\n",
        "    value_vars=keys,\n",
        "    var_name='band'\n",
        ")\n",
        "source.head()  # display the first few values"
      ]
    },
    {
      "cell_type": "markdown",
      "metadata": {
        "id": "6UPngbuW_mUU"
      },
      "source": [
        "Here we use the dataframe to plot the timeseries for B5, B4, and NDVI:"
      ]
    },
    {
      "cell_type": "code",
      "execution_count": null,
      "metadata": {
        "id": "CeKYcEQl3qh9"
      },
      "outputs": [],
      "source": [
        "alt.Chart(source).mark_line().encode(\n",
        "    x='timestamp:T',\n",
        "    y='value',\n",
        "    color=alt.Color(\n",
        "        'band',\n",
        "        scale=alt.Scale(\n",
        "            domain=['B4', 'B5', 'NDVI'],\n",
        "            range=['red', 'purple', 'green']\n",
        "        )\n",
        "    ),\n",
        "    tooltip=['band', 'value', 'timestamp:T']\n",
        ").interactive(bind_y=False)"
      ]
    },
    {
      "cell_type": "markdown",
      "metadata": {
        "id": "bkgclKMOit8S"
      },
      "source": [
        "## Exporting Images 🐍"
      ]
    },
    {
      "cell_type": "markdown",
      "metadata": {
        "id": "LVvqIRQHSb4b"
      },
      "source": [
        "This section will demonstrat how to export an image, using the Python client library."
      ]
    },
    {
      "cell_type": "markdown",
      "metadata": {
        "id": "xbkwB9zySiQ4"
      },
      "source": [
        "To start, create a 3-band, 8-bit, color-IR composite that we will export."
      ]
    },
    {
      "cell_type": "code",
      "execution_count": null,
      "metadata": {
        "id": "qGq1erzliJdB"
      },
      "outputs": [],
      "source": [
        "visualization = greenest.visualize(**landsat_rgb_viz)"
      ]
    },
    {
      "cell_type": "markdown",
      "metadata": {
        "id": "sZt-ufJtHrug"
      },
      "source": [
        "We can preview the visualization by adding it to an interative map."
      ]
    },
    {
      "cell_type": "code",
      "execution_count": null,
      "metadata": {
        "id": "hqRbjN3rlMtj"
      },
      "outputs": [],
      "source": [
        "map_init_params_eastern_sierra = {\n",
        "    'center': (37.05, -118.40),\n",
        "    'zoom':8\n",
        "}\n",
        "map6a = Map(**map_init_params_eastern_sierra)\n",
        "map6a.addLayer(visualization, {}, 'visualization test')\n",
        "map6a"
      ]
    },
    {
      "cell_type": "markdown",
      "metadata": {
        "id": "B7e2DHhfSruB"
      },
      "source": [
        "Next we can create a *task* that can be used to export the image. Note that a task will not run until it is *started*."
      ]
    },
    {
      "cell_type": "code",
      "execution_count": null,
      "metadata": {
        "id": "X0vhmjTKlHii"
      },
      "outputs": [],
      "source": [
        "asset_id = 'projects/ee-ee-test-te/assets/temp/g4g22_python_export_example'\n",
        "\n",
        "task = ee.batch.Export.image.toAsset(\n",
        "      visualization,\n",
        "      description='Greenest_pixel_composite',\n",
        "      assetId=asset_id,\n",
        "      scale=30,\n",
        "      region=\"\"\"[[[-119.2, 37.9],\n",
        "                  [-119.2, 36.2],\n",
        "                  [-117.6, 36.2],\n",
        "                  [-117.6, 37.9]]]\"\"\"  # California, East Side of Sierras\n",
        "  )"
      ]
    },
    {
      "cell_type": "markdown",
      "metadata": {
        "id": "RydLfFZBTRTo"
      },
      "source": [
        "The task can take ~10 minutes to finish. For this training, we already ran the task, so the `start()` call has been commented out. However, if you have updated the analysis and want to export a new image, you can uncomment the following line and run it (after first updating the `asset_id` in the previous cell)."
      ]
    },
    {
      "cell_type": "code",
      "execution_count": null,
      "metadata": {
        "id": "H3I2UQrzTPWf"
      },
      "outputs": [],
      "source": [
        "# task.start()"
      ]
    },
    {
      "cell_type": "markdown",
      "metadata": {
        "id": "LSoo6256lzTM"
      },
      "source": [
        "You can check on the status of your task by visitng the Earth Engine task manager webpage: https://code.earthengine.google.com/tasks"
      ]
    },
    {
      "cell_type": "code",
      "execution_count": null,
      "metadata": {
        "id": "z-6kCjw__il2"
      },
      "outputs": [],
      "source": [
        "exported_asset = ee.Image(asset_id)\n",
        "\n",
        "map6b = Map(**map_init_params_eastern_sierra)\n",
        "map6b.addLayer(exported_asset, {}, 'exported asset')\n",
        "map6b"
      ]
    }
  ],
  "metadata": {
    "colab": {
      "provenance": [],
      "gpuType": "T4",
      "include_colab_link": true
    },
    "kernelspec": {
      "display_name": "Python 3",
      "name": "python3"
    },
    "language_info": {
      "name": "python"
    },
    "accelerator": "GPU"
  },
  "nbformat": 4,
  "nbformat_minor": 0
}