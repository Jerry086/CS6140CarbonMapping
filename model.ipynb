{
 "cells": [
  {
   "cell_type": "code",
   "execution_count": 4,
   "id": "d37f806a-2270-4cf2-9465-7a1bcd3ea699",
   "metadata": {},
   "outputs": [
    {
     "name": "stdout",
     "output_type": "stream",
     "text": [
      "2.11.0\n"
     ]
    }
   ],
   "source": [
    "# Tensorflow setup.\n",
    "import tensorflow as tf\n",
    "print(tf.__version__)"
   ]
  },
  {
   "cell_type": "markdown",
   "id": "fb89452b-7ba8-42c8-8f8e-e10bfcd021b2",
   "metadata": {},
   "source": [
    "Set global variables"
   ]
  },
  {
   "cell_type": "code",
   "execution_count": 5,
   "id": "81837ff6-dec7-4a55-b8cf-c700ac4741b1",
   "metadata": {},
   "outputs": [],
   "source": [
    "# Specify names locations for outputs in Google Cloud.\n",
    "BUCKET = 'cs6140'\n",
    "FOLDER = 'dataset'\n",
    "TRAINING_BASE = 'training_patches'\n",
    "EVAL_BASE = 'eval_patches'\n",
    "\n",
    "# Specify feature bands to the model and the response variable.\n",
    "# TODO: explore more bands\n",
    "BANDS = ['NDVI', 'EVI']\n",
    "RESPONSE = 'annualNPP'\n",
    "FEATURES = BANDS + [RESPONSE]\n",
    "\n",
    "# Specify the size and shape of patches (256x256 pixels images) expected by the model.\n",
    "KERNEL_SIZE = 256\n",
    "KERNEL_SHAPE = [KERNEL_SIZE, KERNEL_SIZE]\n",
    "\n",
    "# Columns for input features and response\n",
    "COLUMNS = [\n",
    "  # Configuration for parsing a fixed-length input feature.\n",
    "  tf.io.FixedLenFeature(shape=KERNEL_SHAPE, dtype=tf.float32) for k in FEATURES\n",
    "]\n",
    "# Label each column with feature name by dictionary\n",
    "FEATURES_DICT = dict(zip(FEATURES, COLUMNS))\n",
    "\n",
    "# Sizes of the training and evaluation datasets.\n",
    "# TODO: modify as needed\n",
    "TRAIN_SIZE = 16000\n",
    "EVAL_SIZE = 8000\n",
    "\n",
    "# Specify model training parameters.\n",
    "# TODO: modify as needed\n",
    "BATCH_SIZE = 16\n",
    "EPOCHS = 10\n",
    "BUFFER_SIZE = 2000\n",
    "OPTIMIZER = 'Adam'\n",
    "LOSS = 'MeanSquaredError'\n",
    "METRICS = ['RootMeanSquaredError']"
   ]
  },
  {
   "cell_type": "markdown",
   "id": "731d3013-ebc6-4b59-b813-4ff3eebb038d",
   "metadata": {},
   "source": [
    "Load the data exported from Earth Engine into a tf.data.Dataset."
   ]
  },
  {
   "cell_type": "code",
   "execution_count": 6,
   "id": "71d0b53a-0544-4528-8049-6d7a33876215",
   "metadata": {},
   "outputs": [],
   "source": [
    "def parse_tfrecord(example_proto):\n",
    "  \"\"\"The parsing function.\n",
    "  Read a serialized example into the structure defined by FEATURES_DICT.\n",
    "  Args:\n",
    "    example_proto: a serialized Example.\n",
    "  Returns:\n",
    "    A dictionary of tensors, keyed by feature name.\n",
    "  \"\"\"\n",
    "  return tf.io.parse_single_example(example_proto, FEATURES_DICT)\n",
    "\n",
    "\n",
    "def to_tuple(inputs):\n",
    "  \"\"\"Function to convert a dictionary of tensors to a tuple of (inputs, outputs).\n",
    "  Turn the tensors returned by parse_tfrecord into a stack in HWC shape.\n",
    "  Args:\n",
    "    inputs: A dictionary of tensors, keyed by feature name.\n",
    "  Returns:\n",
    "    A tuple of (inputs, outputs).\n",
    "  \"\"\"\n",
    "  inputsList = [inputs.get(key) for key in FEATURES]\n",
    "  stacked = tf.stack(inputsList, axis=0)\n",
    "  # Convert from CHW to HWC\n",
    "  stacked = tf.transpose(stacked, [1, 2, 0])\n",
    "  return stacked[:,:,:len(BANDS)], stacked[:,:,len(BANDS):]\n",
    "\n",
    "\n",
    "def get_dataset(pattern):\n",
    "  \"\"\"Function to read, parse and format to tuple a set of input tfrecord files.\n",
    "  Get all the files matching the pattern, parse and convert to tuple.\n",
    "  Args:\n",
    "    pattern: A file pattern to match in a Cloud Storage bucket.\n",
    "  Returns:\n",
    "    A tf.data.Dataset\n",
    "  \"\"\"\n",
    "  glob = tf.io.gfile.glob(pattern)\n",
    "  dataset = tf.data.TFRecordDataset(glob, compression_type='GZIP')\n",
    "  dataset = dataset.map(parse_tfrecord, num_parallel_calls=5)\n",
    "  dataset = dataset.map(to_tuple, num_parallel_calls=5)\n",
    "  return dataset"
   ]
  },
  {
   "cell_type": "markdown",
   "id": "6266093a-9fa9-4184-b780-317fa6e6f0ed",
   "metadata": {},
   "source": [
    "Use the helpers to read in the training dataset. Print the first record to check."
   ]
  },
  {
   "cell_type": "code",
   "execution_count": 7,
   "id": "c0fcda50-ba60-4c51-8be3-f80f6cf85800",
   "metadata": {},
   "outputs": [
    {
     "name": "stderr",
     "output_type": "stream",
     "text": [
      "2023-07-26 00:26:48.307385: I tensorflow/compiler/xla/stream_executor/cuda/cuda_gpu_executor.cc:981] successful NUMA node read from SysFS had negative value (-1), but there must be at least one NUMA node, so returning NUMA node zero\n",
      "2023-07-26 00:26:48.391188: I tensorflow/compiler/xla/stream_executor/cuda/cuda_gpu_executor.cc:981] successful NUMA node read from SysFS had negative value (-1), but there must be at least one NUMA node, so returning NUMA node zero\n",
      "2023-07-26 00:26:48.392887: I tensorflow/compiler/xla/stream_executor/cuda/cuda_gpu_executor.cc:981] successful NUMA node read from SysFS had negative value (-1), but there must be at least one NUMA node, so returning NUMA node zero\n",
      "2023-07-26 00:26:48.397908: I tensorflow/core/platform/cpu_feature_guard.cc:193] This TensorFlow binary is optimized with oneAPI Deep Neural Network Library (oneDNN) to use the following CPU instructions in performance-critical operations:  AVX2 AVX512F FMA\n",
      "To enable them in other operations, rebuild TensorFlow with the appropriate compiler flags.\n",
      "2023-07-26 00:26:48.399006: I tensorflow/compiler/xla/stream_executor/cuda/cuda_gpu_executor.cc:981] successful NUMA node read from SysFS had negative value (-1), but there must be at least one NUMA node, so returning NUMA node zero\n",
      "2023-07-26 00:26:48.400635: I tensorflow/compiler/xla/stream_executor/cuda/cuda_gpu_executor.cc:981] successful NUMA node read from SysFS had negative value (-1), but there must be at least one NUMA node, so returning NUMA node zero\n",
      "2023-07-26 00:26:48.402193: I tensorflow/compiler/xla/stream_executor/cuda/cuda_gpu_executor.cc:981] successful NUMA node read from SysFS had negative value (-1), but there must be at least one NUMA node, so returning NUMA node zero\n",
      "2023-07-26 00:26:50.393246: I tensorflow/compiler/xla/stream_executor/cuda/cuda_gpu_executor.cc:981] successful NUMA node read from SysFS had negative value (-1), but there must be at least one NUMA node, so returning NUMA node zero\n",
      "2023-07-26 00:26:50.406983: I tensorflow/compiler/xla/stream_executor/cuda/cuda_gpu_executor.cc:981] successful NUMA node read from SysFS had negative value (-1), but there must be at least one NUMA node, so returning NUMA node zero\n",
      "2023-07-26 00:26:50.408538: I tensorflow/compiler/xla/stream_executor/cuda/cuda_gpu_executor.cc:981] successful NUMA node read from SysFS had negative value (-1), but there must be at least one NUMA node, so returning NUMA node zero\n",
      "2023-07-26 00:26:50.414298: I tensorflow/core/common_runtime/gpu/gpu_device.cc:1613] Created device /job:localhost/replica:0/task:0/device:GPU:0 with 13582 MB memory:  -> device: 0, name: Tesla T4, pci bus id: 0000:00:04.0, compute capability: 7.5\n",
      "2023-07-26 00:27:01.210012: I tensorflow/core/kernels/data/shuffle_dataset_op.cc:392] Filling up shuffle buffer (this may take a while): 1025 of 2000\n",
      "2023-07-26 00:27:10.914296: I tensorflow/core/kernels/data/shuffle_dataset_op.cc:417] Shuffle buffer filled.\n"
     ]
    },
    {
     "name": "stdout",
     "output_type": "stream",
     "text": [
      "(<tf.Tensor: shape=(16, 256, 256, 2), dtype=float32, numpy=\n",
      "array([[[[4386., 2099.],\n",
      "         [3586., 1647.],\n",
      "         [3367., 1418.],\n",
      "         ...,\n",
      "         [2900., 1570.],\n",
      "         [2916., 1802.],\n",
      "         [5015., 1972.]],\n",
      "\n",
      "        [[2874., 1594.],\n",
      "         [2807., 1381.],\n",
      "         [3077., 1439.],\n",
      "         ...,\n",
      "         [4507., 1814.],\n",
      "         [4507., 1814.],\n",
      "         [4507., 1814.]],\n",
      "\n",
      "        [[2463., 1327.],\n",
      "         [2463., 1327.],\n",
      "         [2570., 1250.],\n",
      "         ...,\n",
      "         [4583., 2001.],\n",
      "         [4637., 2238.],\n",
      "         [4637., 2238.]],\n",
      "\n",
      "        ...,\n",
      "\n",
      "        [[4078., 2165.],\n",
      "         [4302., 2294.],\n",
      "         [4602., 2238.],\n",
      "         ...,\n",
      "         [3833., 1800.],\n",
      "         [3833., 1800.],\n",
      "         [3660., 1700.]],\n",
      "\n",
      "        [[5387., 2658.],\n",
      "         [5387., 2658.],\n",
      "         [5132., 2534.],\n",
      "         ...,\n",
      "         [3702., 1754.],\n",
      "         [3832., 2146.],\n",
      "         [3832., 2146.]],\n",
      "\n",
      "        [[5858., 2696.],\n",
      "         [5940., 2789.],\n",
      "         [5940., 2789.],\n",
      "         ...,\n",
      "         [3907., 2058.],\n",
      "         [3832., 2042.],\n",
      "         [3820., 1413.]]],\n",
      "\n",
      "\n",
      "       [[[6396., 3032.],\n",
      "         [6594., 3119.],\n",
      "         [6983., 3257.],\n",
      "         ...,\n",
      "         [6090., 2587.],\n",
      "         [6090., 2587.],\n",
      "         [6265., 3076.]],\n",
      "\n",
      "        [[6360., 3135.],\n",
      "         [6594., 3451.],\n",
      "         [5863., 3192.],\n",
      "         ...,\n",
      "         [6345., 2728.],\n",
      "         [5626., 2587.],\n",
      "         [5626., 2587.]],\n",
      "\n",
      "        [[5100., 2663.],\n",
      "         [4887., 2713.],\n",
      "         [3716., 2104.],\n",
      "         ...,\n",
      "         [6374., 2592.],\n",
      "         [6448., 2528.],\n",
      "         [6011., 3305.]],\n",
      "\n",
      "        ...,\n",
      "\n",
      "        [[3712., 1705.],\n",
      "         [4840., 2745.],\n",
      "         [4840., 2745.],\n",
      "         ...,\n",
      "         [4178., 2133.],\n",
      "         [4178., 2133.],\n",
      "         [3863., 2464.]],\n",
      "\n",
      "        [[3712., 1960.],\n",
      "         [4606., 2210.],\n",
      "         [4951., 2012.],\n",
      "         ...,\n",
      "         [3192., 1453.],\n",
      "         [2932., 1479.],\n",
      "         [2932., 1479.]],\n",
      "\n",
      "        [[3136.,  898.],\n",
      "         [ 671.,  344.],\n",
      "         [1325.,  531.],\n",
      "         ...,\n",
      "         [2449., 1385.],\n",
      "         [2604., 1340.],\n",
      "         [2818., 1227.]]],\n",
      "\n",
      "\n",
      "       [[[2700., 1321.],\n",
      "         [2700., 1321.],\n",
      "         [2483., 1176.],\n",
      "         ...,\n",
      "         [2492., 1263.],\n",
      "         [2224., 1288.],\n",
      "         [2559., 1424.]],\n",
      "\n",
      "        [[2695., 1310.],\n",
      "         [2843., 1405.],\n",
      "         [2843., 1405.],\n",
      "         ...,\n",
      "         [2499., 1230.],\n",
      "         [2499., 1230.],\n",
      "         [2474., 1215.]],\n",
      "\n",
      "        [[2830., 1556.],\n",
      "         [2775., 1426.],\n",
      "         [2708., 1287.],\n",
      "         ...,\n",
      "         [2290.,  979.],\n",
      "         [2551., 1198.],\n",
      "         [2551., 1198.]],\n",
      "\n",
      "        ...,\n",
      "\n",
      "        [[2628.,  993.],\n",
      "         [2481.,  974.],\n",
      "         [2481.,  974.],\n",
      "         ...,\n",
      "         [2696., 1615.],\n",
      "         [2696., 1615.],\n",
      "         [3368., 2081.]],\n",
      "\n",
      "        [[2481., 1105.],\n",
      "         [2567., 1131.],\n",
      "         [2656., 1103.],\n",
      "         ...,\n",
      "         [3554., 1983.],\n",
      "         [3564., 1822.],\n",
      "         [3564., 1822.]],\n",
      "\n",
      "        [[2428., 1039.],\n",
      "         [2428., 1130.],\n",
      "         [2697., 1143.],\n",
      "         ...,\n",
      "         [3061., 1783.],\n",
      "         [3564., 1906.],\n",
      "         [6609., 4864.]]],\n",
      "\n",
      "\n",
      "       ...,\n",
      "\n",
      "\n",
      "       [[[5010., 2260.],\n",
      "         [5033., 2485.],\n",
      "         [5942., 2879.],\n",
      "         ...,\n",
      "         [3529., 2223.],\n",
      "         [3093., 1428.],\n",
      "         [3093., 1428.]],\n",
      "\n",
      "        [[5506., 3370.],\n",
      "         [5588., 3481.],\n",
      "         [5694., 3267.],\n",
      "         ...,\n",
      "         [4197., 2441.],\n",
      "         [3184., 1667.],\n",
      "         [3184., 1667.]],\n",
      "\n",
      "        [[4321., 2550.],\n",
      "         [3454., 1687.],\n",
      "         [3352., 1853.],\n",
      "         ...,\n",
      "         [5182., 2882.],\n",
      "         [3576., 2641.],\n",
      "         [3286., 2239.]],\n",
      "\n",
      "        ...,\n",
      "\n",
      "        [[4369., 2816.],\n",
      "         [4107., 2376.],\n",
      "         [4349., 2246.],\n",
      "         ...,\n",
      "         [3614., 2021.],\n",
      "         [5243., 1868.],\n",
      "         [4240., 1968.]],\n",
      "\n",
      "        [[3899., 2017.],\n",
      "         [3899., 2017.],\n",
      "         [4567., 2463.],\n",
      "         ...,\n",
      "         [3582., 1915.],\n",
      "         [3685., 2025.],\n",
      "         [3488., 2157.]],\n",
      "\n",
      "        [[3194., 1646.],\n",
      "         [3902., 2068.],\n",
      "         [3902., 2068.],\n",
      "         ...,\n",
      "         [3355., 2097.],\n",
      "         [3355., 2097.],\n",
      "         [3580., 2169.]]],\n",
      "\n",
      "\n",
      "       [[[4764., 3277.],\n",
      "         [6557., 4543.],\n",
      "         [6694., 5121.],\n",
      "         ...,\n",
      "         [2871., 1707.],\n",
      "         [2871., 1707.],\n",
      "         [2871., 1707.]],\n",
      "\n",
      "        [[6301., 4212.],\n",
      "         [5944., 4244.],\n",
      "         [5944., 4244.],\n",
      "         ...,\n",
      "         [2989., 1738.],\n",
      "         [2852., 1669.],\n",
      "         [2904., 1686.]],\n",
      "\n",
      "        [[4961., 3234.],\n",
      "         [5183., 3292.],\n",
      "         [6412., 4593.],\n",
      "         ...,\n",
      "         [2954., 1596.],\n",
      "         [2953., 1604.],\n",
      "         [2953., 1628.]],\n",
      "\n",
      "        ...,\n",
      "\n",
      "        [[4102., 2395.],\n",
      "         [4102., 2395.],\n",
      "         [4777., 2514.],\n",
      "         ...,\n",
      "         [6230., 3038.],\n",
      "         [6700., 3331.],\n",
      "         [7037., 3536.]],\n",
      "\n",
      "        [[5156., 2791.],\n",
      "         [5257., 2626.],\n",
      "         [4836., 2485.],\n",
      "         ...,\n",
      "         [6612., 2982.],\n",
      "         [6612., 2982.],\n",
      "         [6958., 3188.]],\n",
      "\n",
      "        [[5383., 2706.],\n",
      "         [5257., 2647.],\n",
      "         [4488., 2338.],\n",
      "         ...,\n",
      "         [7540., 2789.],\n",
      "         [6643., 2865.],\n",
      "         [6338., 3075.]]],\n",
      "\n",
      "\n",
      "       [[[4190., 2043.],\n",
      "         [4351., 2440.],\n",
      "         [5106., 2969.],\n",
      "         ...,\n",
      "         [3907., 2278.],\n",
      "         [3238., 1821.],\n",
      "         [3238., 1821.]],\n",
      "\n",
      "        [[4091., 2029.],\n",
      "         [4560., 2429.],\n",
      "         [4567., 2364.],\n",
      "         ...,\n",
      "         [4277., 2159.],\n",
      "         [4141., 2117.],\n",
      "         [3829., 1836.]],\n",
      "\n",
      "        [[5326., 2586.],\n",
      "         [5326., 2586.],\n",
      "         [5035., 2440.],\n",
      "         ...,\n",
      "         [4562., 2822.],\n",
      "         [3375., 2196.],\n",
      "         [3177., 1805.]],\n",
      "\n",
      "        ...,\n",
      "\n",
      "        [[4933., 2345.],\n",
      "         [5071., 2593.],\n",
      "         [5886., 2681.],\n",
      "         ...,\n",
      "         [6534., 3094.],\n",
      "         [6569., 3021.],\n",
      "         [6476., 3125.]],\n",
      "\n",
      "        [[5238., 2726.],\n",
      "         [6277., 2917.],\n",
      "         [6705., 3005.],\n",
      "         ...,\n",
      "         [6824., 2927.],\n",
      "         [6492., 2766.],\n",
      "         [6515., 2716.]],\n",
      "\n",
      "        [[6877., 3346.],\n",
      "         [6877., 3346.],\n",
      "         [6742., 3346.],\n",
      "         ...,\n",
      "         [6727., 3209.],\n",
      "         [6612., 2766.],\n",
      "         [6170., 2572.]]]], dtype=float32)>, <tf.Tensor: shape=(16, 256, 256, 1), dtype=float32, numpy=\n",
      "array([[[[0.        ],\n",
      "         [0.2518956 ],\n",
      "         [0.40750733],\n",
      "         ...,\n",
      "         [0.        ],\n",
      "         [0.3144682 ],\n",
      "         [0.        ]],\n",
      "\n",
      "        [[0.3966801 ],\n",
      "         [0.39900267],\n",
      "         [0.39924175],\n",
      "         ...,\n",
      "         [0.30746636],\n",
      "         [0.31351185],\n",
      "         [0.3144682 ]],\n",
      "\n",
      "        [[0.39340118],\n",
      "         [0.39582622],\n",
      "         [0.39456248],\n",
      "         ...,\n",
      "         [0.4650591 ],\n",
      "         [0.2964342 ],\n",
      "         [0.30049866]],\n",
      "\n",
      "        ...,\n",
      "\n",
      "        [[0.30780792],\n",
      "         [0.30849102],\n",
      "         [0.30801284],\n",
      "         ...,\n",
      "         [0.47622788],\n",
      "         [0.4756814 ],\n",
      "         [0.10741854]],\n",
      "\n",
      "        [[0.3077396 ],\n",
      "         [0.3106428 ],\n",
      "         [0.28745133],\n",
      "         ...,\n",
      "         [0.31077942],\n",
      "         [0.47588634],\n",
      "         [0.3121115 ]],\n",
      "\n",
      "        [[0.30821776],\n",
      "         [0.3089009 ],\n",
      "         [0.3087984 ],\n",
      "         ...,\n",
      "         [0.28103012],\n",
      "         [0.47151443],\n",
      "         [0.4705581 ]]],\n",
      "\n",
      "\n",
      "       [[[0.19670059],\n",
      "         [0.        ],\n",
      "         [0.1906551 ],\n",
      "         ...,\n",
      "         [0.29858598],\n",
      "         [0.29554614],\n",
      "         [0.29622924]],\n",
      "\n",
      "        [[0.19796434],\n",
      "         [0.19670059],\n",
      "         [0.19478789],\n",
      "         ...,\n",
      "         [0.30019128],\n",
      "         [0.29868844],\n",
      "         [0.29680988]],\n",
      "\n",
      "        [[0.28523123],\n",
      "         [0.28266957],\n",
      "         [0.2463283 ],\n",
      "         ...,\n",
      "         [0.29824442],\n",
      "         [0.29742467],\n",
      "         [0.29684404]],\n",
      "\n",
      "        ...,\n",
      "\n",
      "        [[0.41310883],\n",
      "         [0.42813715],\n",
      "         [0.2973222 ],\n",
      "         ...,\n",
      "         [0.3134094 ],\n",
      "         [0.28103012],\n",
      "         [0.29308695]],\n",
      "\n",
      "        [[0.42608786],\n",
      "         [0.43701756],\n",
      "         [0.        ],\n",
      "         ...,\n",
      "         [0.29499966],\n",
      "         [0.25988796],\n",
      "         [0.4203839 ]],\n",
      "\n",
      "        [[0.        ],\n",
      "         [0.        ],\n",
      "         [0.18447298],\n",
      "         ...,\n",
      "         [0.4177881 ],\n",
      "         [0.39999318],\n",
      "         [0.39968577]]],\n",
      "\n",
      "\n",
      "       [[[0.3923082 ],\n",
      "         [0.388961  ],\n",
      "         [0.38342783],\n",
      "         ...,\n",
      "         [0.3426122 ],\n",
      "         [0.3564451 ],\n",
      "         [0.37417173]],\n",
      "\n",
      "        [[0.40668762],\n",
      "         [0.39422092],\n",
      "         [0.39425507],\n",
      "         ...,\n",
      "         [0.36689666],\n",
      "         [0.36320788],\n",
      "         [0.37246397]],\n",
      "\n",
      "        [[0.40443337],\n",
      "         [0.39855865],\n",
      "         [0.3925473 ],\n",
      "         ...,\n",
      "         [0.3764943 ],\n",
      "         [0.37967074],\n",
      "         [0.38178837]],\n",
      "\n",
      "        ...,\n",
      "\n",
      "        [[0.369834  ],\n",
      "         [0.3800806 ],\n",
      "         [0.3838377 ],\n",
      "         ...,\n",
      "         [0.35624018],\n",
      "         [0.3478721 ],\n",
      "         [0.35620603]],\n",
      "\n",
      "        [[0.36979985],\n",
      "         [0.37751895],\n",
      "         [0.37782636],\n",
      "         ...,\n",
      "         [0.41242573],\n",
      "         [0.41286972],\n",
      "         [0.42188674]],\n",
      "\n",
      "        [[0.37147346],\n",
      "         [0.37505978],\n",
      "         [0.3782362 ],\n",
      "         ...,\n",
      "         [0.424585  ],\n",
      "         [0.42308217],\n",
      "         [0.43715417]]],\n",
      "\n",
      "\n",
      "       ...,\n",
      "\n",
      "\n",
      "       [[[0.26303026],\n",
      "         [0.26572853],\n",
      "         [0.26678735],\n",
      "         ...,\n",
      "         [0.39179587],\n",
      "         [0.37215656],\n",
      "         [0.3621832 ]],\n",
      "\n",
      "        [[0.43565133],\n",
      "         [0.43305555],\n",
      "         [0.25701892],\n",
      "         ...,\n",
      "         [0.4011203 ],\n",
      "         [0.38373524],\n",
      "         [0.3751281 ]],\n",
      "\n",
      "        [[0.39763644],\n",
      "         [0.2315732 ],\n",
      "         [0.4133479 ],\n",
      "         ...,\n",
      "         [0.2434251 ],\n",
      "         [0.23382744],\n",
      "         [0.22918232]],\n",
      "\n",
      "        ...,\n",
      "\n",
      "        [[0.2620056 ],\n",
      "         [0.28294283],\n",
      "         [0.29141334],\n",
      "         ...,\n",
      "         [0.4479131 ],\n",
      "         [0.43954507],\n",
      "         [0.4189494 ]],\n",
      "\n",
      "        [[0.43261153],\n",
      "         [0.28444567],\n",
      "         [0.2917549 ],\n",
      "         ...,\n",
      "         [0.4479131 ],\n",
      "         [0.270886  ],\n",
      "         [0.41498736]],\n",
      "\n",
      "        [[0.4427215 ],\n",
      "         [0.27276453],\n",
      "         [0.43295306],\n",
      "         ...,\n",
      "         [0.43459252],\n",
      "         [0.43008402],\n",
      "         [0.27409658]]],\n",
      "\n",
      "\n",
      "       [[[0.32263133],\n",
      "         [0.41286972],\n",
      "         [0.42164767],\n",
      "         ...,\n",
      "         [0.21370995],\n",
      "         [0.2159642 ],\n",
      "         [0.2184234 ]],\n",
      "\n",
      "        [[0.33653256],\n",
      "         [0.38554546],\n",
      "         [0.3912494 ],\n",
      "         ...,\n",
      "         [0.21753535],\n",
      "         [0.21586174],\n",
      "         [0.22306852]],\n",
      "\n",
      "        [[0.32222146],\n",
      "         [0.33899173],\n",
      "         [0.3814468 ],\n",
      "         ...,\n",
      "         [0.21572512],\n",
      "         [0.2245372 ],\n",
      "         [0.23283695]],\n",
      "\n",
      "        ...,\n",
      "\n",
      "        [[0.28967142],\n",
      "         [0.22535692],\n",
      "         [0.29332605],\n",
      "         ...,\n",
      "         [0.27245712],\n",
      "         [0.29151583],\n",
      "         [0.29199398]],\n",
      "\n",
      "        [[0.22426395],\n",
      "         [0.2705786 ],\n",
      "         [0.22911401],\n",
      "         ...,\n",
      "         [0.28239635],\n",
      "         [0.28622174],\n",
      "         [0.290013  ]],\n",
      "\n",
      "        [[0.24178565],\n",
      "         [0.3153904 ],\n",
      "         [0.29858598],\n",
      "         ...,\n",
      "         [0.2914475 ],\n",
      "         [0.        ],\n",
      "         [0.28191817]]],\n",
      "\n",
      "\n",
      "       [[[0.4314161 ],\n",
      "         [0.        ],\n",
      "         [0.27618006],\n",
      "         ...,\n",
      "         [0.40733656],\n",
      "         [0.40535554],\n",
      "         [0.41604617]],\n",
      "\n",
      "        [[0.26695812],\n",
      "         [0.27703395],\n",
      "         [0.2782977 ],\n",
      "         ...,\n",
      "         [0.2691782 ],\n",
      "         [0.43455836],\n",
      "         [0.42622447]],\n",
      "\n",
      "        [[0.27518955],\n",
      "         [0.27505293],\n",
      "         [0.2751554 ],\n",
      "         ...,\n",
      "         [0.43589044],\n",
      "         [0.41730994],\n",
      "         [0.410513  ]],\n",
      "\n",
      "        ...,\n",
      "\n",
      "        [[0.        ],\n",
      "         [0.        ],\n",
      "         [0.        ],\n",
      "         ...,\n",
      "         [0.        ],\n",
      "         [0.        ],\n",
      "         [0.29916662]],\n",
      "\n",
      "        [[0.2923014 ],\n",
      "         [0.        ],\n",
      "         [0.        ],\n",
      "         ...,\n",
      "         [0.28307945],\n",
      "         [0.29937154],\n",
      "         [0.2981078 ]],\n",
      "\n",
      "        [[0.2971173 ],\n",
      "         [0.1937974 ],\n",
      "         [0.2966391 ],\n",
      "         ...,\n",
      "         [0.297049  ],\n",
      "         [0.29499966],\n",
      "         [0.29312113]]]], dtype=float32)>)\n"
     ]
    }
   ],
   "source": [
    "def get_training_dataset():\n",
    "\t\"\"\"Get the preprocessed training dataset\n",
    "  Returns:\n",
    "    A tf.data.Dataset of training data.\n",
    "  \"\"\"\n",
    "\t# directory for Google Drive\n",
    "\t# root_dir = 'drive/My Drive/'\n",
    "\t# glob = root_dir + FOLDER + '/' + 'training_patches' + '*'\n",
    "\tglob = 'gs://' + BUCKET + '/' + FOLDER + '/' + TRAINING_BASE + '*'\n",
    "\tdataset = get_dataset(glob)\n",
    "\t# shuffle in n iterations, random pick one element from buffer in each iteration\n",
    "\t# batch in size BATCH_SIZE\n",
    "\t# repeat when all element are comsumed\n",
    "\tdataset = dataset.shuffle(BUFFER_SIZE).batch(BATCH_SIZE).repeat()\n",
    "\treturn dataset\n",
    "\n",
    "training = get_training_dataset()\n",
    "print(iter(training.take(1)).next())"
   ]
  },
  {
   "cell_type": "code",
   "execution_count": 11,
   "id": "b7725a45-1224-4519-b23e-99370ed5fa0d",
   "metadata": {},
   "outputs": [
    {
     "data": {
      "text/plain": [
       "<RepeatDataset element_spec=(TensorSpec(shape=(None, 256, 256, 2), dtype=tf.float32, name=None), TensorSpec(shape=(None, 256, 256, 1), dtype=tf.float32, name=None))>"
      ]
     },
     "execution_count": 11,
     "metadata": {},
     "output_type": "execute_result"
    }
   ],
   "source": [
    "def get_eval_dataset():\n",
    "\t\"\"\"Get the preprocessed evaluation dataset\n",
    "  Returns:\n",
    "    A tf.data.Dataset of evaluation data.\n",
    "  \"\"\"\n",
    "\t# root_dir = 'drive/My Drive/'\n",
    "\t# glob = root_dir + FOLDER + '/' + 'eval_patches' + '*'\n",
    "\tglob = 'gs://' + BUCKET + '/' + FOLDER + '/' + EVAL_BASE + '*'\n",
    "\tdataset = get_dataset(glob)\n",
    "\tdataset = dataset.batch(1).repeat()\n",
    "\treturn dataset\n",
    "\n",
    "evaluation = get_eval_dataset()\n",
    "evaluation"
   ]
  },
  {
   "cell_type": "markdown",
   "id": "3a37589c-803e-46ee-aebf-142a218d79d8",
   "metadata": {},
   "source": [
    "Keras implementation of the U-Net model."
   ]
  },
  {
   "cell_type": "code",
   "execution_count": 8,
   "id": "e66a7690-2ebd-4971-98cc-fd0a8ea33c63",
   "metadata": {},
   "outputs": [],
   "source": [
    "from keras.models import *\n",
    "from keras.layers import *\n",
    "from keras import metrics\n",
    "from keras import optimizers\n",
    "from keras import losses\n",
    "\n",
    "# TODO: test other activation functions\n",
    "\n",
    "def conv_block(input_tensor, num_filters):\n",
    "\tencoder = Conv2D(num_filters, (3, 3), padding='same')(input_tensor)\n",
    "\tencoder = BatchNormalization()(encoder)\n",
    "\tencoder = Activation('relu')(encoder)\n",
    "\tencoder = Conv2D(num_filters, (3, 3), padding='same')(encoder)\n",
    "\tencoder = BatchNormalization()(encoder)\n",
    "\tencoder = Activation('relu')(encoder)\n",
    "\treturn encoder\n",
    "\n",
    "def encoder_block(input_tensor, num_filters):\n",
    "\tencoder = conv_block(input_tensor, num_filters)\n",
    "\tencoder_pool = MaxPooling2D((2, 2), strides=(2, 2))(encoder)\n",
    "\treturn encoder_pool, encoder\n",
    "\n",
    "def decoder_block(input_tensor, concat_tensor, num_filters):\n",
    "\tdecoder = Conv2DTranspose(num_filters, (2, 2), strides=(2, 2), padding='same')(input_tensor)\n",
    "\tdecoder = concatenate([concat_tensor, decoder], axis=-1)\n",
    "\tdecoder = BatchNormalization()(decoder)\n",
    "\tdecoder = Activation('relu')(decoder)\n",
    "\tdecoder = Conv2D(num_filters, (3, 3), padding='same')(decoder)\n",
    "\tdecoder = BatchNormalization()(decoder)\n",
    "\tdecoder = Activation('relu')(decoder)\n",
    "\tdecoder = Conv2D(num_filters, (3, 3), padding='same')(decoder)\n",
    "\tdecoder = BatchNormalization()(decoder)\n",
    "\tdecoder = Activation('relu')(decoder)\n",
    "\treturn decoder\n",
    "\n",
    "def get_model():\n",
    "\tinputs = Input(shape=[None, None, len(BANDS)]) # 256\n",
    "\tencoder0_pool, encoder0 = encoder_block(inputs, 32) # 128\n",
    "\tencoder1_pool, encoder1 = encoder_block(encoder0_pool, 64) # 64\n",
    "\tencoder2_pool, encoder2 = encoder_block(encoder1_pool, 128) # 32\n",
    "\tencoder3_pool, encoder3 = encoder_block(encoder2_pool, 256) # 16\n",
    "\tencoder4_pool, encoder4 = encoder_block(encoder3_pool, 512) # 8\n",
    "\tcenter = conv_block(encoder4_pool, 1024) # center\n",
    "\tdecoder4 = decoder_block(center, encoder4, 512) # 16\n",
    "\tdecoder3 = decoder_block(decoder4, encoder3, 256) # 32\n",
    "\tdecoder2 = decoder_block(decoder3, encoder2, 128) # 64\n",
    "\tdecoder1 = decoder_block(decoder2, encoder1, 64) # 128\n",
    "\tdecoder0 = decoder_block(decoder1, encoder0, 32) # 256\n",
    "\toutputs = Conv2D(1, (1, 1), activation='sigmoid')(decoder0)\n",
    "\n",
    "\tmodel = Model(inputs=[inputs], outputs=[outputs])\n",
    "\n",
    "\tmodel.compile(\n",
    "\t\toptimizer=optimizers.get(OPTIMIZER),\n",
    "\t\tloss=losses.get(LOSS),\n",
    "\t\tmetrics=[metrics.get(metric) for metric in METRICS])\n",
    "\n",
    "\treturn model"
   ]
  },
  {
   "cell_type": "markdown",
   "id": "31f6f731-eac1-4da4-a344-4a4055de41a8",
   "metadata": {},
   "source": [
    "The model summary"
   ]
  },
  {
   "cell_type": "code",
   "execution_count": 9,
   "id": "60ddd8d9-e672-4ac3-9f76-7ef72f6ac16b",
   "metadata": {},
   "outputs": [
    {
     "name": "stdout",
     "output_type": "stream",
     "text": [
      "Model: \"model\"\n",
      "__________________________________________________________________________________________________\n",
      " Layer (type)                   Output Shape         Param #     Connected to                     \n",
      "==================================================================================================\n",
      " input_1 (InputLayer)           [(None, None, None,  0           []                               \n",
      "                                 2)]                                                              \n",
      "                                                                                                  \n",
      " conv2d (Conv2D)                (None, None, None,   608         ['input_1[0][0]']                \n",
      "                                32)                                                               \n",
      "                                                                                                  \n",
      " batch_normalization (BatchNorm  (None, None, None,   128        ['conv2d[0][0]']                 \n",
      " alization)                     32)                                                               \n",
      "                                                                                                  \n",
      " activation (Activation)        (None, None, None,   0           ['batch_normalization[0][0]']    \n",
      "                                32)                                                               \n",
      "                                                                                                  \n",
      " conv2d_1 (Conv2D)              (None, None, None,   9248        ['activation[0][0]']             \n",
      "                                32)                                                               \n",
      "                                                                                                  \n",
      " batch_normalization_1 (BatchNo  (None, None, None,   128        ['conv2d_1[0][0]']               \n",
      " rmalization)                   32)                                                               \n",
      "                                                                                                  \n",
      " activation_1 (Activation)      (None, None, None,   0           ['batch_normalization_1[0][0]']  \n",
      "                                32)                                                               \n",
      "                                                                                                  \n",
      " max_pooling2d (MaxPooling2D)   (None, None, None,   0           ['activation_1[0][0]']           \n",
      "                                32)                                                               \n",
      "                                                                                                  \n",
      " conv2d_2 (Conv2D)              (None, None, None,   18496       ['max_pooling2d[0][0]']          \n",
      "                                64)                                                               \n",
      "                                                                                                  \n",
      " batch_normalization_2 (BatchNo  (None, None, None,   256        ['conv2d_2[0][0]']               \n",
      " rmalization)                   64)                                                               \n",
      "                                                                                                  \n",
      " activation_2 (Activation)      (None, None, None,   0           ['batch_normalization_2[0][0]']  \n",
      "                                64)                                                               \n",
      "                                                                                                  \n",
      " conv2d_3 (Conv2D)              (None, None, None,   36928       ['activation_2[0][0]']           \n",
      "                                64)                                                               \n",
      "                                                                                                  \n",
      " batch_normalization_3 (BatchNo  (None, None, None,   256        ['conv2d_3[0][0]']               \n",
      " rmalization)                   64)                                                               \n",
      "                                                                                                  \n",
      " activation_3 (Activation)      (None, None, None,   0           ['batch_normalization_3[0][0]']  \n",
      "                                64)                                                               \n",
      "                                                                                                  \n",
      " max_pooling2d_1 (MaxPooling2D)  (None, None, None,   0          ['activation_3[0][0]']           \n",
      "                                64)                                                               \n",
      "                                                                                                  \n",
      " conv2d_4 (Conv2D)              (None, None, None,   73856       ['max_pooling2d_1[0][0]']        \n",
      "                                128)                                                              \n",
      "                                                                                                  \n",
      " batch_normalization_4 (BatchNo  (None, None, None,   512        ['conv2d_4[0][0]']               \n",
      " rmalization)                   128)                                                              \n",
      "                                                                                                  \n",
      " activation_4 (Activation)      (None, None, None,   0           ['batch_normalization_4[0][0]']  \n",
      "                                128)                                                              \n",
      "                                                                                                  \n",
      " conv2d_5 (Conv2D)              (None, None, None,   147584      ['activation_4[0][0]']           \n",
      "                                128)                                                              \n",
      "                                                                                                  \n",
      " batch_normalization_5 (BatchNo  (None, None, None,   512        ['conv2d_5[0][0]']               \n",
      " rmalization)                   128)                                                              \n",
      "                                                                                                  \n",
      " activation_5 (Activation)      (None, None, None,   0           ['batch_normalization_5[0][0]']  \n",
      "                                128)                                                              \n",
      "                                                                                                  \n",
      " max_pooling2d_2 (MaxPooling2D)  (None, None, None,   0          ['activation_5[0][0]']           \n",
      "                                128)                                                              \n",
      "                                                                                                  \n",
      " conv2d_6 (Conv2D)              (None, None, None,   295168      ['max_pooling2d_2[0][0]']        \n",
      "                                256)                                                              \n",
      "                                                                                                  \n",
      " batch_normalization_6 (BatchNo  (None, None, None,   1024       ['conv2d_6[0][0]']               \n",
      " rmalization)                   256)                                                              \n",
      "                                                                                                  \n",
      " activation_6 (Activation)      (None, None, None,   0           ['batch_normalization_6[0][0]']  \n",
      "                                256)                                                              \n",
      "                                                                                                  \n",
      " conv2d_7 (Conv2D)              (None, None, None,   590080      ['activation_6[0][0]']           \n",
      "                                256)                                                              \n",
      "                                                                                                  \n",
      " batch_normalization_7 (BatchNo  (None, None, None,   1024       ['conv2d_7[0][0]']               \n",
      " rmalization)                   256)                                                              \n",
      "                                                                                                  \n",
      " activation_7 (Activation)      (None, None, None,   0           ['batch_normalization_7[0][0]']  \n",
      "                                256)                                                              \n",
      "                                                                                                  \n",
      " max_pooling2d_3 (MaxPooling2D)  (None, None, None,   0          ['activation_7[0][0]']           \n",
      "                                256)                                                              \n",
      "                                                                                                  \n",
      " conv2d_8 (Conv2D)              (None, None, None,   1180160     ['max_pooling2d_3[0][0]']        \n",
      "                                512)                                                              \n",
      "                                                                                                  \n",
      " batch_normalization_8 (BatchNo  (None, None, None,   2048       ['conv2d_8[0][0]']               \n",
      " rmalization)                   512)                                                              \n",
      "                                                                                                  \n",
      " activation_8 (Activation)      (None, None, None,   0           ['batch_normalization_8[0][0]']  \n",
      "                                512)                                                              \n",
      "                                                                                                  \n",
      " conv2d_9 (Conv2D)              (None, None, None,   2359808     ['activation_8[0][0]']           \n",
      "                                512)                                                              \n",
      "                                                                                                  \n",
      " batch_normalization_9 (BatchNo  (None, None, None,   2048       ['conv2d_9[0][0]']               \n",
      " rmalization)                   512)                                                              \n",
      "                                                                                                  \n",
      " activation_9 (Activation)      (None, None, None,   0           ['batch_normalization_9[0][0]']  \n",
      "                                512)                                                              \n",
      "                                                                                                  \n",
      " max_pooling2d_4 (MaxPooling2D)  (None, None, None,   0          ['activation_9[0][0]']           \n",
      "                                512)                                                              \n",
      "                                                                                                  \n",
      " conv2d_10 (Conv2D)             (None, None, None,   4719616     ['max_pooling2d_4[0][0]']        \n",
      "                                1024)                                                             \n",
      "                                                                                                  \n",
      " batch_normalization_10 (BatchN  (None, None, None,   4096       ['conv2d_10[0][0]']              \n",
      " ormalization)                  1024)                                                             \n",
      "                                                                                                  \n",
      " activation_10 (Activation)     (None, None, None,   0           ['batch_normalization_10[0][0]'] \n",
      "                                1024)                                                             \n",
      "                                                                                                  \n",
      " conv2d_11 (Conv2D)             (None, None, None,   9438208     ['activation_10[0][0]']          \n",
      "                                1024)                                                             \n",
      "                                                                                                  \n",
      " batch_normalization_11 (BatchN  (None, None, None,   4096       ['conv2d_11[0][0]']              \n",
      " ormalization)                  1024)                                                             \n",
      "                                                                                                  \n",
      " activation_11 (Activation)     (None, None, None,   0           ['batch_normalization_11[0][0]'] \n",
      "                                1024)                                                             \n",
      "                                                                                                  \n",
      " conv2d_transpose (Conv2DTransp  (None, None, None,   2097664    ['activation_11[0][0]']          \n",
      " ose)                           512)                                                              \n",
      "                                                                                                  \n",
      " concatenate (Concatenate)      (None, None, None,   0           ['activation_9[0][0]',           \n",
      "                                1024)                             'conv2d_transpose[0][0]']       \n",
      "                                                                                                  \n",
      " batch_normalization_12 (BatchN  (None, None, None,   4096       ['concatenate[0][0]']            \n",
      " ormalization)                  1024)                                                             \n",
      "                                                                                                  \n",
      " activation_12 (Activation)     (None, None, None,   0           ['batch_normalization_12[0][0]'] \n",
      "                                1024)                                                             \n",
      "                                                                                                  \n",
      " conv2d_12 (Conv2D)             (None, None, None,   4719104     ['activation_12[0][0]']          \n",
      "                                512)                                                              \n",
      "                                                                                                  \n",
      " batch_normalization_13 (BatchN  (None, None, None,   2048       ['conv2d_12[0][0]']              \n",
      " ormalization)                  512)                                                              \n",
      "                                                                                                  \n",
      " activation_13 (Activation)     (None, None, None,   0           ['batch_normalization_13[0][0]'] \n",
      "                                512)                                                              \n",
      "                                                                                                  \n",
      " conv2d_13 (Conv2D)             (None, None, None,   2359808     ['activation_13[0][0]']          \n",
      "                                512)                                                              \n",
      "                                                                                                  \n",
      " batch_normalization_14 (BatchN  (None, None, None,   2048       ['conv2d_13[0][0]']              \n",
      " ormalization)                  512)                                                              \n",
      "                                                                                                  \n",
      " activation_14 (Activation)     (None, None, None,   0           ['batch_normalization_14[0][0]'] \n",
      "                                512)                                                              \n",
      "                                                                                                  \n",
      " conv2d_transpose_1 (Conv2DTran  (None, None, None,   524544     ['activation_14[0][0]']          \n",
      " spose)                         256)                                                              \n",
      "                                                                                                  \n",
      " concatenate_1 (Concatenate)    (None, None, None,   0           ['activation_7[0][0]',           \n",
      "                                512)                              'conv2d_transpose_1[0][0]']     \n",
      "                                                                                                  \n",
      " batch_normalization_15 (BatchN  (None, None, None,   2048       ['concatenate_1[0][0]']          \n",
      " ormalization)                  512)                                                              \n",
      "                                                                                                  \n",
      " activation_15 (Activation)     (None, None, None,   0           ['batch_normalization_15[0][0]'] \n",
      "                                512)                                                              \n",
      "                                                                                                  \n",
      " conv2d_14 (Conv2D)             (None, None, None,   1179904     ['activation_15[0][0]']          \n",
      "                                256)                                                              \n",
      "                                                                                                  \n",
      " batch_normalization_16 (BatchN  (None, None, None,   1024       ['conv2d_14[0][0]']              \n",
      " ormalization)                  256)                                                              \n",
      "                                                                                                  \n",
      " activation_16 (Activation)     (None, None, None,   0           ['batch_normalization_16[0][0]'] \n",
      "                                256)                                                              \n",
      "                                                                                                  \n",
      " conv2d_15 (Conv2D)             (None, None, None,   590080      ['activation_16[0][0]']          \n",
      "                                256)                                                              \n",
      "                                                                                                  \n",
      " batch_normalization_17 (BatchN  (None, None, None,   1024       ['conv2d_15[0][0]']              \n",
      " ormalization)                  256)                                                              \n",
      "                                                                                                  \n",
      " activation_17 (Activation)     (None, None, None,   0           ['batch_normalization_17[0][0]'] \n",
      "                                256)                                                              \n",
      "                                                                                                  \n",
      " conv2d_transpose_2 (Conv2DTran  (None, None, None,   131200     ['activation_17[0][0]']          \n",
      " spose)                         128)                                                              \n",
      "                                                                                                  \n",
      " concatenate_2 (Concatenate)    (None, None, None,   0           ['activation_5[0][0]',           \n",
      "                                256)                              'conv2d_transpose_2[0][0]']     \n",
      "                                                                                                  \n",
      " batch_normalization_18 (BatchN  (None, None, None,   1024       ['concatenate_2[0][0]']          \n",
      " ormalization)                  256)                                                              \n",
      "                                                                                                  \n",
      " activation_18 (Activation)     (None, None, None,   0           ['batch_normalization_18[0][0]'] \n",
      "                                256)                                                              \n",
      "                                                                                                  \n",
      " conv2d_16 (Conv2D)             (None, None, None,   295040      ['activation_18[0][0]']          \n",
      "                                128)                                                              \n",
      "                                                                                                  \n",
      " batch_normalization_19 (BatchN  (None, None, None,   512        ['conv2d_16[0][0]']              \n",
      " ormalization)                  128)                                                              \n",
      "                                                                                                  \n",
      " activation_19 (Activation)     (None, None, None,   0           ['batch_normalization_19[0][0]'] \n",
      "                                128)                                                              \n",
      "                                                                                                  \n",
      " conv2d_17 (Conv2D)             (None, None, None,   147584      ['activation_19[0][0]']          \n",
      "                                128)                                                              \n",
      "                                                                                                  \n",
      " batch_normalization_20 (BatchN  (None, None, None,   512        ['conv2d_17[0][0]']              \n",
      " ormalization)                  128)                                                              \n",
      "                                                                                                  \n",
      " activation_20 (Activation)     (None, None, None,   0           ['batch_normalization_20[0][0]'] \n",
      "                                128)                                                              \n",
      "                                                                                                  \n",
      " conv2d_transpose_3 (Conv2DTran  (None, None, None,   32832      ['activation_20[0][0]']          \n",
      " spose)                         64)                                                               \n",
      "                                                                                                  \n",
      " concatenate_3 (Concatenate)    (None, None, None,   0           ['activation_3[0][0]',           \n",
      "                                128)                              'conv2d_transpose_3[0][0]']     \n",
      "                                                                                                  \n",
      " batch_normalization_21 (BatchN  (None, None, None,   512        ['concatenate_3[0][0]']          \n",
      " ormalization)                  128)                                                              \n",
      "                                                                                                  \n",
      " activation_21 (Activation)     (None, None, None,   0           ['batch_normalization_21[0][0]'] \n",
      "                                128)                                                              \n",
      "                                                                                                  \n",
      " conv2d_18 (Conv2D)             (None, None, None,   73792       ['activation_21[0][0]']          \n",
      "                                64)                                                               \n",
      "                                                                                                  \n",
      " batch_normalization_22 (BatchN  (None, None, None,   256        ['conv2d_18[0][0]']              \n",
      " ormalization)                  64)                                                               \n",
      "                                                                                                  \n",
      " activation_22 (Activation)     (None, None, None,   0           ['batch_normalization_22[0][0]'] \n",
      "                                64)                                                               \n",
      "                                                                                                  \n",
      " conv2d_19 (Conv2D)             (None, None, None,   36928       ['activation_22[0][0]']          \n",
      "                                64)                                                               \n",
      "                                                                                                  \n",
      " batch_normalization_23 (BatchN  (None, None, None,   256        ['conv2d_19[0][0]']              \n",
      " ormalization)                  64)                                                               \n",
      "                                                                                                  \n",
      " activation_23 (Activation)     (None, None, None,   0           ['batch_normalization_23[0][0]'] \n",
      "                                64)                                                               \n",
      "                                                                                                  \n",
      " conv2d_transpose_4 (Conv2DTran  (None, None, None,   8224       ['activation_23[0][0]']          \n",
      " spose)                         32)                                                               \n",
      "                                                                                                  \n",
      " concatenate_4 (Concatenate)    (None, None, None,   0           ['activation_1[0][0]',           \n",
      "                                64)                               'conv2d_transpose_4[0][0]']     \n",
      "                                                                                                  \n",
      " batch_normalization_24 (BatchN  (None, None, None,   256        ['concatenate_4[0][0]']          \n",
      " ormalization)                  64)                                                               \n",
      "                                                                                                  \n",
      " activation_24 (Activation)     (None, None, None,   0           ['batch_normalization_24[0][0]'] \n",
      "                                64)                                                               \n",
      "                                                                                                  \n",
      " conv2d_20 (Conv2D)             (None, None, None,   18464       ['activation_24[0][0]']          \n",
      "                                32)                                                               \n",
      "                                                                                                  \n",
      " batch_normalization_25 (BatchN  (None, None, None,   128        ['conv2d_20[0][0]']              \n",
      " ormalization)                  32)                                                               \n",
      "                                                                                                  \n",
      " activation_25 (Activation)     (None, None, None,   0           ['batch_normalization_25[0][0]'] \n",
      "                                32)                                                               \n",
      "                                                                                                  \n",
      " conv2d_21 (Conv2D)             (None, None, None,   9248        ['activation_25[0][0]']          \n",
      "                                32)                                                               \n",
      "                                                                                                  \n",
      " batch_normalization_26 (BatchN  (None, None, None,   128        ['conv2d_21[0][0]']              \n",
      " ormalization)                  32)                                                               \n",
      "                                                                                                  \n",
      " activation_26 (Activation)     (None, None, None,   0           ['batch_normalization_26[0][0]'] \n",
      "                                32)                                                               \n",
      "                                                                                                  \n",
      " conv2d_22 (Conv2D)             (None, None, None,   33          ['activation_26[0][0]']          \n",
      "                                1)                                                                \n",
      "                                                                                                  \n",
      "==================================================================================================\n",
      "Total params: 31,126,209\n",
      "Trainable params: 31,110,209\n",
      "Non-trainable params: 16,000\n",
      "__________________________________________________________________________________________________\n"
     ]
    }
   ],
   "source": [
    "m = get_model()\n",
    "m.summary()"
   ]
  },
  {
   "cell_type": "markdown",
   "id": "13a11e45-a869-4930-adc5-8e66a391063c",
   "metadata": {},
   "source": [
    "Train the model"
   ]
  },
  {
   "cell_type": "code",
   "execution_count": 12,
   "id": "9684a6db-f0f6-450e-9654-2868803a21fc",
   "metadata": {},
   "outputs": [
    {
     "name": "stdout",
     "output_type": "stream",
     "text": [
      "Epoch 1/10\n"
     ]
    },
    {
     "name": "stderr",
     "output_type": "stream",
     "text": [
      "2023-07-26 00:35:45.107647: I tensorflow/core/kernels/data/shuffle_dataset_op.cc:392] Filling up shuffle buffer (this may take a while): 1439 of 2000\n",
      "2023-07-26 00:35:49.055869: I tensorflow/core/kernels/data/shuffle_dataset_op.cc:417] Shuffle buffer filled.\n",
      "2023-07-26 00:35:51.219446: I tensorflow/compiler/xla/stream_executor/cuda/cuda_dnn.cc:428] Loaded cuDNN version 8200\n",
      "2023-07-26 00:36:02.507282: I tensorflow/compiler/xla/service/service.cc:173] XLA service 0x7f1ce4007420 initialized for platform CUDA (this does not guarantee that XLA will be used). Devices:\n",
      "2023-07-26 00:36:02.507333: I tensorflow/compiler/xla/service/service.cc:181]   StreamExecutor device (0): Tesla T4, Compute Capability 7.5\n",
      "2023-07-26 00:36:02.557073: I tensorflow/compiler/mlir/tensorflow/utils/dump_mlir_util.cc:268] disabling MLIR crash reproducer, set env var `MLIR_CRASH_REPRODUCER_DIRECTORY` to enable.\n",
      "2023-07-26 00:36:03.406221: I tensorflow/compiler/jit/xla_compilation_cache.cc:477] Compiled cluster using XLA!  This line is logged at most once for the lifetime of the process.\n"
     ]
    },
    {
     "name": "stdout",
     "output_type": "stream",
     "text": [
      " 742/1000 [=====================>........] - ETA: 1:50 - loss: 0.0135 - root_mean_squared_error: 0.1160"
     ]
    },
    {
     "name": "stderr",
     "output_type": "stream",
     "text": [
      "2023-07-26 00:41:42.642749: I tensorflow/core/kernels/data/shuffle_dataset_op.cc:392] Filling up shuffle buffer (this may take a while): 1015 of 2000\n"
     ]
    },
    {
     "name": "stdout",
     "output_type": "stream",
     "text": [
      " 743/1000 [=====================>........] - ETA: 1:52 - loss: 0.0135 - root_mean_squared_error: 0.1161"
     ]
    },
    {
     "name": "stderr",
     "output_type": "stream",
     "text": [
      "2023-07-26 00:41:49.183904: I tensorflow/core/kernels/data/shuffle_dataset_op.cc:417] Shuffle buffer filled.\n"
     ]
    },
    {
     "name": "stdout",
     "output_type": "stream",
     "text": [
      "1000/1000 [==============================] - 633s 584ms/step - loss: 0.0132 - root_mean_squared_error: 0.1147 - val_loss: 0.0156 - val_root_mean_squared_error: 0.1248\n",
      "Epoch 2/10\n",
      " 486/1000 [=============>................] - ETA: 3:39 - loss: 0.0103 - root_mean_squared_error: 0.1017"
     ]
    },
    {
     "name": "stderr",
     "output_type": "stream",
     "text": [
      "2023-07-26 00:49:32.877956: I tensorflow/core/kernels/data/shuffle_dataset_op.cc:392] Filling up shuffle buffer (this may take a while): 1283 of 2000\n",
      "2023-07-26 00:49:37.135057: I tensorflow/core/kernels/data/shuffle_dataset_op.cc:417] Shuffle buffer filled.\n"
     ]
    },
    {
     "name": "stdout",
     "output_type": "stream",
     "text": [
      "1000/1000 [==============================] - 577s 577ms/step - loss: 0.0096 - root_mean_squared_error: 0.0979 - val_loss: 0.0173 - val_root_mean_squared_error: 0.1316\n",
      "Epoch 3/10\n",
      " 220/1000 [=====>........................] - ETA: 5:32 - loss: 0.0133 - root_mean_squared_error: 0.1155"
     ]
    },
    {
     "name": "stderr",
     "output_type": "stream",
     "text": [
      "2023-07-26 00:57:12.949364: I tensorflow/core/kernels/data/shuffle_dataset_op.cc:392] Filling up shuffle buffer (this may take a while): 1011 of 2000\n"
     ]
    },
    {
     "name": "stdout",
     "output_type": "stream",
     "text": [
      " 229/1000 [=====>........................] - ETA: 5:28 - loss: 0.0133 - root_mean_squared_error: 0.1154"
     ]
    },
    {
     "name": "stderr",
     "output_type": "stream",
     "text": [
      "2023-07-26 00:57:20.274686: I tensorflow/core/kernels/data/shuffle_dataset_op.cc:417] Shuffle buffer filled.\n"
     ]
    },
    {
     "name": "stdout",
     "output_type": "stream",
     "text": [
      " 932/1000 [==========================>...] - ETA: 29s - loss: 0.0106 - root_mean_squared_error: 0.1028"
     ]
    },
    {
     "name": "stderr",
     "output_type": "stream",
     "text": [
      "2023-07-26 01:02:20.566877: I tensorflow/core/kernels/data/shuffle_dataset_op.cc:392] Filling up shuffle buffer (this may take a while): 1100 of 2000\n"
     ]
    },
    {
     "name": "stdout",
     "output_type": "stream",
     "text": [
      " 950/1000 [===========================>..] - ETA: 21s - loss: 0.0106 - root_mean_squared_error: 0.1032"
     ]
    },
    {
     "name": "stderr",
     "output_type": "stream",
     "text": [
      "2023-07-26 01:02:28.557129: I tensorflow/core/kernels/data/shuffle_dataset_op.cc:417] Shuffle buffer filled.\n"
     ]
    },
    {
     "name": "stdout",
     "output_type": "stream",
     "text": [
      "1000/1000 [==============================] - 573s 573ms/step - loss: 0.0109 - root_mean_squared_error: 0.1042 - val_loss: 0.0158 - val_root_mean_squared_error: 0.1255\n",
      "Epoch 4/10\n",
      " 675/1000 [===================>..........] - ETA: 2:18 - loss: 0.0091 - root_mean_squared_error: 0.0954"
     ]
    },
    {
     "name": "stderr",
     "output_type": "stream",
     "text": [
      "2023-07-26 01:09:59.603406: I tensorflow/core/kernels/data/shuffle_dataset_op.cc:392] Filling up shuffle buffer (this may take a while): 1100 of 2000\n"
     ]
    },
    {
     "name": "stdout",
     "output_type": "stream",
     "text": [
      " 696/1000 [===================>..........] - ETA: 2:09 - loss: 0.0092 - root_mean_squared_error: 0.0961"
     ]
    },
    {
     "name": "stderr",
     "output_type": "stream",
     "text": [
      "2023-07-26 01:10:08.837919: I tensorflow/core/kernels/data/shuffle_dataset_op.cc:417] Shuffle buffer filled.\n"
     ]
    },
    {
     "name": "stdout",
     "output_type": "stream",
     "text": [
      "1000/1000 [==============================] - 569s 569ms/step - loss: 0.0094 - root_mean_squared_error: 0.0972 - val_loss: 0.0140 - val_root_mean_squared_error: 0.1183\n",
      "Epoch 5/10\n",
      " 417/1000 [===========>..................] - ETA: 4:08 - loss: 0.0084 - root_mean_squared_error: 0.0918"
     ]
    },
    {
     "name": "stderr",
     "output_type": "stream",
     "text": [
      "2023-07-26 01:17:38.489294: I tensorflow/core/kernels/data/shuffle_dataset_op.cc:392] Filling up shuffle buffer (this may take a while): 1106 of 2000\n"
     ]
    },
    {
     "name": "stdout",
     "output_type": "stream",
     "text": [
      " 436/1000 [============>.................] - ETA: 4:00 - loss: 0.0086 - root_mean_squared_error: 0.0930"
     ]
    },
    {
     "name": "stderr",
     "output_type": "stream",
     "text": [
      "2023-07-26 01:17:46.538199: I tensorflow/core/kernels/data/shuffle_dataset_op.cc:417] Shuffle buffer filled.\n"
     ]
    },
    {
     "name": "stdout",
     "output_type": "stream",
     "text": [
      "1000/1000 [==============================] - 546s 546ms/step - loss: 0.0084 - root_mean_squared_error: 0.0919 - val_loss: 0.0152 - val_root_mean_squared_error: 0.1235\n",
      "Epoch 6/10\n",
      " 161/1000 [===>..........................] - ETA: 5:56 - loss: 0.0127 - root_mean_squared_error: 0.1128"
     ]
    },
    {
     "name": "stderr",
     "output_type": "stream",
     "text": [
      "2023-07-26 01:24:54.444970: I tensorflow/core/kernels/data/shuffle_dataset_op.cc:392] Filling up shuffle buffer (this may take a while): 1100 of 2000\n"
     ]
    },
    {
     "name": "stdout",
     "output_type": "stream",
     "text": [
      " 181/1000 [====>.........................] - ETA: 5:48 - loss: 0.0127 - root_mean_squared_error: 0.1129"
     ]
    },
    {
     "name": "stderr",
     "output_type": "stream",
     "text": [
      "2023-07-26 01:25:02.912463: I tensorflow/core/kernels/data/shuffle_dataset_op.cc:417] Shuffle buffer filled.\n"
     ]
    },
    {
     "name": "stdout",
     "output_type": "stream",
     "text": [
      " 903/1000 [==========================>...] - ETA: 41s - loss: 0.0095 - root_mean_squared_error: 0.0976"
     ]
    },
    {
     "name": "stderr",
     "output_type": "stream",
     "text": [
      "2023-07-26 01:30:11.279791: I tensorflow/core/kernels/data/shuffle_dataset_op.cc:392] Filling up shuffle buffer (this may take a while): 917 of 2000\n"
     ]
    },
    {
     "name": "stdout",
     "output_type": "stream",
     "text": [
      " 926/1000 [==========================>...] - ETA: 31s - loss: 0.0096 - root_mean_squared_error: 0.0981"
     ]
    },
    {
     "name": "stderr",
     "output_type": "stream",
     "text": [
      "2023-07-26 01:30:20.810722: I tensorflow/core/kernels/data/shuffle_dataset_op.cc:417] Shuffle buffer filled.\n"
     ]
    },
    {
     "name": "stdout",
     "output_type": "stream",
     "text": [
      "1000/1000 [==============================] - 568s 568ms/step - loss: 0.0099 - root_mean_squared_error: 0.0994 - val_loss: 0.0169 - val_root_mean_squared_error: 0.1298\n",
      "Epoch 7/10\n",
      " 646/1000 [==================>...........] - ETA: 2:31 - loss: 0.0080 - root_mean_squared_error: 0.0895"
     ]
    },
    {
     "name": "stderr",
     "output_type": "stream",
     "text": [
      "2023-07-26 01:37:50.484579: I tensorflow/core/kernels/data/shuffle_dataset_op.cc:392] Filling up shuffle buffer (this may take a while): 1087 of 2000\n"
     ]
    },
    {
     "name": "stdout",
     "output_type": "stream",
     "text": [
      " 666/1000 [==================>...........] - ETA: 2:22 - loss: 0.0082 - root_mean_squared_error: 0.0904"
     ]
    },
    {
     "name": "stderr",
     "output_type": "stream",
     "text": [
      "2023-07-26 01:37:58.866174: I tensorflow/core/kernels/data/shuffle_dataset_op.cc:417] Shuffle buffer filled.\n"
     ]
    },
    {
     "name": "stdout",
     "output_type": "stream",
     "text": [
      "1000/1000 [==============================] - 546s 546ms/step - loss: 0.0083 - root_mean_squared_error: 0.0913 - val_loss: 0.0599 - val_root_mean_squared_error: 0.2447\n",
      "Epoch 8/10\n",
      " 389/1000 [==========>...................] - ETA: 4:20 - loss: 0.0082 - root_mean_squared_error: 0.0904"
     ]
    },
    {
     "name": "stderr",
     "output_type": "stream",
     "text": [
      "2023-07-26 01:45:06.798235: I tensorflow/core/kernels/data/shuffle_dataset_op.cc:392] Filling up shuffle buffer (this may take a while): 818 of 2000\n"
     ]
    },
    {
     "name": "stdout",
     "output_type": "stream",
     "text": [
      " 413/1000 [===========>..................] - ETA: 4:10 - loss: 0.0084 - root_mean_squared_error: 0.0918"
     ]
    },
    {
     "name": "stderr",
     "output_type": "stream",
     "text": [
      "2023-07-26 01:45:16.799730: I tensorflow/core/kernels/data/shuffle_dataset_op.cc:392] Filling up shuffle buffer (this may take a while): 1740 of 2000\n"
     ]
    },
    {
     "name": "stdout",
     "output_type": "stream",
     "text": [
      " 418/1000 [===========>..................] - ETA: 4:08 - loss: 0.0085 - root_mean_squared_error: 0.0922"
     ]
    },
    {
     "name": "stderr",
     "output_type": "stream",
     "text": [
      "2023-07-26 01:45:19.248689: I tensorflow/core/kernels/data/shuffle_dataset_op.cc:417] Shuffle buffer filled.\n"
     ]
    },
    {
     "name": "stdout",
     "output_type": "stream",
     "text": [
      "1000/1000 [==============================] - 569s 569ms/step - loss: 0.0077 - root_mean_squared_error: 0.0880 - val_loss: 0.0187 - val_root_mean_squared_error: 0.1369\n",
      "Epoch 9/10\n",
      " 132/1000 [==>...........................] - ETA: 6:14 - loss: 0.0121 - root_mean_squared_error: 0.1099"
     ]
    },
    {
     "name": "stderr",
     "output_type": "stream",
     "text": [
      "2023-07-26 01:52:46.643252: I tensorflow/core/kernels/data/shuffle_dataset_op.cc:392] Filling up shuffle buffer (this may take a while): 1055 of 2000\n"
     ]
    },
    {
     "name": "stdout",
     "output_type": "stream",
     "text": [
      " 153/1000 [===>..........................] - ETA: 6:05 - loss: 0.0121 - root_mean_squared_error: 0.1101"
     ]
    },
    {
     "name": "stderr",
     "output_type": "stream",
     "text": [
      "2023-07-26 01:52:55.339778: I tensorflow/core/kernels/data/shuffle_dataset_op.cc:417] Shuffle buffer filled.\n"
     ]
    },
    {
     "name": "stdout",
     "output_type": "stream",
     "text": [
      " 875/1000 [=========================>....] - ETA: 53s - loss: 0.0088 - root_mean_squared_error: 0.0935"
     ]
    },
    {
     "name": "stderr",
     "output_type": "stream",
     "text": [
      "2023-07-26 01:58:03.834192: I tensorflow/core/kernels/data/shuffle_dataset_op.cc:392] Filling up shuffle buffer (this may take a while): 892 of 2000\n"
     ]
    },
    {
     "name": "stdout",
     "output_type": "stream",
     "text": [
      " 899/1000 [=========================>....] - ETA: 43s - loss: 0.0088 - root_mean_squared_error: 0.0940"
     ]
    },
    {
     "name": "stderr",
     "output_type": "stream",
     "text": [
      "2023-07-26 01:58:13.825523: I tensorflow/core/kernels/data/shuffle_dataset_op.cc:392] Filling up shuffle buffer (this may take a while): 1730 of 2000\n"
     ]
    },
    {
     "name": "stdout",
     "output_type": "stream",
     "text": [
      " 904/1000 [==========================>...] - ETA: 41s - loss: 0.0089 - root_mean_squared_error: 0.0942"
     ]
    },
    {
     "name": "stderr",
     "output_type": "stream",
     "text": [
      "2023-07-26 01:58:16.144478: I tensorflow/core/kernels/data/shuffle_dataset_op.cc:417] Shuffle buffer filled.\n"
     ]
    },
    {
     "name": "stdout",
     "output_type": "stream",
     "text": [
      "1000/1000 [==============================] - 569s 570ms/step - loss: 0.0092 - root_mean_squared_error: 0.0959 - val_loss: 0.0165 - val_root_mean_squared_error: 0.1286\n",
      "Epoch 10/10\n",
      " 621/1000 [=================>............] - ETA: 2:42 - loss: 0.0072 - root_mean_squared_error: 0.0850"
     ]
    },
    {
     "name": "stderr",
     "output_type": "stream",
     "text": [
      "2023-07-26 02:05:44.255915: I tensorflow/core/kernels/data/shuffle_dataset_op.cc:392] Filling up shuffle buffer (this may take a while): 551 of 2000\n"
     ]
    },
    {
     "name": "stdout",
     "output_type": "stream",
     "text": [
      " 642/1000 [==================>...........] - ETA: 2:33 - loss: 0.0074 - root_mean_squared_error: 0.0860"
     ]
    },
    {
     "name": "stderr",
     "output_type": "stream",
     "text": [
      "2023-07-26 02:05:53.232844: I tensorflow/core/kernels/data/shuffle_dataset_op.cc:392] Filling up shuffle buffer (this may take a while): 1236 of 2000\n"
     ]
    },
    {
     "name": "stdout",
     "output_type": "stream",
     "text": [
      " 659/1000 [==================>...........] - ETA: 2:25 - loss: 0.0075 - root_mean_squared_error: 0.0866"
     ]
    },
    {
     "name": "stderr",
     "output_type": "stream",
     "text": [
      "2023-07-26 02:06:03.233074: I tensorflow/core/kernels/data/shuffle_dataset_op.cc:392] Filling up shuffle buffer (this may take a while): 1928 of 2000\n",
      "2023-07-26 02:06:03.827760: I tensorflow/core/kernels/data/shuffle_dataset_op.cc:417] Shuffle buffer filled.\n"
     ]
    },
    {
     "name": "stdout",
     "output_type": "stream",
     "text": [
      "1000/1000 [==============================] - 574s 574ms/step - loss: 0.0074 - root_mean_squared_error: 0.0861 - val_loss: 0.0115 - val_root_mean_squared_error: 0.1071\n"
     ]
    }
   ],
   "source": [
    "m.fit(\n",
    "    x=training,\n",
    "    epochs=EPOCHS,\n",
    "    steps_per_epoch=int(TRAIN_SIZE / BATCH_SIZE),\n",
    "    validation_data=evaluation,\n",
    "    validation_steps=EVAL_SIZE)\n",
    "\n",
    "m.save_weights('./params/normalized')"
   ]
  },
  {
   "cell_type": "code",
   "execution_count": 15,
   "id": "770d3981-6624-4aab-b357-ee2e4a710c80",
   "metadata": {},
   "outputs": [
    {
     "name": "stdout",
     "output_type": "stream",
     "text": [
      "1000/1000 - 16s - loss: 0.0166 - root_mean_squared_error: 0.1290 - 16s/epoch - 16ms/step\n",
      "Restored model, accuracy: 12.90%\n"
     ]
    }
   ],
   "source": [
    "# Restore the weights\n",
    "m.load_weights('./params/normalized')\n",
    "\n",
    "# Evaluate the model\n",
    "loss, acc = m.evaluate(x=evaluation, verbose=2, steps=1000)\n",
    "print(\"Restored model, accuracy: {:5.2f}%\".format(100 * acc))"
   ]
  },
  {
   "cell_type": "code",
   "execution_count": null,
   "id": "a0d66a56-d70a-4c9b-b535-31f16f21c488",
   "metadata": {},
   "outputs": [],
   "source": []
  }
 ],
 "metadata": {
  "environment": {
   "kernel": "python3",
   "name": "tf2-gpu.2-11.m109",
   "type": "gcloud",
   "uri": "gcr.io/deeplearning-platform-release/tf2-gpu.2-11:m109"
  },
  "kernelspec": {
   "display_name": "Python 3",
   "language": "python",
   "name": "python3"
  },
  "language_info": {
   "codemirror_mode": {
    "name": "ipython",
    "version": 3
   },
   "file_extension": ".py",
   "mimetype": "text/x-python",
   "name": "python",
   "nbconvert_exporter": "python",
   "pygments_lexer": "ipython3",
   "version": "3.7.12"
  }
 },
 "nbformat": 4,
 "nbformat_minor": 5
}
